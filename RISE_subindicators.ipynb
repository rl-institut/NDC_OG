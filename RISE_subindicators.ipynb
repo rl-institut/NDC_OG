{
 "cells": [
  {
   "cell_type": "code",
   "execution_count": null,
   "metadata": {},
   "outputs": [],
   "source": [
    "import requests\n",
    "from bs4 import BeautifulSoup\n",
    "import pandas as pd"
   ]
  },
  {
   "cell_type": "code",
   "execution_count": null,
   "metadata": {},
   "outputs": [],
   "source": [
    "raw_data = pd.read_csv('data/raw_data.csv')\n",
    "ndc_countries = raw_data['country_wb'].to_list()"
   ]
  },
  {
   "cell_type": "markdown",
   "metadata": {},
   "source": [
    "*Source*: https://rise.worldbank.org/country"
   ]
  },
  {
   "cell_type": "code",
   "execution_count": null,
   "metadata": {},
   "outputs": [],
   "source": [
    "# without headers the website rejects the request (look at your Network Monitor to see which one to use)\n",
    "HDR = {\n",
    "    'User-Agent': 'Mozilla/5.0 (X11; Ubuntu; Linux x86_64; rv:69.0) Gecko/20100101 Firefox/69.0'\n",
    "}\n",
    "\n",
    "def get_country_info(country):\n",
    "    \"\"\"Extract relevant info about a country\"\"\"\n",
    "    page = requests.get('https://rise.worldbank.org/country/{}'.format(country), headers=HDR)\n",
    "    \n",
    "    soup = BeautifulSoup(page.text, 'html.parser')\n",
    "    node_number = int(soup.find_all('a', class_='Prt')[0]['href'].split('/')[-1])\n",
    "\n",
    "    xls_io = requests.get(f'https://rise.worldbank.org/export/excel/{node_number}?country={node_number}', headers=HDR)\n",
    "\n",
    "    fname = '{}_info.xls'.format(country)\n",
    "    output = open(fname, 'wb')\n",
    "    output.write(xls_io.content)\n",
    "    output.close()\n",
    "    \n",
    "    \n",
    "    return pd.read_excel(fname)"
   ]
  },
  {
   "cell_type": "markdown",
   "metadata": {},
   "source": [
    "Get list of countries of World Bank database"
   ]
  },
  {
   "cell_type": "code",
   "execution_count": null,
   "metadata": {},
   "outputs": [],
   "source": [
    "page = requests.get('https://rise.worldbank.org/countries', headers=HDR)\n",
    "soup = BeautifulSoup(page.text, 'html.parser')\n",
    "\n",
    "countries = soup.find_all('div', class_='country-name')\n",
    "countries_names = []\n",
    "for i in range(len(countries)):\n",
    "    country_name = list(countries[i].children)[0]['href'].split('/')[2]\n",
    "    print(country_name)\n",
    "    countries_names.append(country_name)"
   ]
  },
  {
   "cell_type": "code",
   "execution_count": null,
   "metadata": {},
   "outputs": [],
   "source": [
    "raw_data = pd.read_csv('data/raw_data.csv')\n",
    "ndc_countries = raw_data['country_wb'].to_list()\n",
    "\n",
    "missing = []\n",
    "matching = []\n",
    "\n",
    "for c in ndc_countries:\n",
    "    if c in countries_names:\n",
    "        matching.append(c)\n",
    "    else:\n",
    "        missing.append(c)\n",
    "missing\n",
    "\n"
   ]
  },
  {
   "cell_type": "code",
   "execution_count": null,
   "metadata": {},
   "outputs": [],
   "source": [
    "# Download the info of the matching countries (slow)\n",
    "for c in matching:\n",
    "    get_country_info(c)"
   ]
  }
 ],
 "metadata": {
  "kernelspec": {
   "display_name": "Python 3",
   "language": "python",
   "name": "python3"
  },
  "language_info": {
   "codemirror_mode": {
    "name": "ipython",
    "version": 3
   },
   "file_extension": ".py",
   "mimetype": "text/x-python",
   "name": "python",
   "nbconvert_exporter": "python",
   "pygments_lexer": "ipython3",
   "version": "3.6.7"
  }
 },
 "nbformat": 4,
 "nbformat_minor": 2
}
