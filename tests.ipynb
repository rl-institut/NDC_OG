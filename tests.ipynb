{
 "cells": [
  {
   "cell_type": "code",
   "execution_count": null,
   "metadata": {},
   "outputs": [],
   "source": [
    "import numpy as np\n",
    "import pandas as pd\n",
    "\n",
    "GRID = 'grid'\n",
    "MG = 'mg'\n",
    "SHS = 'shs'\n",
    "ELECTRIFICATION_OPTIONS = [GRID, MG, SHS]\n",
    "BAU_SCENARIO = 'bau'\n",
    "SE4ALL_SCENARIO = 'se4all'\n",
    "SE4ALL_FLEX_SCENARIO = 'se4all_shift'\n",
    "PROG_SCENARIO = 'prog'\n",
    "SCENARIOS = [BAU_SCENARIO, SE4ALL_SCENARIO, PROG_SCENARIO]\n",
    "\n",
    "# Names for display\n",
    "SCENARIOS_DICT = {\n",
    "    BAU_SCENARIO: 'BaU',\n",
    "    SE4ALL_SCENARIO: 'SE4All',\n",
    "    PROG_SCENARIO: 'prOG',\n",
    "}\n",
    "\n",
    "ELECTRIFICATION_DICT = {\n",
    "    GRID: 'Grid',\n",
    "    MG: 'Mini Grid',\n",
    "    SHS: 'Solar Home System'\n",
    "}\n",
    "\n",
    "# column names of the exogenous results\n",
    "POP_GET = ['pop_get_%s_2030' % opt for opt in ELECTRIFICATION_OPTIONS]\n",
    "HH_GET = ['hh_get_%s_2030' % opt for opt in ELECTRIFICATION_OPTIONS]\n",
    "HH_CAP = ['hh_%s_capacity' % opt for opt in ELECTRIFICATION_OPTIONS]\n",
    "HH_SCN2 = ['hh_cap_scn2_%s_capacity' % opt for opt in ELECTRIFICATION_OPTIONS]\n",
    "INVEST = ['%s_investment_cost' % opt for opt in ELECTRIFICATION_OPTIONS]\n",
    "INVEST_CAP = ['tier_capped_%s_investment_cost' % opt for opt in ELECTRIFICATION_OPTIONS]\n",
    "GHG = ['ghg_%s_2017' % opt for opt in [GRID, MG]] + ['ghg_%s_2030' % opt for opt in ELECTRIFICATION_OPTIONS] + ['ghg_grid_cumul', 'ghg_mg_cumul']\n",
    "GHG_CAP = ['tier_capped_ghg_%s_2030' % opt for opt in ELECTRIFICATION_OPTIONS]\n",
    "EXO_RESULTS = POP_GET + HH_GET + HH_CAP + HH_SCN2 + INVEST + INVEST_CAP + GHG + GHG_CAP\n",
    "\n",
    "# source http://www.worldbank.org/content/dam/Worldbank/Topics/Energy%20and%20Extract/\n",
    "# Beyond_Connections_Energy_Access_Redefined_Exec_ESMAP_2015.pdf\n",
    "MIN_TIER_LEVEL = 3\n",
    "MIN_RATED_CAPACITY = {1: 3, 2: 50, 3: 200, 4: 800, 5: 2000}  # index is TIER level [W]\n",
    "MIN_ANNUAL_CONSUMPTION = {1: 4.5, 2: 73, 3: 365, 4: 1250, 5: 3000}  # index is TIER level [kWh/a]\n",
    "RATIO_CAP_CONSUMPTION = {}\n",
    "\n",
    "# Investment Cost Source: Arranz and Worldbank,\n",
    "# BENCHMARKING STUDY OF SOLAR PV MINIGRIDS INVESTMENT COSTS, 2017 (Jabref)\n",
    "# unit is USD per household\n",
    "MEDIAN_INVESTMENT_COST = {1: 742, 2: 1273, 3: 2516, 4: 5277, 5: 5492}\n",
    "\n",
    "# drives for the socio-economic model\n",
    "IMPACT_FACTORS = pd.DataFrame(\n",
    "    {\n",
    "        MG: [3, 13. / 6, 19. / 6, 3.25, 11. / 3],\n",
    "        SHS: [23. / 12, 4.5, 37. / 12, 17. / 6, 41. / 12],\n",
    "        'labels': [\n",
    "            'high_gdp',\n",
    "            'high_mobile_money',\n",
    "            'high_ease_doing_business',\n",
    "            'low_corruption',\n",
    "            'high_grid_weakness'\n",
    "        ]\n",
    "    }\n",
    ")\n",
    "IMPACT_FACTORS = IMPACT_FACTORS.set_index('labels')\n",
    "\n",
    "MENTI_DRIVES = ['gdp', 'mobile_money', 'ease_doing_business', 'corruption', 'weak_grid']\n",
    "\n",
    "# $RT_shift_factors.$P$2\n",
    "WEIGHT_MENTIS = 0.2\n",
    "# -->WEIGHT_GRID = 0.8 ($RT_shift_factors.$O$2)  and  WEIGHT_GRID = 1 - WEIGHT_MENTIS\n",
    "RISE_INDICES = ['rise_%s' % opt for opt in ELECTRIFICATION_OPTIONS]\n",
    "SHIFT_MENTI = ['shift_menti_mg', 'shift_menti_shs']\n",
    "\n",
    "BASIC_ROWS = [\n",
    "    'People share',\n",
    "    'People (k)',\n",
    "    'HH (k)',\n",
    "    'HH cap. (MW)',\n",
    "    'HH cap. (MW) (TIER + 1)',\n",
    "    'Investment MUSD',\n",
    "    'Investment (TIER + 1) MUSD',\n",
    "]\n",
    "# labels of the columns of the result tables\n",
    "LABEL_COLUMNS = ELECTRIFICATION_DICT.copy()\n",
    "# a column for the row labels\n",
    "LABEL_COLUMNS['labels'] = ''\n",
    "LABEL_COLUMNS['total'] = 'Total'\n",
    "BASIC_COLUMNS_ID = ['labels'] + ELECTRIFICATION_OPTIONS + ['total']\n",
    "GHG_COLUMNS_ID = ['labels'] + ELECTRIFICATION_OPTIONS + ['total']\n",
    "COMPARE_COLUMNS_ID = ['labels']\n",
    "for opt in ELECTRIFICATION_OPTIONS + ['total']:\n",
    "    COMPARE_COLUMNS_ID.append(opt)\n",
    "    COMPARE_COLUMNS_ID.append('comp_{}'.format(opt))\n"
   ]
  },
  {
   "cell_type": "code",
   "execution_count": null,
   "metadata": {},
   "outputs": [],
   "source": [
    "from data.data_preparation import compute_ndc_results_from_raw_data\n",
    "for sce in SCENARIOS:\n",
    "    df = compute_ndc_results_from_raw_data(sce, MIN_TIER_LEVEL)\n",
    "    \n",
    "    df = df[EXO_RESULTS].sum(axis=0)\n",
    "    print(sce)\n",
    "    print(df)\n",
    "    df.to_csv('NDC_results_{}.csv'.format(sce))"
   ]
  },
  {
   "cell_type": "code",
   "execution_count": null,
   "metadata": {},
   "outputs": [],
   "source": [
    "from data.data_preparation import SHS_SALES_VOLUMES, SHS_POWER_CATEGORIES, SHS_AVERAGE_INVESTMENT_COST"
   ]
  },
  {
   "cell_type": "code",
   "execution_count": null,
   "metadata": {},
   "outputs": [],
   "source": [
    "SHS_SALES_VOLUMES"
   ]
  },
  {
   "cell_type": "code",
   "execution_count": null,
   "metadata": {},
   "outputs": [],
   "source": [
    "SHS_AVERAGE_INVESTMENT_COST\n",
    "shs_costs = pd.read_csv('data/shs_power_investment_cost.csv', comment='#')\n",
    "shs_costs"
   ]
  },
  {
   "cell_type": "markdown",
   "metadata": {},
   "source": [
    "## Test TIER level attribution"
   ]
  },
  {
   "cell_type": "code",
   "execution_count": null,
   "metadata": {},
   "outputs": [],
   "source": [
    "from data_preparation import _find_tier_level\n",
    "\n",
    "for hh_cons in np.array([1, 50, 100, 400, 2000, 5000]):\n",
    "    print(_find_tier_level(hh_cons, 2))"
   ]
  },
  {
   "cell_type": "code",
   "execution_count": null,
   "metadata": {},
   "outputs": [],
   "source": [
    "from data_preparation import _slope_capacity_vs_yearly_consumption\n",
    "RATIO_CAP_CONSUMPTION = {}\n",
    "TIER_LEVELS = [1, 2, 3, 4, 5]\n",
    "for tier_lvl in [1, 2, 3, 4]:\n",
    "    RATIO_CAP_CONSUMPTION[tier_lvl] = _slope_capacity_vs_yearly_consumption(tier_lvl)\n",
    "RATIO_CAP_CONSUMPTION"
   ]
  },
  {
   "cell_type": "code",
   "execution_count": null,
   "metadata": {},
   "outputs": [],
   "source": [
    "MIN_RATED_CAPACITY = {1: 3, 2: 50, 3: 200, 4: 800, 5: 2000}  # index is TIER level [W]\n",
    "MIN_ANNUAL_CONSUMPTION = {1: 4.5, 2: 73, 3: 365, 4: 1250, 5: 3000}  # index is TIER level [kWh/a]"
   ]
  },
  {
   "cell_type": "code",
   "execution_count": null,
   "metadata": {},
   "outputs": [],
   "source": [
    "for tier_lvl in TIER_LEVELS:\n",
    "    print(MIN_RATED_CAPACITY[tier_lvl] / MIN_ANNUAL_CONSUMPTION[tier_lvl])"
   ]
  },
  {
   "cell_type": "code",
   "execution_count": null,
   "metadata": {},
   "outputs": [],
   "source": [
    "cap = [MIN_RATED_CAPACITY[i] for i in TIER_LEVELS]\n",
    "df = pd.DataFrame(cap)\n",
    "df[0].plot()"
   ]
  },
  {
   "cell_type": "code",
   "execution_count": null,
   "metadata": {},
   "outputs": [],
   "source": [
    "cons = [MIN_ANNUAL_CONSUMPTION[i] for i in TIER_LEVELS]\n",
    "df = pd.DataFrame(cons)\n",
    "df[0].plot()"
   ]
  },
  {
   "cell_type": "code",
   "execution_count": null,
   "metadata": {},
   "outputs": [],
   "source": [
    "from data_preparation import IMPACT_FACTORS\n",
    "IMPACT_FACTORS.index.to_list()"
   ]
  },
  {
   "cell_type": "code",
   "execution_count": null,
   "metadata": {},
   "outputs": [],
   "source": [
    "for opt in [MG, SHS]:\n",
    "    for input_name in IMPACT_FACTORS.index.to_list():\n",
    "        #print(\"Input('impact-{}-{}-input', 'value'),\".format(opt, input_name.replace('_', '-')))\n",
    "        print('impact_{}_{},'.format(opt, input_name.replace('high', '')))\n",
    "\n"
   ]
  },
  {
   "cell_type": "markdown",
   "metadata": {},
   "source": [
    "# Tests of the model"
   ]
  },
  {
   "cell_type": "code",
   "execution_count": null,
   "metadata": {},
   "outputs": [],
   "source": [
    "from data.data_preparation import compute_ndc_results_from_raw_data\n",
    "SCENARIOS_DATA = {\n",
    "    sce: compute_ndc_results_from_raw_data(sce, MIN_TIER_LEVEL).to_json() for sce in SCENARIOS\n",
    "}"
   ]
  },
  {
   "cell_type": "code",
   "execution_count": null,
   "metadata": {},
   "outputs": [],
   "source": [
    "se_df = pd.read_json(SCENARIOS_DATA[SE4ALL_SCENARIO])"
   ]
  },
  {
   "cell_type": "code",
   "execution_count": null,
   "metadata": {},
   "outputs": [],
   "source": [
    "a = se_df[POP_GET ]\n",
    "a['summe'] = a.sum(axis=1)\n",
    "a['tot'] = se_df['pop_newly_electrified_2030']\n",
    "a['diffe'] = a.tot.values - a.summe.values\n",
    "a.loc[a.diffe > 5e-9]\n",
    "a[POP_GET] = a[POP_GET].div(se_df.pop_newly_electrified_2030, axis=0)\n",
    "a['summe'] = a[POP_GET].sum(axis=1)\n",
    "a"
   ]
  },
  {
   "cell_type": "code",
   "execution_count": null,
   "metadata": {},
   "outputs": [],
   "source": [
    "from data.data_preparation import compute_ndc_results_from_raw_data\n",
    "for sce in SCENARIOS:\n",
    "    df = compute_ndc_results_from_raw_data(sce, MIN_TIER_LEVEL)\n",
    "    \n",
    "    df = df[EXO_RESULTS].sum(axis=0)\n",
    "    print(sce)\n",
    "    print(df)\n",
    "    df.to_csv('NDC_results_{}.csv'.format(sce))"
   ]
  },
  {
   "cell_type": "code",
   "execution_count": null,
   "metadata": {},
   "outputs": [],
   "source": [
    "xls_bau = pd.read_csv('data/xls_bau.csv', float_precision='high')\n",
    "xls_se = pd.read_csv('data/xls_se.csv', float_precision='high')\n",
    "xls_prog = pd.read_csv('data/xls_prog.csv', float_precision='high')\n",
    "\n",
    "invest_bau = pd.read_csv('data/invest_bau.csv', float_precision='high')\n",
    "invest_se = pd.read_csv('data/invest_se.csv', float_precision='high')\n",
    "invest_prog = pd.read_csv('data/invest_prog.csv', float_precision='high')"
   ]
  },
  {
   "cell_type": "markdown",
   "metadata": {},
   "source": [
    "## Test Exogenous results"
   ]
  },
  {
   "cell_type": "markdown",
   "metadata": {},
   "source": [
    "### BaU"
   ]
  },
  {
   "cell_type": "code",
   "execution_count": null,
   "metadata": {},
   "outputs": [],
   "source": [
    "bau_df = pd.read_json(SCENARIOS_DATA[BAU_SCENARIO]).set_index('country_iso').sort_index(ascending=True)\n",
    "xls_bau = pd.read_csv('data/xls_bau.csv', float_precision='high')\n",
    "\n",
    "COMP_COLS = POP_GET + HH_GET + HH_CAP + HH_SCN2\n",
    "\n",
    "df_diff = xls_bau[COMP_COLS] - bau_df[COMP_COLS]\n",
    "\n",
    "def highlight_mismatch(col, eps=0.2):\n",
    "    return df_diff.loc[np.abs(df_diff[col]) > eps]\n",
    "\n",
    "l = []\n",
    "for col in COMP_COLS:\n",
    "    temp = highlight_mismatch(col).index.to_list()\n",
    "    if temp:\n",
    "        print('problems with ', col, temp)\n",
    "        print(len(temp))\n",
    "    l = l + temp\n",
    "len(set(l))\n",
    "l = list(set(l))\n",
    "df_diff.loc[l]"
   ]
  },
  {
   "cell_type": "markdown",
   "metadata": {},
   "source": [
    "### SE4ALL"
   ]
  },
  {
   "cell_type": "code",
   "execution_count": null,
   "metadata": {},
   "outputs": [],
   "source": [
    "se_df = pd.read_json(SCENARIOS_DATA[SE4ALL_SCENARIO]).set_index('country_iso').sort_index(ascending=True)\n",
    "xls_se = pd.read_csv('data/xls_se.csv', float_precision='high').set_index('country_iso').sort_index(ascending=True)\n",
    "\n",
    "COMP_COLS = POP_GET + HH_GET + HH_CAP + HH_SCN2\n",
    "\n",
    "df_diff = xls_se[COMP_COLS] - se_df[COMP_COLS]\n",
    "\n",
    "def highlight_mismatch(col, eps=0.001):\n",
    "    return df_diff.loc[np.abs(df_diff[col]) > eps]\n",
    "\n",
    "l = []\n",
    "for col in COMP_COLS:\n",
    "    temp = highlight_mismatch(col).index.to_list()\n",
    "    if temp:\n",
    "        print('problems with ', col, temp)\n",
    "        print(len(temp))\n",
    "    l = l + temp\n",
    "len(set(l))\n",
    "l = list(set(l))\n",
    "df_diff.loc[l]\n"
   ]
  },
  {
   "cell_type": "markdown",
   "metadata": {},
   "source": [
    "### prOG"
   ]
  },
  {
   "cell_type": "code",
   "execution_count": null,
   "metadata": {},
   "outputs": [],
   "source": [
    "xls_prog = pd.read_csv('data/xls_prog.csv', float_precision='high')\n",
    "prog_df = pd.read_json(SCENARIOS_DATA[PROG_SCENARIO]).set_index('country_iso').sort_index(ascending=True)\n",
    "\n",
    "\n",
    "COMP_COLS = POP_GET + HH_GET + HH_CAP + HH_SCN2\n",
    "\n",
    "df_diff = xls_prog[COMP_COLS] - prog_df[COMP_COLS]\n",
    "\n",
    "def highlight_mismatch(col, eps=0.2):\n",
    "    return df_diff.loc[np.abs(df_diff[col]) > eps]\n",
    "\n",
    "l = []\n",
    "for col in COMP_COLS:\n",
    "    temp = highlight_mismatch(col).index.to_list()\n",
    "    if temp:\n",
    "        print('problems with ', col, temp)\n",
    "        print(len(temp))\n",
    "    l = l + temp\n",
    "len(set(l))\n",
    "l = list(set(l))\n",
    "df_diff.loc[l]"
   ]
  },
  {
   "cell_type": "markdown",
   "metadata": {},
   "source": [
    "## Test GHG"
   ]
  },
  {
   "cell_type": "markdown",
   "metadata": {},
   "source": [
    "### BaU"
   ]
  },
  {
   "cell_type": "code",
   "execution_count": null,
   "metadata": {},
   "outputs": [],
   "source": [
    "bau_df = pd.read_json(SCENARIOS_DATA[BAU_SCENARIO]).set_index('country_iso').sort_index(ascending=True)\n",
    "ghg_bau = pd.read_csv('data/ghg_bau.csv', float_precision='high').set_index('country_iso').sort_index(ascending=True)\n",
    "\n",
    "COMP_COLS = GHG + GHG_CAP\n",
    "\n",
    "df_diff = ghg_bau[COMP_COLS] - bau_df[COMP_COLS]\n",
    "\n",
    "def highlight_mismatch(col, eps=40):\n",
    "    return df_diff.loc[np.abs(df_diff[col]) > eps]\n",
    "\n",
    "l = []\n",
    "for col in COMP_COLS:\n",
    "    temp = highlight_mismatch(col).index.to_list()\n",
    "    if temp:\n",
    "        print('problems with ', col, temp)\n",
    "        print(len(temp))\n",
    "    l = l + temp\n",
    "len(set(l))\n",
    "l = list(set(l))\n",
    "df_diff.loc[l]"
   ]
  },
  {
   "cell_type": "markdown",
   "metadata": {},
   "source": [
    "### SE4All"
   ]
  },
  {
   "cell_type": "code",
   "execution_count": null,
   "metadata": {},
   "outputs": [],
   "source": [
    "se_df = pd.read_json(SCENARIOS_DATA[SE4ALL_SCENARIO]).set_index('country_iso').sort_index(ascending=True)\n",
    "ghg_se = pd.read_csv('data/ghg_se.csv', float_precision='high').set_index('country_iso').sort_index(ascending=True)\n",
    "\n",
    "COMP_COLS = GHG + GHG_CAP\n",
    "\n",
    "df_diff = ghg_se[COMP_COLS] - se_df[COMP_COLS]\n",
    "\n",
    "def highlight_mismatch(col, eps=40):\n",
    "    return df_diff.loc[np.abs(df_diff[col]) > eps]\n",
    "\n",
    "l = []\n",
    "for col in COMP_COLS:\n",
    "    temp = highlight_mismatch(col).index.to_list()\n",
    "    if temp:\n",
    "        print('problems with ', col, temp)\n",
    "        print(len(temp))\n",
    "    l = l + temp\n",
    "len(set(l))\n",
    "l = list(set(l))\n",
    "df_diff.loc[l]"
   ]
  },
  {
   "cell_type": "markdown",
   "metadata": {},
   "source": [
    "## Saved from BaU"
   ]
  },
  {
   "cell_type": "code",
   "execution_count": null,
   "metadata": {},
   "outputs": [],
   "source": [
    "bau_df = pd.read_json(SCENARIOS_DATA[BAU_SCENARIO]).set_index('country_iso').sort_index(ascending=True)\n",
    "se_df = pd.read_json(SCENARIOS_DATA[SE4ALL_SCENARIO]).set_index('country_iso').sort_index(ascending=True)\n",
    "\n",
    "COMP_COLS = GHG + GHG_CAP\n",
    "\n",
    "saved_se_df = bau_df[COMP_COLS] - se_df[COMP_COLS]\n"
   ]
  },
  {
   "cell_type": "markdown",
   "metadata": {},
   "source": [
    "### prOG"
   ]
  },
  {
   "cell_type": "code",
   "execution_count": null,
   "metadata": {},
   "outputs": [],
   "source": [
    "prog_df = pd.read_json(SCENARIOS_DATA[PROG_SCENARIO]).set_index('country_iso').sort_index(ascending=True)\n",
    "ghg_prog = pd.read_csv('data/ghg_prog.csv', float_precision='high').set_index('country_iso').sort_index(ascending=True)\n",
    "\n",
    "COMP_COLS = GHG + GHG_CAP\n",
    "\n",
    "df_diff = ghg_prog[COMP_COLS] - prog_df[COMP_COLS]\n",
    "\n",
    "def highlight_mismatch(col, eps=40):\n",
    "    return df_diff.loc[np.abs(df_diff[col]) > eps]\n",
    "\n",
    "l = []\n",
    "for col in COMP_COLS:\n",
    "    temp = highlight_mismatch(col).index.to_list()\n",
    "    if temp:\n",
    "        print('problems with ', col, temp)\n",
    "        print(len(temp))\n",
    "    l = l + temp\n",
    "len(set(l))\n",
    "l = list(set(l))\n",
    "df_diff.loc[l]"
   ]
  },
  {
   "cell_type": "markdown",
   "metadata": {},
   "source": [
    "## Test Investment cost"
   ]
  },
  {
   "cell_type": "markdown",
   "metadata": {},
   "source": [
    "### BaU"
   ]
  },
  {
   "cell_type": "code",
   "execution_count": null,
   "metadata": {},
   "outputs": [],
   "source": [
    "bau_df = pd.read_json(SCENARIOS_DATA[BAU_SCENARIO]).set_index('country_iso').sort_index(ascending=True)\n",
    "invest_bau = pd.read_csv('data/invest_bau.csv', float_precision='high').set_index('country_iso').sort_index(ascending=True)\n",
    "\n",
    "COMP_COLS = INVEST + INVEST_CAP\n",
    "\n",
    "df_diff = invest_bau[COMP_COLS] - bau_df[COMP_COLS]\n",
    "\n",
    "def highlight_mismatch(col, eps=40):\n",
    "    return df_diff.loc[np.abs(df_diff[col]) > eps]\n",
    "\n",
    "l = []\n",
    "for col in COMP_COLS:\n",
    "    temp = highlight_mismatch(col).index.to_list()\n",
    "    if temp:\n",
    "        print('problems with ', col, temp)\n",
    "        print(len(temp))\n",
    "    l = l + temp\n",
    "len(set(l))\n",
    "l = list(set(l))\n",
    "df_diff.loc[l]"
   ]
  },
  {
   "cell_type": "markdown",
   "metadata": {},
   "source": [
    "### SE4All"
   ]
  },
  {
   "cell_type": "code",
   "execution_count": null,
   "metadata": {},
   "outputs": [],
   "source": [
    "se_df = pd.read_json(SCENARIOS_DATA[SE4ALL_SCENARIO]).set_index('country_iso').sort_index(ascending=True)\n",
    "invest_se = pd.read_csv('data/invest_se.csv', float_precision='high').set_index('country_iso').sort_index(ascending=True)\n",
    "\n",
    "COMP_COLS = INVEST + INVEST_CAP\n",
    "\n",
    "df_diff = invest_se[COMP_COLS] - se_df[COMP_COLS]\n",
    "\n",
    "def highlight_mismatch(col, eps=20):\n",
    "    return df_diff.loc[np.abs(df_diff[col]) > eps]\n",
    "\n",
    "l = []\n",
    "for col in COMP_COLS:\n",
    "    temp = highlight_mismatch(col).index.to_list()\n",
    "    if temp:\n",
    "        print('problems with ', col, temp)\n",
    "        print(len(temp))\n",
    "    l = l + temp\n",
    "len(set(l))\n",
    "l = list(set(l))\n",
    "df_diff.loc[l]"
   ]
  },
  {
   "cell_type": "markdown",
   "metadata": {},
   "source": [
    "### prOG"
   ]
  },
  {
   "cell_type": "code",
   "execution_count": null,
   "metadata": {},
   "outputs": [],
   "source": [
    "prog_df = pd.read_json(SCENARIOS_DATA[PROG_SCENARIO]).set_index('country_iso').sort_index(ascending=True)\n",
    "invest_prog = pd.read_csv('data/invest_prog.csv', float_precision='high').set_index('country_iso').sort_index(ascending=True)\n",
    "\n",
    "COMP_COLS = INVEST + INVEST_CAP\n",
    "\n",
    "df_diff = invest_prog[COMP_COLS] - prog_df[COMP_COLS]\n",
    "\n",
    "def highlight_mismatch(col, eps=40):\n",
    "    return df_diff.loc[np.abs(df_diff[col]) > eps]\n",
    "\n",
    "l = []\n",
    "for col in COMP_COLS:\n",
    "    temp = highlight_mismatch(col).index.to_list()\n",
    "    if temp:\n",
    "        print('problems with ', col, temp)\n",
    "        print(len(temp))\n",
    "    l = l + temp\n",
    "len(set(l))\n",
    "l = list(set(l))\n",
    "df_diff.loc[l]"
   ]
  },
  {
   "cell_type": "markdown",
   "metadata": {},
   "source": [
    "# Rise shifts for electrification option"
   ]
  },
  {
   "cell_type": "markdown",
   "metadata": {},
   "source": [
    "$i \\in $ (grid, mg, shs)\n",
    "\n",
    "$N_i$ : population getting option $i$ in 2030\n",
    "\n",
    "$R_i$ : RISE score for the option $i$\n",
    "\n",
    "$\\delta_{ij} = R_i - R_j$\n",
    "\n",
    "$\\Delta_i = \\frac{\\sum_j \\delta_ij}{\\sum R_k} $\n",
    "\n",
    "$\\Delta N_i = \\Delta_i (\\sum_j N_j)$\n",
    "\n",
    "Constraint is that $\\sum_j \\Delta N_j$"
   ]
  },
  {
   "cell_type": "markdown",
   "metadata": {},
   "source": [
    "## Bulk case\n",
    "$R_i \\neq 0$, $\\forall i$\n",
    "\n",
    "$N_i - \\Delta N_i > 0$, $\\forall i$"
   ]
  },
  {
   "cell_type": "code",
   "execution_count": null,
   "metadata": {},
   "outputs": [],
   "source": [
    "df = pd.DataFrame(data=[[90,95,55], [30, 20, 55], [0, 0, 0], [0, 0, 0], [0, 0, 0], [0, 0, 0], [0, 0, 0]], columns=ELECTRIFICATION_OPTIONS)\n",
    "df.iloc[2] = df.iloc[1]/ df.iloc[1].sum()\n",
    "df.iloc[3, 0] = (df.iloc[0].grid - df.iloc[0].mg) + (df.iloc[0].grid - df.iloc[0].shs)\n",
    "df.iloc[3, 1] = (df.iloc[0].mg - df.iloc[0].grid) + (df.iloc[0].mg - df.iloc[0].shs)\n",
    "df.iloc[3, 2] = (df.iloc[0].shs  - df.iloc[0].mg ) + (df.iloc[0].shs  - df.iloc[0].grid)\n",
    "\n",
    "df.iloc[3] = df.iloc[3] / df.iloc[0].sum()\n",
    "\n",
    "for j in range(3):\n",
    "    df.iloc[4, j] = df.iloc[1].sum() * df.iloc[3,j]\n",
    "    df.iloc[5, j] = df.iloc[4, j] / df.iloc[1,j]\n",
    "    df.iloc[6, j] = df.iloc[1, j] + df.iloc[4, j]\n",
    "\n",
    "df['sum'] = df.sum(axis=1)\n",
    "df['labels'] = ['R_i', 'N_i' ,'n_i', 'Delta_i', 'Delta N_i', 'Delta N_i / N_i', 'Delta N_i + N_i']\n",
    "df"
   ]
  },
  {
   "cell_type": "markdown",
   "metadata": {},
   "source": [
    "## Limit case\n",
    "$R_i \\neq 0$, $\\forall i$\n",
    "\n",
    "$N_i - \\Delta N_i < 0$,  for some $i$\n",
    "\n",
    "if $N_i - \\Delta N_i < 0$,  for one $i$ ([90,10,45], [30, 40, 30]), then we take $\\Delta N_i = N_i \\Delta_i < 0$ for this $i$ and we split this value between the $j$ for which $N_j - \\Delta N_j > 0$, with the weight $\\frac{R_j}{\\sum_{k \\neq i} R_k}$. That way we don't over-penalize\n",
    "\n",
    "if $N_i - \\Delta N_i < 0$,  for two $i$ ([90,10,15], [30, 40, 5]), then we take $\\Delta N_i = N_i \\Delta_i < 0$ for these $i$ and we add their  absolute sum to the $j$ for which $N_j - \\Delta N_j > 0$. That way we don't over-penalize\n",
    "\n",
    "\n",
    "The case ([90,10,45], [30, 700, 30]) penalize the R3 = 45 more than the R2=20 which is wrong, this is a limiting case to explore, maybe the solution would be to still penalize according to the initial $\\Delta_{ij}$ (ie if $\\Delta_{ij}$ < 0), then one must nevertheless be penalized, although it might be small and not have the penalty of the $i$ for which $N_i - \\Delta N_i < 0$ redistributed equally among the remaining $j$\n",
    "\n",
    "Maybe we want to cap the maximum value that can be given to a $N_i$ to be no larger than $N_i \\Delta_i$, maybe not ?\n",
    "between [90,5,55], [30, 600, 30] and [90,1,55], [30, 600, 30], the reward is dispoportionate in favor of R1 in first case"
   ]
  },
  {
   "cell_type": "code",
   "execution_count": null,
   "metadata": {},
   "outputs": [],
   "source": [
    "\n",
    "def compute_rise_shifts(rise, pop_get, opt, flag=''):\n",
    "    df = pd.DataFrame(\n",
    "        data=[rise, pop_get, [0, 0, 0], [0, 0, 0], [0, 0, 0], [0, 0, 0], [0, 0, 0], [0, 0, 0]],\n",
    "        columns=ELECTRIFICATION_OPTIONS)\n",
    "\n",
    "    df.iloc[2] = df.iloc[1] / df.iloc[1].sum()\n",
    "    df.iloc[3, 0] = (df.iloc[0].grid - df.iloc[0].mg) + (df.iloc[0].grid - df.iloc[0].shs)\n",
    "    df.iloc[3, 1] = (df.iloc[0].mg - df.iloc[0].grid) + (df.iloc[0].mg - df.iloc[0].shs)\n",
    "    df.iloc[3, 2] = (df.iloc[0].shs - df.iloc[0].mg) + (df.iloc[0].shs - df.iloc[0].grid)\n",
    "\n",
    "    df.iloc[3] = df.iloc[3] / df.iloc[0].sum()\n",
    "\n",
    "    for j in range(3):\n",
    "        df.iloc[4, j] = df.iloc[1].sum() * df.iloc[3, j]\n",
    "        df.iloc[5, j] = df.iloc[4, j] / df.iloc[1, j]\n",
    "        df.iloc[6, j] = df.iloc[1, j] + df.iloc[4, j]\n",
    "\n",
    "    please_print = False\n",
    "\n",
    "    diff = df.iloc[6].values\n",
    "    diff = diff[diff < 0]\n",
    "    if len(diff) == 2:\n",
    "        # print('There are two differences smaller than 0')\n",
    "        diff = df.iloc[6].values\n",
    "        diff = diff[diff > 0]\n",
    "        idx = df.iloc[6].to_list().index(diff[0])\n",
    "\n",
    "        eps = 0\n",
    "        for i in range(3):\n",
    "            if i != idx:\n",
    "                df.iloc[6, i] = df.iloc[1, i] * df.iloc[3, i]\n",
    "                eps = eps + np.abs(df.iloc[6, i])\n",
    "        df.iloc[6, idx] = eps\n",
    "\n",
    "    elif len(diff) == 1:\n",
    "        # print('one difference is smaller than 0')\n",
    "        idx = df.iloc[6].to_list().index(diff[0])\n",
    "        norm = 0\n",
    "        idx2 = None\n",
    "        # find out if there is another penalized case\n",
    "        for i in range(3):\n",
    "            if i != idx:\n",
    "                if df.iloc[3, i] < 0:\n",
    "                    idx2 = i\n",
    "                norm = norm + df.iloc[0, i]\n",
    "\n",
    "        if idx2 is None:\n",
    "            # print('the difference will be fully split between the two other case')\n",
    "            eps = df.iloc[1, idx]\n",
    "            for i in range(3):\n",
    "                if i == idx:\n",
    "                    df.iloc[6, i] = -eps\n",
    "                else:\n",
    "                    df.iloc[6, i] = np.abs(eps) * df.iloc[0, i] / norm\n",
    "        else:\n",
    "            # print('one of the remaining should have a penalty')\n",
    "            # this one cannot be larger that its population\n",
    "            df.iloc[6, idx] = - df.iloc[1, idx]\n",
    "            # this one becomes a part of the population from above, which compensates\n",
    "            # a bit the penalty\n",
    "            df.iloc[6, idx2] = df.iloc[4, idx2] + np.abs(df.iloc[6, idx]) * df.iloc[\n",
    "                0, idx2] / norm\n",
    "            # the highest score receives the penalty\n",
    "            for i in range(3):\n",
    "                if i != idx and i != idx2:\n",
    "                    df.iloc[6, i] = np.abs(df.iloc[4, idx2]) + np.abs(df.iloc[6, idx]) * \\\n",
    "                                    df.iloc[0, i] / norm\n",
    "\n",
    "    elif len(df) == 3:\n",
    "        print('error, all differences are negative')\n",
    "    else:\n",
    "        print('no difference is smaller than 0')\n",
    "        correct = False\n",
    "\n",
    "        # check if any Delta_i < 0\n",
    "        diff = df.iloc[3].values\n",
    "        diff = diff[diff < 0]\n",
    "        if len(diff) == 1:\n",
    "            correct = True\n",
    "            print('Only one should be penalized')\n",
    "            print('The difference will be fully split between the two other case')\n",
    "            idx = df.iloc[3].to_list().index(diff[0])\n",
    "            norm = 0\n",
    "            for i in range(3):\n",
    "                if i != idx:\n",
    "                    norm = norm + df.iloc[0, i]\n",
    "\n",
    "            eps = df.iloc[4, idx]\n",
    "            for i in range(3):\n",
    "                if i == idx:\n",
    "                    df.iloc[6, i] = eps\n",
    "                else:\n",
    "                    df.iloc[6, i] = np.abs(eps) * df.iloc[0, i] / norm\n",
    "\n",
    "                    # ----\n",
    "        elif len(diff) == 2:\n",
    "            print('Two should be penalized')\n",
    "            df.iloc[6] = df.iloc[4]\n",
    "        elif len(diff) == 3:\n",
    "            print('error, all deltas are negative')\n",
    "        else:\n",
    "            # case when all RISE are equal\n",
    "            print('error, all deltas are positive or zero')\n",
    "            please_print = True\n",
    "\n",
    "    df.iloc[7] = df.iloc[6] + df.iloc[1]\n",
    "    for i in range(3):\n",
    "        df.iloc[5, i] = df.iloc[6, i] / df.iloc[1, i]\n",
    "\n",
    "\n",
    "\n",
    "    df['sum'] = df.sum(axis=1)\n",
    "\n",
    "    df['labels'] = ['R_i', 'N_i', 'n_i', 'Delta_i', 'Delta N_i', 'Delta N_i / N_i (case 2)',\n",
    "                        'Delta N_i (case 2)', 'Delta N_i + N_i (case 2)']\n",
    "\n",
    "    return df\n",
    "    #return df.iloc[6, ELECTRIFICATION_OPTIONS.index(opt)]\n",
    "\n",
    "a = compute_rise_shifts([1.000000e+02,  7.667000e+01,  6.889000e+01], [1.812061e+07,  9.759722e+07,  1.717494e+08], 0)\n",
    "\n",
    "b = pd.DataFrame(data=[[0, 2, 0], [1, 0, 0], [0, 0, 0], [0, -3, 0], [0, 0, 0], [0, 0, 0], [0, 0, 0], [0, 0, 0]],\n",
    "        columns=['a', 'b', 'c'])\n",
    "a.merge(b)"
   ]
  },
  {
   "cell_type": "code",
   "execution_count": null,
   "metadata": {},
   "outputs": [],
   "source": []
  },
  {
   "cell_type": "code",
   "execution_count": null,
   "metadata": {},
   "outputs": [],
   "source": [
    "# Check that as one option gets completely depleted, the people are reaffected according to the respective RISE scores of the other two options \n",
    "thing=[]\n",
    "for i in range(10):\n",
    "    thing.append(np.append(i, compute_shifts([90,i,55], [30, 600, 30]).values[:3]))\n",
    "things = np.vstack(thing)\n",
    "pd.DataFrame(data=things, columns=['R_mg', 'Δ N_grid', 'Δ N_grid', 'Δ N_grid'])"
   ]
  },
  {
   "cell_type": "code",
   "execution_count": null,
   "metadata": {},
   "outputs": [],
   "source": [
    "from data.data_preparation import compute_rise_shifts\n",
    "\n",
    "compute_rise_shifts([1.000000e+02,  7.667000e+01,  6.889000e+01], [1.812061e+07,  9.759722e+07,  1.717494e+08],'grid', 'IND')\n"
   ]
  },
  {
   "cell_type": "code",
   "execution_count": null,
   "metadata": {},
   "outputs": [],
   "source": [
    "df = pd.DataFrame(data=[[16.67,69.17,22.22], [4.268328e+06, 3.457142e+05, 9.163149e+06], [0, 0, 0], [0, 0, 0], [0, 0, 0], [0, 0, 0], [0, 0, 0], [0, 0, 0]], columns=ELECTRIFICATION_OPTIONS)\n",
    "df.iloc[2] = df.iloc[1]/ df.iloc[1].sum()\n",
    "#df.iloc[3, 0] = (df.iloc[0].grid* df.iloc[2].grid - df.iloc[0].mg * df.iloc[2].mg) + (df.iloc[0].grid* df.iloc[2].grid - df.iloc[0].shs * df.iloc[2].shs)\n",
    "#df.iloc[3, 1] = (df.iloc[0].mg * df.iloc[2].mg - df.iloc[0].grid* df.iloc[2].grid) + (df.iloc[0].mg * df.iloc[2].mg - df.iloc[0].shs * df.iloc[2].shs)\n",
    "#df.iloc[3, 2] = (df.iloc[0].shs * df.iloc[2].shs - df.iloc[0].mg * df.iloc[2].mg) + (df.iloc[0].shs * df.iloc[2].shs - df.iloc[0].grid* df.iloc[2].grid)\n",
    "\n",
    "df.iloc[3, 0] = (df.iloc[0].grid - df.iloc[0].mg) + (df.iloc[0].grid - df.iloc[0].shs)\n",
    "df.iloc[3, 1] = (df.iloc[0].mg - df.iloc[0].grid) + (df.iloc[0].mg - df.iloc[0].shs)\n",
    "df.iloc[3, 2] = (df.iloc[0].shs  - df.iloc[0].mg ) + (df.iloc[0].shs  - df.iloc[0].grid)\n",
    "\n",
    "df.iloc[3] = df.iloc[3] / df.iloc[0].sum()\n",
    "\n",
    "for j in range(3):\n",
    "    df.iloc[4, j] = df.iloc[1].sum()*df.iloc[3,j]\n",
    "print(df.iloc[2].sum())\n",
    "print(df.iloc[3].sum())\n",
    "print(df.iloc[4].sum())\n",
    "\n",
    "df.iloc[5] = df.iloc[1] + df.iloc[4]\n",
    "\n",
    "N = df.iloc[1,2] + df.iloc[4,2]\n",
    "df.iloc[6,0] = N * df.iloc[0,0] / (df.iloc[0,0]+ df.iloc[0,1])\n",
    "df.iloc[6,1] = N * df.iloc[0,1] / (df.iloc[0,0]+ df.iloc[0,1])\n",
    "df.iloc[6,2] = -N\n",
    "\n",
    "df.iloc[7] =  df.iloc[6] + df.iloc[4]\n",
    "\n",
    "for j in range(3):\n",
    "    df.iloc[6,j] = df.iloc[7,j] / df.iloc[1,j] \n",
    "\n",
    "df['sum'] = df.sum(axis=1)\n",
    "df['labels'] = ['R_i', 'N_i' ,'n_i', 'Delta_i', 'Delta N_i', '+N_i', '+N_i', '']\n",
    "\n",
    "\n",
    "df"
   ]
  },
  {
   "cell_type": "code",
   "execution_count": null,
   "metadata": {},
   "outputs": [],
   "source": []
  },
  {
   "cell_type": "code",
   "execution_count": null,
   "metadata": {},
   "outputs": [],
   "source": []
  },
  {
   "cell_type": "code",
   "execution_count": null,
   "metadata": {},
   "outputs": [],
   "source": []
  },
  {
   "cell_type": "code",
   "execution_count": null,
   "metadata": {},
   "outputs": [],
   "source": [
    "df = pd.DataFrame(data=[[90,90,65], [30, 20, 8], [0, 0, 0], [0, 0, 0], [0, 0, 0], [0, 0, 0], [0, 0, 0], [0, 0, 0]], columns=ELECTRIFICATION_OPTIONS)\n",
    "df.iloc[2] = df.iloc[1]/ df.iloc[1].sum()\n",
    "\n",
    "df.iloc[3, 0] = (df.iloc[0].grid - df.iloc[0].mg) + (df.iloc[0].grid - df.iloc[0].shs)\n",
    "df.iloc[3, 1] = (df.iloc[0].mg - df.iloc[0].grid) + (df.iloc[0].mg - df.iloc[0].shs)\n",
    "df.iloc[3, 2] = (df.iloc[0].shs  - df.iloc[0].mg ) + (df.iloc[0].shs  - df.iloc[0].grid)\n",
    "\n",
    "df.iloc[3] = df.iloc[3] / df.iloc[0].sum()\n",
    "\n",
    "for j in range(3):\n",
    "    df.iloc[4, j] = df.iloc[1].sum()*df.iloc[3,j]\n",
    "\n",
    "df.iloc[5] = df.iloc[1] + df.iloc[4]\n",
    "\n",
    "N = df.iloc[1,2] + df.iloc[4,2]\n",
    "df.iloc[6,0] = N * df.iloc[0,0] / (df.iloc[0,0]+ df.iloc[0,1])\n",
    "df.iloc[6,1] = N * df.iloc[0,1] / (df.iloc[0,0]+ df.iloc[0,1])\n",
    "df.iloc[6,2] = -N\n",
    "\n",
    "df.iloc[7] =  df.iloc[6] + df.iloc[4]\n",
    "\n",
    "#for j in range(3):\n",
    "#    df.iloc[6,j] = df.iloc[7,j] / df.iloc[1,j] \n",
    "\n",
    "df['sum'] = df.sum(axis=1)\n",
    "df['labels'] = ['R_i', 'N_i' ,'n_i', 'Delta_i', 'Delta N_i', '+N_i', '+N_i', '']\n",
    "\n",
    "\n",
    "df"
   ]
  },
  {
   "cell_type": "code",
   "execution_count": null,
   "metadata": {},
   "outputs": [],
   "source": [
    "df = pd.DataFrame(data=[[90,70,70], [30, 20, 2], [0, 0, 0], [0, 0, 0], [0, 0, 0], [0, 0, 0], [0, 0, 0], [0, 0, 0]], columns=ELECTRIFICATION_OPTIONS)\n",
    "df.iloc[2] = df.iloc[1]/ df.iloc[1].sum()\n",
    "#df.iloc[3, 0] = (df.iloc[0].grid* df.iloc[2].grid - df.iloc[0].mg * df.iloc[2].mg) + (df.iloc[0].grid* df.iloc[2].grid - df.iloc[0].shs * df.iloc[2].shs)\n",
    "#df.iloc[3, 1] = (df.iloc[0].mg * df.iloc[2].mg - df.iloc[0].grid* df.iloc[2].grid) + (df.iloc[0].mg * df.iloc[2].mg - df.iloc[0].shs * df.iloc[2].shs)\n",
    "#df.iloc[3, 2] = (df.iloc[0].shs * df.iloc[2].shs - df.iloc[0].mg * df.iloc[2].mg) + (df.iloc[0].shs * df.iloc[2].shs - df.iloc[0].grid* df.iloc[2].grid)\n",
    "\n",
    "df.iloc[3, 0] = (df.iloc[0].grid - df.iloc[0].mg) + (df.iloc[0].grid - df.iloc[0].shs)\n",
    "df.iloc[3, 1] = (df.iloc[0].mg - df.iloc[0].grid) + (df.iloc[0].mg - df.iloc[0].shs)\n",
    "df.iloc[3, 2] = (df.iloc[0].shs  - df.iloc[0].mg ) + (df.iloc[0].shs  - df.iloc[0].grid)\n",
    "\n",
    "df.iloc[3] = df.iloc[3] / df.iloc[0].sum()\n",
    "\n",
    "for j in range(3):\n",
    "    df.iloc[4, j] = df.iloc[1].sum()*df.iloc[3,j]\n",
    "print(df.iloc[2].sum())\n",
    "print(df.iloc[3].sum())\n",
    "print(df.iloc[4].sum())\n",
    "\n",
    "df.iloc[5] = df.iloc[1] + df.iloc[4]\n",
    "\n",
    "N = df.iloc[1,2]\n",
    "df.iloc[6,0] = df.iloc[1,2] - df.iloc[4,1]\n",
    "df.iloc[6,1] = df.iloc[4,1]\n",
    "df.iloc[6,2] = -N\n",
    "\n",
    "df.iloc[7] =  df.iloc[6] + df.iloc[1]\n",
    "\n",
    "#for j in range(3):\n",
    "#    df.iloc[6,j] = df.iloc[7,j] / df.iloc[1,j] \n",
    "\n",
    "df['sum'] = df.sum(axis=1)\n",
    "df['labels'] = ['R_i', 'N_i' ,'n_i', 'Delta_i', 'Delta N_i', '+N_i', '+N_i', '']\n",
    "\n",
    "\n",
    "df"
   ]
  },
  {
   "cell_type": "code",
   "execution_count": null,
   "metadata": {},
   "outputs": [],
   "source": [
    "df = pd.DataFrame(data=[[90,75,70], [30, 20, 2], [0, 0, 0], [0, 0, 0], [0, 0, 0], [0, 0, 0], [0, 0, 0], [0, 0, 0]], columns=ELECTRIFICATION_OPTIONS)\n",
    "df.iloc[2] = df.iloc[1]/ df.iloc[1].sum()\n",
    "#df.iloc[3, 0] = (df.iloc[0].grid* df.iloc[2].grid - df.iloc[0].mg * df.iloc[2].mg) + (df.iloc[0].grid* df.iloc[2].grid - df.iloc[0].shs * df.iloc[2].shs)\n",
    "#df.iloc[3, 1] = (df.iloc[0].mg * df.iloc[2].mg - df.iloc[0].grid* df.iloc[2].grid) + (df.iloc[0].mg * df.iloc[2].mg - df.iloc[0].shs * df.iloc[2].shs)\n",
    "#df.iloc[3, 2] = (df.iloc[0].shs * df.iloc[2].shs - df.iloc[0].mg * df.iloc[2].mg) + (df.iloc[0].shs * df.iloc[2].shs - df.iloc[0].grid* df.iloc[2].grid)\n",
    "\n",
    "df.iloc[3, 0] = (df.iloc[0].grid - df.iloc[0].mg) + (df.iloc[0].grid - df.iloc[0].shs)\n",
    "df.iloc[3, 1] = (df.iloc[0].mg - df.iloc[0].grid) + (df.iloc[0].mg - df.iloc[0].shs)\n",
    "df.iloc[3, 2] = (df.iloc[0].shs  - df.iloc[0].mg ) + (df.iloc[0].shs  - df.iloc[0].grid)\n",
    "\n",
    "df.iloc[3] = df.iloc[3] / df.iloc[0].sum()\n",
    "\n",
    "for j in range(3):\n",
    "    df.iloc[4, j] = df.iloc[1].sum()*df.iloc[3,j]\n",
    "print(df.iloc[2].sum())\n",
    "print(df.iloc[3].sum())\n",
    "print(df.iloc[4].sum())\n",
    "\n",
    "df.iloc[5] = df.iloc[1] + df.iloc[4]\n",
    "\n",
    "N = np.max([df.iloc[1,2] + df.iloc[4,2], -df.iloc[1,2]])\n",
    "print(N)\n",
    "print()\n",
    "df.iloc[6,0] = N * df.iloc[0,0] / (df.iloc[0,0]+ df.iloc[0,1])\n",
    "df.iloc[6,1] = N * df.iloc[0,1] / (df.iloc[0,0]+ df.iloc[0,1])\n",
    "df.iloc[6,2] = -N\n",
    "df.iloc[7] =  df.iloc[6] + df.iloc[4]\n",
    "\n",
    "#for j in range(3):\n",
    "#    df.iloc[6,j] = df.iloc[7,j] / df.iloc[1,j] \n",
    "\n",
    "df['sum'] = df.sum(axis=1)\n",
    "df['labels'] = ['R_i', 'N_i' ,'n_i', 'Delta_i', 'Delta N_i', '+N_i', '+N_i', '']\n",
    "\n",
    "\n",
    "df"
   ]
  },
  {
   "cell_type": "markdown",
   "metadata": {},
   "source": [
    "Case where $\\Delta N_i =  N_i \\Delta_i$, then the rest $\\varepsilon = \\sum \\Delta N_i = \\sum_i N_i \\Delta_i \\neq 0$ is redistributed to the prorata of the $n_i$ --> $\\Delta N'_i =  \\Delta N_i - \\varepsilon n_i$ such that $\\sum \\Delta' N_i = 0$"
   ]
  },
  {
   "cell_type": "code",
   "execution_count": null,
   "metadata": {},
   "outputs": [],
   "source": [
    "df = pd.DataFrame(data=[[90,15,15], [30, 20, 10], [0, 0, 0], [0, 0, 0], [0, 0, 0], [0, 0, 0], [0, 0, 0]], columns=ELECTRIFICATION_OPTIONS)\n",
    "df.iloc[2] = df.iloc[1]/ df.iloc[1].sum()\n",
    "\n",
    "df.iloc[3, 0] = (df.iloc[0].grid - df.iloc[0].mg) + (df.iloc[0].grid - df.iloc[0].shs)\n",
    "df.iloc[3, 1] = (df.iloc[0].mg - df.iloc[0].grid) + (df.iloc[0].mg - df.iloc[0].shs)\n",
    "df.iloc[3, 2] = (df.iloc[0].shs  - df.iloc[0].mg ) + (df.iloc[0].shs  - df.iloc[0].grid)\n",
    "\n",
    "df.iloc[3] = df.iloc[3] / df.iloc[0].sum()\n",
    "\n",
    "for j in range(3):\n",
    "    df.iloc[4, j] =  df.iloc[3,j] * df.iloc[1,j]#* df.iloc[1].sum()\n",
    "\n",
    "eps = df.iloc[4].sum()\n",
    "for j in range(3):\n",
    "    df.iloc[5, j] = df.iloc[4,j] - eps * df.iloc[2,j]\n",
    "    df.iloc[6, j] = df.iloc[5, j] / df.iloc[1,j]\n",
    "    \n",
    "df['sum'] = df.sum(axis=1)\n",
    "df['labels'] = ['R_i', 'N_i' ,'n_i', 'Delta_i', 'Delta N_i', 'Delta N_i (case 2)', 'Delta N_i / N_i (case 2)']\n",
    "df"
   ]
  },
  {
   "cell_type": "code",
   "execution_count": null,
   "metadata": {},
   "outputs": [],
   "source": [
    "df = pd.DataFrame(data=[[78,15,15], [30, 10, 10], [0, 0, 0], [0, 0, 0], [0, 0, 0], [0, 0, 0], [0, 0, 0]], columns=ELECTRIFICATION_OPTIONS)\n",
    "df.iloc[2] = df.iloc[1]/ df.iloc[1].sum()\n",
    "\n",
    "df.iloc[3, 0] = (df.iloc[0].grid - df.iloc[0].mg) + (df.iloc[0].grid - df.iloc[0].shs)\n",
    "df.iloc[3, 1] = (df.iloc[0].mg - df.iloc[0].grid) + (df.iloc[0].mg - df.iloc[0].shs)\n",
    "df.iloc[3, 2] = (df.iloc[0].shs  - df.iloc[0].mg ) + (df.iloc[0].shs  - df.iloc[0].grid)\n",
    "\n",
    "df.iloc[3] = df.iloc[3] / df.iloc[0].sum()\n",
    "S = 0\n",
    "for i in range(3):\n",
    "    S = S + np.abs(df.iloc[3,i])\n",
    "df.iloc[3] = df.iloc[3] / S\n",
    "print(S)\n",
    "for j in range(3):\n",
    "    df.iloc[4, j] =  df.iloc[3,j] * df.iloc[1,j]#* df.iloc[1].sum()\n",
    "\n",
    "eps = df.iloc[4].sum()\n",
    "for j in range(3):\n",
    "    df.iloc[5, j] = df.iloc[4,j] - eps * df.iloc[2,j]\n",
    "    df.iloc[6, j] = df.iloc[5, j] / df.iloc[1,j]\n",
    "    \n",
    "df['sum'] = df.sum(axis=1)\n",
    "df['labels'] = ['R_i', 'N_i' ,'n_i', 'Delta_i', 'Delta N_i', 'Delta N_i (case 2)', 'Delta N_i / N_i (case 2)']\n",
    "df"
   ]
  },
  {
   "cell_type": "markdown",
   "metadata": {},
   "source": [
    "The one with (0 and 1) make the weigth with a mix of $N_i R_i$ in the $\\delta_{ij}$ instead of $R_i$, normalizes with product of the total sums"
   ]
  },
  {
   "cell_type": "code",
   "execution_count": null,
   "metadata": {},
   "outputs": [],
   "source": [
    "df = pd.DataFrame(data=[[90,15,15], [30, 20, 10], [0, 0, 0], [0, 0, 0], [0, 0, 0], [0, 0, 0], [0, 0, 0]], columns=ELECTRIFICATION_OPTIONS)\n",
    "df = pd.DataFrame(data=[[90,15,15], [30, 200, 200], [0, 0, 0], [0, 0, 0], [0, 0, 0], [0, 0, 0], [0, 0, 0]], columns=ELECTRIFICATION_OPTIONS)\n",
    "df = pd.DataFrame(data=[[100,0,100], [30, 200, 10], [0, 0, 0], [0, 0, 0], [0, 0, 0], [0, 0, 0], [0, 0, 0]], columns=ELECTRIFICATION_OPTIONS)\n",
    "df.iloc[2] = df.iloc[1]/ df.iloc[1].sum()\n",
    "\n",
    "#df.iloc[3, 0] = (df.iloc[0].grid* df.iloc[1].grid - df.iloc[0].mg * df.iloc[1].mg) + (df.iloc[0].grid* df.iloc[1].grid - df.iloc[0].shs * df.iloc[1].shs)\n",
    "#df.iloc[3, 1] = (df.iloc[0].mg * df.iloc[1].mg - df.iloc[0].grid* df.iloc[1].grid) + (df.iloc[0].mg * df.iloc[1].mg - df.iloc[0].shs * df.iloc[1].shs)\n",
    "#df.iloc[3, 2] = (df.iloc[0].shs * df.iloc[1].shs - df.iloc[0].mg * df.iloc[1].mg) + (df.iloc[0].shs * df.iloc[1].shs - df.iloc[0].grid* df.iloc[1].grid)\n",
    "\n",
    "#df.iloc[3, 0] = (df.iloc[0].grid* df.iloc[2].grid - df.iloc[0].mg * df.iloc[2].mg) + (df.iloc[0].grid* df.iloc[2].grid - df.iloc[0].shs * df.iloc[2].shs)\n",
    "#df.iloc[3, 1] = (df.iloc[0].mg * df.iloc[2].mg - df.iloc[0].grid* df.iloc[2].grid) + (df.iloc[0].mg * df.iloc[2].mg - df.iloc[0].shs * df.iloc[2].shs)\n",
    "#df.iloc[3, 2] = (df.iloc[0].shs * df.iloc[2].shs - df.iloc[0].mg * df.iloc[2].mg) + (df.iloc[0].shs * df.iloc[2].shs - df.iloc[0].grid* df.iloc[2].grid)\n",
    "\n",
    "df.iloc[3, 0] = (df.iloc[0].grid - df.iloc[0].mg) * df.iloc[2].mg + (df.iloc[0].grid - df.iloc[0].shs) * df.iloc[2].shs\n",
    "df.iloc[3, 1] = (df.iloc[0].mg - df.iloc[0].grid) * df.iloc[2].grid + (df.iloc[0].mg - df.iloc[0].shs) * df.iloc[2].shs\n",
    "df.iloc[3, 2] = (df.iloc[0].shs  - df.iloc[0].mg ) * df.iloc[2].mg + (df.iloc[0].shs  - df.iloc[0].grid) * df.iloc[2].grid\n",
    "\n",
    "norm = 0\n",
    "for i in range(3):\n",
    "    norm = norm + df.iloc[0, i] * df.iloc[1, i]\n",
    "\n",
    "norm = df.iloc[0].sum() #* df.iloc[1].sum()    \n",
    "print(norm)\n",
    "df.iloc[3] = df.iloc[3] / norm\n",
    "\n",
    "for j in range(3):\n",
    "    df.iloc[4, j] =  df.iloc[3,j] * df.iloc[1,j]#* df.iloc[1].sum()\n",
    "\n",
    "eps = df.iloc[4].sum()\n",
    "for j in range(3):\n",
    "    df.iloc[5, j] = df.iloc[4,j] - eps * df.iloc[2,j]\n",
    "    df.iloc[6, j] = df.iloc[5, j] / df.iloc[1,j]\n",
    "    \n",
    "df['sum'] = df.sum(axis=1)\n",
    "df['labels'] = ['R_i', 'N_i' ,'n_i', 'Delta_i', 'Delta N_i', 'Delta N_i (case 2)', 'Delta N_i / N_i (case 2)']\n",
    "df"
   ]
  }
 ],
 "metadata": {
  "kernelspec": {
   "display_name": "Python 3",
   "language": "python",
   "name": "python3"
  },
  "language_info": {
   "codemirror_mode": {
    "name": "ipython",
    "version": 3
   },
   "file_extension": ".py",
   "mimetype": "text/x-python",
   "name": "python",
   "nbconvert_exporter": "python",
   "pygments_lexer": "ipython3",
   "version": "3.6.7"
  }
 },
 "nbformat": 4,
 "nbformat_minor": 2
}
