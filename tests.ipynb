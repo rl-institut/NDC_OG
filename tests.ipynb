{
 "cells": [
  {
   "cell_type": "code",
   "execution_count": null,
   "metadata": {},
   "outputs": [],
   "source": [
    "import numpy as np\n",
    "import pandas as pd\n",
    "\n",
    "GRID = 'grid'\n",
    "MG = 'mg'\n",
    "SHS = 'shs'\n",
    "ELECTRIFICATION_OPTIONS = [GRID, MG, SHS]\n",
    "BAU_SCENARIO = 'bau'\n",
    "SE4ALL_SCENARIO = 'se4all'\n",
    "SE4ALL_FLEX_SCENARIO = 'se4all_shift'\n",
    "PROG_SCENARIO = 'prog'\n",
    "SCENARIOS = [BAU_SCENARIO, SE4ALL_SCENARIO, PROG_SCENARIO]\n",
    "\n",
    "# Names for display\n",
    "SCENARIOS_DICT = {\n",
    "    BAU_SCENARIO: 'BaU',\n",
    "    SE4ALL_SCENARIO: 'SE4All',\n",
    "    PROG_SCENARIO: 'prOG',\n",
    "}\n",
    "\n",
    "ELECTRIFICATION_DICT = {\n",
    "    GRID: 'Grid',\n",
    "    MG: 'Mini Grid',\n",
    "    SHS: 'Solar Home System'\n",
    "}\n",
    "\n",
    "# column names of the exogenous results\n",
    "POP_GET = ['pop_get_%s_2030' % opt for opt in ELECTRIFICATION_OPTIONS]\n",
    "HH_GET = ['hh_get_%s_2030' % opt for opt in ELECTRIFICATION_OPTIONS]\n",
    "HH_CAP = ['hh_%s_capacity' % opt for opt in ELECTRIFICATION_OPTIONS]\n",
    "HH_SCN2 = ['hh_cap_scn2_%s_capacity' % opt for opt in ELECTRIFICATION_OPTIONS]\n",
    "INVEST = ['%s_investment_cost' % opt for opt in [MG, SHS]]\n",
    "INVEST_CAP = ['tier_capped_%s_investment_cost' % opt for opt in [MG, SHS]]\n",
    "GHG = ['ghg_%s_2030' % opt for opt in ELECTRIFICATION_OPTIONS]\n",
    "GHG_CAP = ['tier_capped_ghg_%s_2030' % opt for opt in ELECTRIFICATION_OPTIONS]\n",
    "EXO_RESULTS = POP_GET + HH_GET + HH_CAP + HH_SCN2 + INVEST + INVEST_CAP + GHG + GHG_CAP\n",
    "\n",
    "# source http://www.worldbank.org/content/dam/Worldbank/Topics/Energy%20and%20Extract/\n",
    "# Beyond_Connections_Energy_Access_Redefined_Exec_ESMAP_2015.pdf\n",
    "MIN_TIER_LEVEL = 3\n",
    "MIN_RATED_CAPACITY = {1: 3, 2: 50, 3: 200, 4: 800, 5: 2000}  # index is TIER level [W]\n",
    "MIN_ANNUAL_CONSUMPTION = {1: 4.5, 2: 73, 3: 365, 4: 1250, 5: 3000}  # index is TIER level [kWh/a]\n",
    "RATIO_CAP_CONSUMPTION = {}\n",
    "\n",
    "# Investment Cost Source: Arranz and Worldbank,\n",
    "# BENCHMARKING STUDY OF SOLAR PV MINIGRIDS INVESTMENT COSTS, 2017 (Jabref)\n",
    "# unit is USD per household\n",
    "MEDIAN_INVESTMENT_COST = {1: 742, 2: 1273, 3: 2516, 4: 5277, 5: 5492}\n",
    "\n",
    "# drives for the socio-economic model\n",
    "IMPACT_FACTORS = pd.DataFrame(\n",
    "    {\n",
    "        MG: [3, 13. / 6, 19. / 6, 3.25, 11. / 3],\n",
    "        SHS: [23. / 12, 4.5, 37. / 12, 17. / 6, 41. / 12],\n",
    "        'labels': [\n",
    "            'high_gdp',\n",
    "            'high_mobile_money',\n",
    "            'high_ease_doing_business',\n",
    "            'low_corruption',\n",
    "            'high_grid_weakness'\n",
    "        ]\n",
    "    }\n",
    ")\n",
    "IMPACT_FACTORS = IMPACT_FACTORS.set_index('labels')\n",
    "\n",
    "MENTI_DRIVES = ['gdp', 'mobile_money', 'ease_doing_business', 'corruption', 'weak_grid']\n",
    "\n",
    "# $RT_shift_factors.$P$2\n",
    "WEIGHT_MENTIS = 0.2\n",
    "# -->WEIGHT_GRID = 0.8 ($RT_shift_factors.$O$2)  and  WEIGHT_GRID = 1 - WEIGHT_MENTIS\n",
    "RISE_INDICES = ['rise_%s' % opt for opt in ELECTRIFICATION_OPTIONS]\n",
    "SHIFT_MENTI = ['shift_menti_mg', 'shift_menti_shs']\n",
    "\n",
    "BASIC_ROWS = [\n",
    "    'People share',\n",
    "    'People (k)',\n",
    "    'HH (k)',\n",
    "    'HH cap. (MW)',\n",
    "    'HH cap. (MW) (TIER + 1)',\n",
    "    'Investment MUSD',\n",
    "    'Investment (TIER + 1) MUSD',\n",
    "]\n",
    "# labels of the columns of the result tables\n",
    "LABEL_COLUMNS = ELECTRIFICATION_DICT.copy()\n",
    "# a column for the row labels\n",
    "LABEL_COLUMNS['labels'] = ''\n",
    "LABEL_COLUMNS['total'] = 'Total'\n",
    "BASIC_COLUMNS_ID = ['labels'] + ELECTRIFICATION_OPTIONS + ['total']\n",
    "GHG_COLUMNS_ID = ['labels'] + ELECTRIFICATION_OPTIONS + ['total']\n",
    "COMPARE_COLUMNS_ID = ['labels']\n",
    "for opt in ELECTRIFICATION_OPTIONS + ['total']:\n",
    "    COMPARE_COLUMNS_ID.append(opt)\n",
    "    COMPARE_COLUMNS_ID.append('comp_{}'.format(opt))\n"
   ]
  },
  {
   "cell_type": "markdown",
   "metadata": {},
   "source": [
    "## Test TIER level attribution"
   ]
  },
  {
   "cell_type": "code",
   "execution_count": null,
   "metadata": {},
   "outputs": [],
   "source": [
    "from data_preparation import _find_tier_level\n",
    "\n",
    "for hh_cons in np.array([1, 50, 100, 400, 2000, 5000]):\n",
    "    print(_find_tier_level(hh_cons, 2))"
   ]
  },
  {
   "cell_type": "code",
   "execution_count": null,
   "metadata": {},
   "outputs": [],
   "source": [
    "from data_preparation import _slope_capacity_vs_yearly_consumption\n",
    "RATIO_CAP_CONSUMPTION = {}\n",
    "TIER_LEVELS = [1, 2, 3, 4, 5]\n",
    "for tier_lvl in [1, 2, 3, 4]:\n",
    "    RATIO_CAP_CONSUMPTION[tier_lvl] = _slope_capacity_vs_yearly_consumption(tier_lvl)\n",
    "RATIO_CAP_CONSUMPTION"
   ]
  },
  {
   "cell_type": "code",
   "execution_count": null,
   "metadata": {},
   "outputs": [],
   "source": [
    "MIN_RATED_CAPACITY = {1: 3, 2: 50, 3: 200, 4: 800, 5: 2000}  # index is TIER level [W]\n",
    "MIN_ANNUAL_CONSUMPTION = {1: 4.5, 2: 73, 3: 365, 4: 1250, 5: 3000}  # index is TIER level [kWh/a]"
   ]
  },
  {
   "cell_type": "code",
   "execution_count": null,
   "metadata": {},
   "outputs": [],
   "source": [
    "for tier_lvl in TIER_LEVELS:\n",
    "    print(MIN_RATED_CAPACITY[tier_lvl] / MIN_ANNUAL_CONSUMPTION[tier_lvl])"
   ]
  },
  {
   "cell_type": "code",
   "execution_count": null,
   "metadata": {},
   "outputs": [],
   "source": [
    "cap = [MIN_RATED_CAPACITY[i] for i in TIER_LEVELS]\n",
    "df = pd.DataFrame(cap)\n",
    "df[0].plot()"
   ]
  },
  {
   "cell_type": "code",
   "execution_count": null,
   "metadata": {},
   "outputs": [],
   "source": [
    "cons = [MIN_ANNUAL_CONSUMPTION[i] for i in TIER_LEVELS]\n",
    "df = pd.DataFrame(cons)\n",
    "df[0].plot()"
   ]
  },
  {
   "cell_type": "code",
   "execution_count": null,
   "metadata": {},
   "outputs": [],
   "source": [
    "from data_preparation import IMPACT_FACTORS\n",
    "IMPACT_FACTORS.index.to_list()"
   ]
  },
  {
   "cell_type": "code",
   "execution_count": null,
   "metadata": {},
   "outputs": [],
   "source": [
    "for opt in [MG, SHS]:\n",
    "    for input_name in IMPACT_FACTORS.index.to_list():\n",
    "        #print(\"Input('impact-{}-{}-input', 'value'),\".format(opt, input_name.replace('_', '-')))\n",
    "        print('impact_{}_{},'.format(opt, input_name.replace('high', '')))\n",
    "\n"
   ]
  },
  {
   "cell_type": "code",
   "execution_count": null,
   "metadata": {},
   "outputs": [],
   "source": [
    "country,country_iso, ghg_grid_2030,ghg_mg_2030,ghg_shs_2030,ghg_no_access_2030,tier_capped_ghg_grid_2030,tier_capped_ghg_mg_2030,tier_capped_ghg_shs_2030,tier_capped_ghg_no_access_2030"
   ]
  },
  {
   "cell_type": "markdown",
   "metadata": {},
   "source": [
    "# Tests of the model"
   ]
  },
  {
   "cell_type": "code",
   "execution_count": null,
   "metadata": {},
   "outputs": [],
   "source": [
    "from data.data_preparation import compute_ndc_results_from_raw_data\n",
    "SCENARIOS_DATA = {\n",
    "    sce: compute_ndc_results_from_raw_data(sce, MIN_TIER_LEVEL).to_json() for sce in SCENARIOS\n",
    "}"
   ]
  },
  {
   "cell_type": "code",
   "execution_count": null,
   "metadata": {},
   "outputs": [],
   "source": [
    "xls_bau = pd.read_csv('data/xls_bau.csv', float_precision='high')\n",
    "xls_se = pd.read_csv('data/xls_se.csv', float_precision='high')\n",
    "xls_prog = pd.read_csv('data/xls_prog.csv', float_precision='high')\n",
    "\n",
    "invest_bau = pd.read_csv('data/invest_bau.csv', float_precision='high')\n",
    "invest_se = pd.read_csv('data/invest_se.csv', float_precision='high')\n",
    "invest_prog = pd.read_csv('data/invest_prog.csv', float_precision='high')"
   ]
  },
  {
   "cell_type": "markdown",
   "metadata": {},
   "source": [
    "## Test Exogenous results"
   ]
  },
  {
   "cell_type": "markdown",
   "metadata": {},
   "source": [
    "### BaU"
   ]
  },
  {
   "cell_type": "code",
   "execution_count": null,
   "metadata": {},
   "outputs": [],
   "source": [
    "bau_df = pd.read_json(SCENARIOS_DATA[BAU_SCENARIO]).set_index('country_iso').sort_index(ascending=True)\n",
    "xls_bau = pd.read_csv('data/xls_bau.csv', float_precision='high')\n",
    "\n",
    "COMP_COLS = POP_GET + HH_GET + HH_CAP + HH_SCN2\n",
    "\n",
    "df_diff = xls_bau[COMP_COLS] - bau_df[COMP_COLS]\n",
    "\n",
    "def highlight_mismatch(col, eps=0.2):\n",
    "    return df_diff.loc[np.abs(df_diff[col]) > eps]\n",
    "\n",
    "l = []\n",
    "for col in COMP_COLS:\n",
    "    temp = highlight_mismatch(col).index.to_list()\n",
    "    if temp:\n",
    "        print('problems with ', col, temp)\n",
    "        print(len(temp))\n",
    "    l = l + temp\n",
    "len(set(l))\n",
    "l = list(set(l))\n",
    "df_diff.loc[l]"
   ]
  },
  {
   "cell_type": "markdown",
   "metadata": {},
   "source": [
    "### SE4ALL"
   ]
  },
  {
   "cell_type": "code",
   "execution_count": null,
   "metadata": {},
   "outputs": [],
   "source": [
    "se_df = pd.read_json(SCENARIOS_DATA[SE4ALL_SCENARIO]).set_index('country_iso').sort_index(ascending=True)\n",
    "xls_se = pd.read_csv('data/xls_se.csv', float_precision='high').set_index('country_iso').sort_index(ascending=True)\n",
    "\n",
    "COMP_COLS = POP_GET + HH_GET + HH_CAP + HH_SCN2\n",
    "\n",
    "df_diff = xls_se[COMP_COLS] - se_df[COMP_COLS]\n",
    "\n",
    "def highlight_mismatch(col, eps=0.001):\n",
    "    return df_diff.loc[np.abs(df_diff[col]) > eps]\n",
    "\n",
    "l = []\n",
    "for col in COMP_COLS:\n",
    "    temp = highlight_mismatch(col).index.to_list()\n",
    "    if temp:\n",
    "        print('problems with ', col, temp)\n",
    "        print(len(temp))\n",
    "    l = l + temp\n",
    "len(set(l))\n",
    "l = list(set(l))\n",
    "df_diff.loc[l]\n"
   ]
  },
  {
   "cell_type": "markdown",
   "metadata": {},
   "source": [
    "### prOG"
   ]
  },
  {
   "cell_type": "code",
   "execution_count": null,
   "metadata": {},
   "outputs": [],
   "source": [
    "xls_prog = pd.read_csv('data/xls_prog.csv', float_precision='high')\n",
    "prog_df = pd.read_json(SCENARIOS_DATA[PROG_SCENARIO]).set_index('country_iso').sort_index(ascending=True)\n",
    "\n",
    "\n",
    "COMP_COLS = POP_GET + HH_GET + HH_CAP + HH_SCN2\n",
    "\n",
    "df_diff = xls_prog[COMP_COLS] - prog_df[COMP_COLS]\n",
    "\n",
    "def highlight_mismatch(col, eps=0.2):\n",
    "    return df_diff.loc[np.abs(df_diff[col]) > eps]\n",
    "\n",
    "l = []\n",
    "for col in COMP_COLS:\n",
    "    temp = highlight_mismatch(col).index.to_list()\n",
    "    if temp:\n",
    "        print('problems with ', col, temp)\n",
    "        print(len(temp))\n",
    "    l = l + temp\n",
    "len(set(l))\n",
    "l = list(set(l))\n",
    "df_diff.loc[l]"
   ]
  },
  {
   "cell_type": "markdown",
   "metadata": {},
   "source": [
    "## Test GHG"
   ]
  },
  {
   "cell_type": "markdown",
   "metadata": {},
   "source": [
    "### BaU"
   ]
  },
  {
   "cell_type": "code",
   "execution_count": null,
   "metadata": {},
   "outputs": [],
   "source": [
    "bau_df = pd.read_json(SCENARIOS_DATA[BAU_SCENARIO]).set_index('country_iso').sort_index(ascending=True)\n",
    "ghg_bau = pd.read_csv('data/ghg_bau.csv', float_precision='high').set_index('country_iso').sort_index(ascending=True)\n",
    "\n",
    "COMP_COLS = GHG + GHG_CAP\n",
    "\n",
    "df_diff = ghg_bau[COMP_COLS] - bau_df[COMP_COLS]\n",
    "\n",
    "def highlight_mismatch(col, eps=40):\n",
    "    return df_diff.loc[np.abs(df_diff[col]) > eps]\n",
    "\n",
    "l = []\n",
    "for col in COMP_COLS:\n",
    "    temp = highlight_mismatch(col).index.to_list()\n",
    "    if temp:\n",
    "        print('problems with ', col, temp)\n",
    "        print(len(temp))\n",
    "    l = l + temp\n",
    "len(set(l))\n",
    "l = list(set(l))\n",
    "df_diff.loc[l]"
   ]
  },
  {
   "cell_type": "markdown",
   "metadata": {},
   "source": [
    "### SE4All"
   ]
  },
  {
   "cell_type": "code",
   "execution_count": null,
   "metadata": {},
   "outputs": [],
   "source": [
    "se_df = pd.read_json(SCENARIOS_DATA[SE4ALL_SCENARIO]).set_index('country_iso').sort_index(ascending=True)\n",
    "ghg_se = pd.read_csv('data/ghg_se.csv', float_precision='high').set_index('country_iso').sort_index(ascending=True)\n",
    "\n",
    "COMP_COLS = GHG + GHG_CAP\n",
    "\n",
    "df_diff = ghg_se[COMP_COLS] - se_df[COMP_COLS]\n",
    "\n",
    "def highlight_mismatch(col, eps=40):\n",
    "    return df_diff.loc[np.abs(df_diff[col]) > eps]\n",
    "\n",
    "l = []\n",
    "for col in COMP_COLS:\n",
    "    temp = highlight_mismatch(col).index.to_list()\n",
    "    if temp:\n",
    "        print('problems with ', col, temp)\n",
    "        print(len(temp))\n",
    "    l = l + temp\n",
    "len(set(l))\n",
    "l = list(set(l))\n",
    "df_diff.loc[l]"
   ]
  },
  {
   "cell_type": "code",
   "execution_count": null,
   "metadata": {},
   "outputs": [],
   "source": []
  },
  {
   "cell_type": "code",
   "execution_count": null,
   "metadata": {},
   "outputs": [],
   "source": [
    "se_df.loc['ZWE',['dark_rate']]"
   ]
  },
  {
   "cell_type": "markdown",
   "metadata": {},
   "source": [
    "## Saved from BaU"
   ]
  },
  {
   "cell_type": "code",
   "execution_count": null,
   "metadata": {},
   "outputs": [],
   "source": [
    "bau_df = pd.read_json(SCENARIOS_DATA[BAU_SCENARIO]).set_index('country_iso').sort_index(ascending=True)\n",
    "se_df = pd.read_json(SCENARIOS_DATA[SE4ALL_SCENARIO]).set_index('country_iso').sort_index(ascending=True)\n",
    "\n",
    "COMP_COLS = GHG + GHG_CAP\n",
    "\n",
    "saved_se_df = bau_df[COMP_COLS] - se_df[COMP_COLS]\n"
   ]
  },
  {
   "cell_type": "markdown",
   "metadata": {},
   "source": [
    "### prOG"
   ]
  },
  {
   "cell_type": "code",
   "execution_count": null,
   "metadata": {},
   "outputs": [],
   "source": [
    "prog_df = pd.read_json(SCENARIOS_DATA[PROG_SCENARIO]).set_index('country_iso').sort_index(ascending=True)\n",
    "ghg_prog = pd.read_csv('data/ghg_prog.csv', float_precision='high').set_index('country_iso').sort_index(ascending=True)\n",
    "\n",
    "COMP_COLS = GHG + GHG_CAP\n",
    "\n",
    "df_diff = ghg_prog[COMP_COLS] - prog_df[COMP_COLS]\n",
    "\n",
    "def highlight_mismatch(col, eps=40):\n",
    "    return df_diff.loc[np.abs(df_diff[col]) > eps]\n",
    "\n",
    "l = []\n",
    "for col in COMP_COLS:\n",
    "    temp = highlight_mismatch(col).index.to_list()\n",
    "    if temp:\n",
    "        print('problems with ', col, temp)\n",
    "        print(len(temp))\n",
    "    l = l + temp\n",
    "len(set(l))\n",
    "l = list(set(l))\n",
    "df_diff.loc[l]"
   ]
  },
  {
   "cell_type": "markdown",
   "metadata": {},
   "source": [
    "## Test Investment cost"
   ]
  },
  {
   "cell_type": "markdown",
   "metadata": {},
   "source": [
    "### BaU"
   ]
  },
  {
   "cell_type": "code",
   "execution_count": null,
   "metadata": {},
   "outputs": [],
   "source": [
    "bau_df = pd.read_json(SCENARIOS_DATA[BAU_SCENARIO]).set_index('country_iso').sort_index(ascending=True)\n",
    "invest_bau = pd.read_csv('data/invest_bau.csv', float_precision='high').set_index('country_iso').sort_index(ascending=True)\n",
    "\n",
    "COMP_COLS = INVEST + INVEST_CAP\n",
    "\n",
    "df_diff = invest_bau[COMP_COLS] - bau_df[COMP_COLS]\n",
    "\n",
    "def highlight_mismatch(col, eps=40):\n",
    "    return df_diff.loc[np.abs(df_diff[col]) > eps]\n",
    "\n",
    "l = []\n",
    "for col in COMP_COLS:\n",
    "    temp = highlight_mismatch(col).index.to_list()\n",
    "    if temp:\n",
    "        print('problems with ', col, temp)\n",
    "        print(len(temp))\n",
    "    l = l + temp\n",
    "len(set(l))\n",
    "l = list(set(l))\n",
    "df_diff.loc[l]"
   ]
  },
  {
   "cell_type": "markdown",
   "metadata": {},
   "source": [
    "### SE4All"
   ]
  },
  {
   "cell_type": "code",
   "execution_count": null,
   "metadata": {},
   "outputs": [],
   "source": [
    "se_df = pd.read_json(SCENARIOS_DATA[SE4ALL_SCENARIO]).set_index('country_iso').sort_index(ascending=True)\n",
    "invest_se = pd.read_csv('data/invest_se.csv', float_precision='high').set_index('country_iso').sort_index(ascending=True)\n",
    "\n",
    "COMP_COLS = INVEST + INVEST_CAP\n",
    "\n",
    "df_diff = invest_se[COMP_COLS] - se_df[COMP_COLS]\n",
    "\n",
    "def highlight_mismatch(col, eps=20):\n",
    "    return df_diff.loc[np.abs(df_diff[col]) > eps]\n",
    "\n",
    "l = []\n",
    "for col in COMP_COLS:\n",
    "    temp = highlight_mismatch(col).index.to_list()\n",
    "    if temp:\n",
    "        print('problems with ', col, temp)\n",
    "        print(len(temp))\n",
    "    l = l + temp\n",
    "len(set(l))\n",
    "l = list(set(l))\n",
    "df_diff.loc[l]"
   ]
  },
  {
   "cell_type": "markdown",
   "metadata": {},
   "source": [
    "### prOG"
   ]
  },
  {
   "cell_type": "code",
   "execution_count": null,
   "metadata": {},
   "outputs": [],
   "source": [
    "prog_df = pd.read_json(SCENARIOS_DATA[PROG_SCENARIO]).set_index('country_iso').sort_index(ascending=True)\n",
    "invest_prog = pd.read_csv('data/invest_prog.csv', float_precision='high').set_index('country_iso').sort_index(ascending=True)\n",
    "\n",
    "COMP_COLS = INVEST + INVEST_CAP\n",
    "\n",
    "df_diff = invest_prog[COMP_COLS] - prog_df[COMP_COLS]\n",
    "\n",
    "def highlight_mismatch(col, eps=40):\n",
    "    return df_diff.loc[np.abs(df_diff[col]) > eps]\n",
    "\n",
    "l = []\n",
    "for col in COMP_COLS:\n",
    "    temp = highlight_mismatch(col).index.to_list()\n",
    "    if temp:\n",
    "        print('problems with ', col, temp)\n",
    "        print(len(temp))\n",
    "    l = l + temp\n",
    "len(set(l))\n",
    "l = list(set(l))\n",
    "df_diff.loc[l]"
   ]
  },
  {
   "cell_type": "code",
   "execution_count": null,
   "metadata": {},
   "outputs": [],
   "source": []
  },
  {
   "cell_type": "code",
   "execution_count": null,
   "metadata": {},
   "outputs": [],
   "source": [
    "np.zeros((3,3))"
   ]
  },
  {
   "cell_type": "code",
   "execution_count": null,
   "metadata": {},
   "outputs": [],
   "source": []
  }
 ],
 "metadata": {
  "kernelspec": {
   "display_name": "Python 3",
   "language": "python",
   "name": "python3"
  },
  "language_info": {
   "codemirror_mode": {
    "name": "ipython",
    "version": 3
   },
   "file_extension": ".py",
   "mimetype": "text/x-python",
   "name": "python",
   "nbconvert_exporter": "python",
   "pygments_lexer": "ipython3",
   "version": "3.6.7"
  }
 },
 "nbformat": 4,
 "nbformat_minor": 2
}
