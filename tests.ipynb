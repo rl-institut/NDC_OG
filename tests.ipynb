{
 "cells": [
  {
   "cell_type": "code",
   "execution_count": 70,
   "metadata": {},
   "outputs": [],
   "source": [
    "import numpy as np\n",
    "import pandas as pd\n",
    "\n",
    "GRID = 'grid'\n",
    "MG = 'mg'\n",
    "SHS = 'shs'\n",
    "ELECTRIFICATION_OPTIONS = [GRID, MG, SHS]\n",
    "BAU_SCENARIO = 'bau'\n",
    "SE4ALL_SCENARIO = 'se4all'\n",
    "SE4ALL_FLEX_SCENARIO = 'se4all_shift'\n",
    "PROG_SCENARIO = 'prog'\n",
    "SCENARIOS = [BAU_SCENARIO, SE4ALL_SCENARIO, PROG_SCENARIO]\n",
    "\n",
    "# Names for display\n",
    "SCENARIOS_DICT = {\n",
    "    BAU_SCENARIO: 'BaU',\n",
    "    SE4ALL_SCENARIO: 'SE4All',\n",
    "    PROG_SCENARIO: 'prOG',\n",
    "}\n",
    "\n",
    "ELECTRIFICATION_DICT = {\n",
    "    GRID: 'Grid',\n",
    "    MG: 'Mini Grid',\n",
    "    SHS: 'Solar Home System'\n",
    "}\n",
    "\n",
    "# column names of the exogenous results\n",
    "POP_GET = ['pop_get_%s_2030' % opt for opt in ELECTRIFICATION_OPTIONS]\n",
    "HH_GET = ['hh_get_%s_2030' % opt for opt in ELECTRIFICATION_OPTIONS]\n",
    "HH_CAP = ['hh_%s_capacity' % opt for opt in ELECTRIFICATION_OPTIONS]\n",
    "HH_SCN2 = ['hh_cap_scn2_%s_capacity' % opt for opt in ELECTRIFICATION_OPTIONS]\n",
    "INVEST = ['%s_investment_cost' % opt for opt in [MG, SHS]]\n",
    "INVEST_CAP = ['tier_capped_%s_investment_cost' % opt for opt in [MG, SHS]]\n",
    "GHG = ['ghg_%s_2030' % opt for opt in ELECTRIFICATION_OPTIONS]\n",
    "GHG_CAP = ['tier_capped_ghg_%s_2030' % opt for opt in ELECTRIFICATION_OPTIONS]\n",
    "EXO_RESULTS = POP_GET + HH_GET + HH_CAP + HH_SCN2 + INVEST + INVEST_CAP + GHG + GHG_CAP\n",
    "\n",
    "# source http://www.worldbank.org/content/dam/Worldbank/Topics/Energy%20and%20Extract/\n",
    "# Beyond_Connections_Energy_Access_Redefined_Exec_ESMAP_2015.pdf\n",
    "MIN_TIER_LEVEL = 3\n",
    "MIN_RATED_CAPACITY = {1: 3, 2: 50, 3: 200, 4: 800, 5: 2000}  # index is TIER level [W]\n",
    "MIN_ANNUAL_CONSUMPTION = {1: 4.5, 2: 73, 3: 365, 4: 1250, 5: 3000}  # index is TIER level [kWh/a]\n",
    "RATIO_CAP_CONSUMPTION = {}\n",
    "\n",
    "# Investment Cost Source: Arranz and Worldbank,\n",
    "# BENCHMARKING STUDY OF SOLAR PV MINIGRIDS INVESTMENT COSTS, 2017 (Jabref)\n",
    "# unit is USD per household\n",
    "MEDIAN_INVESTMENT_COST = {1: 742, 2: 1273, 3: 2516, 4: 5277, 5: 5492}\n",
    "\n",
    "# drives for the socio-economic model\n",
    "IMPACT_FACTORS = pd.DataFrame(\n",
    "    {\n",
    "        MG: [3, 13. / 6, 19. / 6, 3.25, 11. / 3],\n",
    "        SHS: [23. / 12, 4.5, 37. / 12, 17. / 6, 41. / 12],\n",
    "        'labels': [\n",
    "            'high_gdp',\n",
    "            'high_mobile_money',\n",
    "            'high_ease_doing_business',\n",
    "            'low_corruption',\n",
    "            'high_grid_weakness'\n",
    "        ]\n",
    "    }\n",
    ")\n",
    "IMPACT_FACTORS = IMPACT_FACTORS.set_index('labels')\n",
    "\n",
    "MENTI_DRIVES = ['gdp', 'mobile_money', 'ease_doing_business', 'corruption', 'weak_grid']\n",
    "\n",
    "# $RT_shift_factors.$P$2\n",
    "WEIGHT_MENTIS = 0.2\n",
    "# -->WEIGHT_GRID = 0.8 ($RT_shift_factors.$O$2)  and  WEIGHT_GRID = 1 - WEIGHT_MENTIS\n",
    "RISE_INDICES = ['rise_%s' % opt for opt in ELECTRIFICATION_OPTIONS]\n",
    "SHIFT_MENTI = ['shift_menti_mg', 'shift_menti_shs']\n",
    "\n",
    "BASIC_ROWS = [\n",
    "    'People share',\n",
    "    'People (k)',\n",
    "    'HH (k)',\n",
    "    'HH cap. (MW)',\n",
    "    'HH cap. (MW) (TIER + 1)',\n",
    "    'Investment MUSD',\n",
    "    'Investment (TIER + 1) MUSD',\n",
    "]\n",
    "# labels of the columns of the result tables\n",
    "LABEL_COLUMNS = ELECTRIFICATION_DICT.copy()\n",
    "# a column for the row labels\n",
    "LABEL_COLUMNS['labels'] = ''\n",
    "LABEL_COLUMNS['total'] = 'Total'\n",
    "BASIC_COLUMNS_ID = ['labels'] + ELECTRIFICATION_OPTIONS + ['total']\n",
    "GHG_COLUMNS_ID = ['labels'] + ELECTRIFICATION_OPTIONS + ['total']\n",
    "COMPARE_COLUMNS_ID = ['labels']\n",
    "for opt in ELECTRIFICATION_OPTIONS + ['total']:\n",
    "    COMPARE_COLUMNS_ID.append(opt)\n",
    "    COMPARE_COLUMNS_ID.append('comp_{}'.format(opt))\n"
   ]
  },
  {
   "cell_type": "markdown",
   "metadata": {},
   "source": [
    "## Test TIER level attribution"
   ]
  },
  {
   "cell_type": "code",
   "execution_count": null,
   "metadata": {},
   "outputs": [],
   "source": [
    "from data_preparation import _find_tier_level\n",
    "\n",
    "for hh_cons in np.array([1, 50, 100, 400, 2000, 5000]):\n",
    "    print(_find_tier_level(hh_cons, 2))"
   ]
  },
  {
   "cell_type": "code",
   "execution_count": null,
   "metadata": {},
   "outputs": [],
   "source": [
    "from data_preparation import _slope_capacity_vs_yearly_consumption\n",
    "RATIO_CAP_CONSUMPTION = {}\n",
    "TIER_LEVELS = [1, 2, 3, 4, 5]\n",
    "for tier_lvl in [1, 2, 3, 4]:\n",
    "    RATIO_CAP_CONSUMPTION[tier_lvl] = _slope_capacity_vs_yearly_consumption(tier_lvl)\n",
    "RATIO_CAP_CONSUMPTION"
   ]
  },
  {
   "cell_type": "code",
   "execution_count": null,
   "metadata": {},
   "outputs": [],
   "source": [
    "MIN_RATED_CAPACITY = {1: 3, 2: 50, 3: 200, 4: 800, 5: 2000}  # index is TIER level [W]\n",
    "MIN_ANNUAL_CONSUMPTION = {1: 4.5, 2: 73, 3: 365, 4: 1250, 5: 3000}  # index is TIER level [kWh/a]"
   ]
  },
  {
   "cell_type": "code",
   "execution_count": null,
   "metadata": {},
   "outputs": [],
   "source": [
    "for tier_lvl in TIER_LEVELS:\n",
    "    print(MIN_RATED_CAPACITY[tier_lvl] / MIN_ANNUAL_CONSUMPTION[tier_lvl])"
   ]
  },
  {
   "cell_type": "code",
   "execution_count": null,
   "metadata": {},
   "outputs": [],
   "source": [
    "cap = [MIN_RATED_CAPACITY[i] for i in TIER_LEVELS]\n",
    "df = pd.DataFrame(cap)\n",
    "df[0].plot()"
   ]
  },
  {
   "cell_type": "code",
   "execution_count": null,
   "metadata": {},
   "outputs": [],
   "source": [
    "cons = [MIN_ANNUAL_CONSUMPTION[i] for i in TIER_LEVELS]\n",
    "df = pd.DataFrame(cons)\n",
    "df[0].plot()"
   ]
  },
  {
   "cell_type": "code",
   "execution_count": null,
   "metadata": {},
   "outputs": [],
   "source": [
    "from data_preparation import IMPACT_FACTORS\n",
    "IMPACT_FACTORS.index.to_list()"
   ]
  },
  {
   "cell_type": "code",
   "execution_count": null,
   "metadata": {},
   "outputs": [],
   "source": [
    "for opt in [MG, SHS]:\n",
    "    for input_name in IMPACT_FACTORS.index.to_list():\n",
    "        #print(\"Input('impact-{}-{}-input', 'value'),\".format(opt, input_name.replace('_', '-')))\n",
    "        print('impact_{}_{},'.format(opt, input_name.replace('high', '')))\n",
    "\n"
   ]
  },
  {
   "cell_type": "code",
   "execution_count": null,
   "metadata": {},
   "outputs": [],
   "source": [
    "country,country_iso, ghg_grid_2030,ghg_mg_2030,ghg_shs_2030,ghg_no_access_2030,tier_capped_ghg_grid_2030,tier_capped_ghg_mg_2030,tier_capped_ghg_shs_2030,tier_capped_ghg_no_access_2030"
   ]
  },
  {
   "cell_type": "markdown",
   "metadata": {},
   "source": [
    "# Tests of the model"
   ]
  },
  {
   "cell_type": "code",
   "execution_count": null,
   "metadata": {},
   "outputs": [],
   "source": [
    "from data.data_preparation import compute_ndc_results_from_raw_data\n",
    "SCENARIOS_DATA = {\n",
    "    sce: compute_ndc_results_from_raw_data(sce, MIN_TIER_LEVEL).to_json() for sce in SCENARIOS\n",
    "}"
   ]
  },
  {
   "cell_type": "code",
   "execution_count": null,
   "metadata": {},
   "outputs": [],
   "source": [
    "xls_bau = pd.read_csv('data/xls_bau.csv', float_precision='high')\n",
    "xls_se = pd.read_csv('data/xls_se.csv', float_precision='high')\n",
    "xls_prog = pd.read_csv('data/xls_prog.csv', float_precision='high')\n",
    "\n",
    "invest_bau = pd.read_csv('data/invest_bau.csv', float_precision='high')\n",
    "invest_se = pd.read_csv('data/invest_se.csv', float_precision='high')\n",
    "invest_prog = pd.read_csv('data/invest_prog.csv', float_precision='high')"
   ]
  },
  {
   "cell_type": "markdown",
   "metadata": {},
   "source": [
    "## Test Investment cost"
   ]
  },
  {
   "cell_type": "markdown",
   "metadata": {},
   "source": [
    "### BaU"
   ]
  },
  {
   "cell_type": "code",
   "execution_count": 71,
   "metadata": {},
   "outputs": [
    {
     "name": "stdout",
     "output_type": "stream",
     "text": [
      "problems with  ghg_grid_2030 ['IDN']\n",
      "1\n",
      "problems with  ghg_mg_2030 ['IDN']\n",
      "1\n",
      "problems with  tier_capped_ghg_grid_2030 ['IDN']\n",
      "1\n",
      "problems with  tier_capped_ghg_mg_2030 ['IDN']\n",
      "1\n"
     ]
    },
    {
     "data": {
      "text/html": [
       "<div>\n",
       "<style scoped>\n",
       "    .dataframe tbody tr th:only-of-type {\n",
       "        vertical-align: middle;\n",
       "    }\n",
       "\n",
       "    .dataframe tbody tr th {\n",
       "        vertical-align: top;\n",
       "    }\n",
       "\n",
       "    .dataframe thead th {\n",
       "        text-align: right;\n",
       "    }\n",
       "</style>\n",
       "<table border=\"1\" class=\"dataframe\">\n",
       "  <thead>\n",
       "    <tr style=\"text-align: right;\">\n",
       "      <th></th>\n",
       "      <th>ghg_grid_2030</th>\n",
       "      <th>ghg_mg_2030</th>\n",
       "      <th>ghg_shs_2030</th>\n",
       "      <th>tier_capped_ghg_grid_2030</th>\n",
       "      <th>tier_capped_ghg_mg_2030</th>\n",
       "      <th>tier_capped_ghg_shs_2030</th>\n",
       "    </tr>\n",
       "    <tr>\n",
       "      <th>country_iso</th>\n",
       "      <th></th>\n",
       "      <th></th>\n",
       "      <th></th>\n",
       "      <th></th>\n",
       "      <th></th>\n",
       "      <th></th>\n",
       "    </tr>\n",
       "  </thead>\n",
       "  <tbody>\n",
       "    <tr>\n",
       "      <th>IDN</th>\n",
       "      <td>1885.016081</td>\n",
       "      <td>290.925261</td>\n",
       "      <td>0</td>\n",
       "      <td>2874.960978</td>\n",
       "      <td>443.709091</td>\n",
       "      <td>0</td>\n",
       "    </tr>\n",
       "  </tbody>\n",
       "</table>\n",
       "</div>"
      ],
      "text/plain": [
       "             ghg_grid_2030  ghg_mg_2030  ghg_shs_2030  \\\n",
       "country_iso                                             \n",
       "IDN            1885.016081   290.925261             0   \n",
       "\n",
       "             tier_capped_ghg_grid_2030  tier_capped_ghg_mg_2030  \\\n",
       "country_iso                                                       \n",
       "IDN                        2874.960978               443.709091   \n",
       "\n",
       "             tier_capped_ghg_shs_2030  \n",
       "country_iso                            \n",
       "IDN                                 0  "
      ]
     },
     "execution_count": 71,
     "metadata": {},
     "output_type": "execute_result"
    }
   ],
   "source": [
    "bau_df = pd.read_json(SCENARIOS_DATA[BAU_SCENARIO]).set_index('country_iso').sort_index(ascending=True)\n",
    "ghg_bau = pd.read_csv('data/ghg_bau.csv', float_precision='high').set_index('country_iso').sort_index(ascending=True)\n",
    "\n",
    "COMP_COLS = GHG + GHG_CAP\n",
    "\n",
    "df_diff = ghg_bau[COMP_COLS] - bau_df[COMP_COLS]\n",
    "\n",
    "def highlight_mismatch(col, eps=40):\n",
    "    return df_diff.loc[np.abs(df_diff[col]) > eps]\n",
    "\n",
    "l = []\n",
    "for col in COMP_COLS:\n",
    "    temp = highlight_mismatch(col).index.to_list()\n",
    "    if temp:\n",
    "        print('problems with ', col, temp)\n",
    "        print(len(temp))\n",
    "    l = l + temp\n",
    "len(set(l))\n",
    "l = list(set(l))\n",
    "df_diff.loc[l]"
   ]
  },
  {
   "cell_type": "markdown",
   "metadata": {},
   "source": [
    "### SE4All"
   ]
  },
  {
   "cell_type": "code",
   "execution_count": 72,
   "metadata": {},
   "outputs": [
    {
     "name": "stdout",
     "output_type": "stream",
     "text": [
      "problems with  ghg_grid_2030 ['IDN', 'ZWE']\n",
      "2\n",
      "problems with  ghg_mg_2030 ['IDN', 'ZWE']\n",
      "2\n",
      "problems with  tier_capped_ghg_grid_2030 ['IDN', 'ZWE']\n",
      "2\n",
      "problems with  tier_capped_ghg_mg_2030 ['IDN', 'ZWE']\n",
      "2\n",
      "problems with  tier_capped_ghg_shs_2030 ['ZWE']\n",
      "1\n"
     ]
    },
    {
     "data": {
      "text/html": [
       "<div>\n",
       "<style scoped>\n",
       "    .dataframe tbody tr th:only-of-type {\n",
       "        vertical-align: middle;\n",
       "    }\n",
       "\n",
       "    .dataframe tbody tr th {\n",
       "        vertical-align: top;\n",
       "    }\n",
       "\n",
       "    .dataframe thead th {\n",
       "        text-align: right;\n",
       "    }\n",
       "</style>\n",
       "<table border=\"1\" class=\"dataframe\">\n",
       "  <thead>\n",
       "    <tr style=\"text-align: right;\">\n",
       "      <th></th>\n",
       "      <th>ghg_grid_2030</th>\n",
       "      <th>ghg_mg_2030</th>\n",
       "      <th>ghg_shs_2030</th>\n",
       "      <th>tier_capped_ghg_grid_2030</th>\n",
       "      <th>tier_capped_ghg_mg_2030</th>\n",
       "      <th>tier_capped_ghg_shs_2030</th>\n",
       "    </tr>\n",
       "    <tr>\n",
       "      <th>country_iso</th>\n",
       "      <th></th>\n",
       "      <th></th>\n",
       "      <th></th>\n",
       "      <th></th>\n",
       "      <th></th>\n",
       "      <th></th>\n",
       "    </tr>\n",
       "  </thead>\n",
       "  <tbody>\n",
       "    <tr>\n",
       "      <th>ZWE</th>\n",
       "      <td>533773.426236</td>\n",
       "      <td>-54465.429772</td>\n",
       "      <td>0</td>\n",
       "      <td>-61033.637465</td>\n",
       "      <td>-148762.394563</td>\n",
       "      <td>452429.512592</td>\n",
       "    </tr>\n",
       "    <tr>\n",
       "      <th>IDN</th>\n",
       "      <td>701.826870</td>\n",
       "      <td>43.389945</td>\n",
       "      <td>0</td>\n",
       "      <td>1070.401937</td>\n",
       "      <td>66.176836</td>\n",
       "      <td>0.000000</td>\n",
       "    </tr>\n",
       "  </tbody>\n",
       "</table>\n",
       "</div>"
      ],
      "text/plain": [
       "             ghg_grid_2030   ghg_mg_2030  ghg_shs_2030  \\\n",
       "country_iso                                              \n",
       "ZWE          533773.426236 -54465.429772             0   \n",
       "IDN             701.826870     43.389945             0   \n",
       "\n",
       "             tier_capped_ghg_grid_2030  tier_capped_ghg_mg_2030  \\\n",
       "country_iso                                                       \n",
       "ZWE                      -61033.637465           -148762.394563   \n",
       "IDN                        1070.401937                66.176836   \n",
       "\n",
       "             tier_capped_ghg_shs_2030  \n",
       "country_iso                            \n",
       "ZWE                     452429.512592  \n",
       "IDN                          0.000000  "
      ]
     },
     "execution_count": 72,
     "metadata": {},
     "output_type": "execute_result"
    }
   ],
   "source": [
    "se_df = pd.read_json(SCENARIOS_DATA[SE4ALL_SCENARIO]).set_index('country_iso').sort_index(ascending=True)\n",
    "ghg_se = pd.read_csv('data/ghg_se.csv', float_precision='high').set_index('country_iso').sort_index(ascending=True)\n",
    "\n",
    "COMP_COLS = GHG + GHG_CAP\n",
    "\n",
    "df_diff = ghg_se[COMP_COLS] - se_df[COMP_COLS]\n",
    "\n",
    "def highlight_mismatch(col, eps=40):\n",
    "    return df_diff.loc[np.abs(df_diff[col]) > eps]\n",
    "\n",
    "l = []\n",
    "for col in COMP_COLS:\n",
    "    temp = highlight_mismatch(col).index.to_list()\n",
    "    if temp:\n",
    "        print('problems with ', col, temp)\n",
    "        print(len(temp))\n",
    "    l = l + temp\n",
    "len(set(l))\n",
    "l = list(set(l))\n",
    "df_diff.loc[l]"
   ]
  },
  {
   "cell_type": "markdown",
   "metadata": {},
   "source": [
    "### prOG"
   ]
  },
  {
   "cell_type": "code",
   "execution_count": 73,
   "metadata": {},
   "outputs": [
    {
     "name": "stdout",
     "output_type": "stream",
     "text": [
      "problems with  ghg_grid_2030 ['BWA', 'IDN']\n",
      "2\n",
      "problems with  ghg_mg_2030 ['BWA', 'IDN']\n",
      "2\n",
      "problems with  tier_capped_ghg_grid_2030 ['BWA', 'IDN']\n",
      "2\n",
      "problems with  tier_capped_ghg_mg_2030 ['BWA', 'IDN']\n",
      "2\n"
     ]
    },
    {
     "data": {
      "text/html": [
       "<div>\n",
       "<style scoped>\n",
       "    .dataframe tbody tr th:only-of-type {\n",
       "        vertical-align: middle;\n",
       "    }\n",
       "\n",
       "    .dataframe tbody tr th {\n",
       "        vertical-align: top;\n",
       "    }\n",
       "\n",
       "    .dataframe thead th {\n",
       "        text-align: right;\n",
       "    }\n",
       "</style>\n",
       "<table border=\"1\" class=\"dataframe\">\n",
       "  <thead>\n",
       "    <tr style=\"text-align: right;\">\n",
       "      <th></th>\n",
       "      <th>ghg_grid_2030</th>\n",
       "      <th>ghg_mg_2030</th>\n",
       "      <th>ghg_shs_2030</th>\n",
       "      <th>tier_capped_ghg_grid_2030</th>\n",
       "      <th>tier_capped_ghg_mg_2030</th>\n",
       "      <th>tier_capped_ghg_shs_2030</th>\n",
       "    </tr>\n",
       "    <tr>\n",
       "      <th>country_iso</th>\n",
       "      <th></th>\n",
       "      <th></th>\n",
       "      <th></th>\n",
       "      <th></th>\n",
       "      <th></th>\n",
       "      <th></th>\n",
       "    </tr>\n",
       "  </thead>\n",
       "  <tbody>\n",
       "    <tr>\n",
       "      <th>IDN</th>\n",
       "      <td>100.252388</td>\n",
       "      <td>106.454264</td>\n",
       "      <td>0.0</td>\n",
       "      <td>152.901455</td>\n",
       "      <td>162.360342</td>\n",
       "      <td>0.0</td>\n",
       "    </tr>\n",
       "    <tr>\n",
       "      <th>BWA</th>\n",
       "      <td>116381.377450</td>\n",
       "      <td>-5866.736103</td>\n",
       "      <td>0.0</td>\n",
       "      <td>140613.826964</td>\n",
       "      <td>-7088.283653</td>\n",
       "      <td>0.0</td>\n",
       "    </tr>\n",
       "  </tbody>\n",
       "</table>\n",
       "</div>"
      ],
      "text/plain": [
       "             ghg_grid_2030  ghg_mg_2030  ghg_shs_2030  \\\n",
       "country_iso                                             \n",
       "IDN             100.252388   106.454264           0.0   \n",
       "BWA          116381.377450 -5866.736103           0.0   \n",
       "\n",
       "             tier_capped_ghg_grid_2030  tier_capped_ghg_mg_2030  \\\n",
       "country_iso                                                       \n",
       "IDN                         152.901455               162.360342   \n",
       "BWA                      140613.826964             -7088.283653   \n",
       "\n",
       "             tier_capped_ghg_shs_2030  \n",
       "country_iso                            \n",
       "IDN                               0.0  \n",
       "BWA                               0.0  "
      ]
     },
     "execution_count": 73,
     "metadata": {},
     "output_type": "execute_result"
    }
   ],
   "source": [
    "prog_df = pd.read_json(SCENARIOS_DATA[PROG_SCENARIO]).set_index('country_iso').sort_index(ascending=True)\n",
    "ghg_prog = pd.read_csv('data/ghg_prog.csv', float_precision='high').set_index('country_iso').sort_index(ascending=True)\n",
    "\n",
    "COMP_COLS = GHG + GHG_CAP\n",
    "\n",
    "df_diff = ghg_prog[COMP_COLS] - prog_df[COMP_COLS]\n",
    "\n",
    "def highlight_mismatch(col, eps=40):\n",
    "    return df_diff.loc[np.abs(df_diff[col]) > eps]\n",
    "\n",
    "l = []\n",
    "for col in COMP_COLS:\n",
    "    temp = highlight_mismatch(col).index.to_list()\n",
    "    if temp:\n",
    "        print('problems with ', col, temp)\n",
    "        print(len(temp))\n",
    "    l = l + temp\n",
    "len(set(l))\n",
    "l = list(set(l))\n",
    "df_diff.loc[l]"
   ]
  },
  {
   "cell_type": "markdown",
   "metadata": {},
   "source": [
    "## Test Investment cost"
   ]
  },
  {
   "cell_type": "markdown",
   "metadata": {},
   "source": [
    "### BaU"
   ]
  },
  {
   "cell_type": "code",
   "execution_count": 74,
   "metadata": {},
   "outputs": [
    {
     "name": "stdout",
     "output_type": "stream",
     "text": [
      "problems with  mg_investment_cost ['IDN', 'IND']\n",
      "2\n",
      "problems with  shs_investment_cost ['IDN']\n",
      "1\n",
      "problems with  tier_capped_mg_investment_cost ['IDN', 'IND', 'NAM']\n",
      "3\n",
      "problems with  tier_capped_shs_investment_cost ['IDN']\n",
      "1\n"
     ]
    },
    {
     "data": {
      "text/html": [
       "<div>\n",
       "<style scoped>\n",
       "    .dataframe tbody tr th:only-of-type {\n",
       "        vertical-align: middle;\n",
       "    }\n",
       "\n",
       "    .dataframe tbody tr th {\n",
       "        vertical-align: top;\n",
       "    }\n",
       "\n",
       "    .dataframe thead th {\n",
       "        text-align: right;\n",
       "    }\n",
       "</style>\n",
       "<table border=\"1\" class=\"dataframe\">\n",
       "  <thead>\n",
       "    <tr style=\"text-align: right;\">\n",
       "      <th></th>\n",
       "      <th>mg_investment_cost</th>\n",
       "      <th>shs_investment_cost</th>\n",
       "      <th>tier_capped_mg_investment_cost</th>\n",
       "      <th>tier_capped_shs_investment_cost</th>\n",
       "    </tr>\n",
       "    <tr>\n",
       "      <th>country_iso</th>\n",
       "      <th></th>\n",
       "      <th></th>\n",
       "      <th></th>\n",
       "      <th></th>\n",
       "    </tr>\n",
       "  </thead>\n",
       "  <tbody>\n",
       "    <tr>\n",
       "      <th>IND</th>\n",
       "      <td>-6.705028e+01</td>\n",
       "      <td>16.193810</td>\n",
       "      <td>-1.617987e+02</td>\n",
       "      <td>32.387642</td>\n",
       "    </tr>\n",
       "    <tr>\n",
       "      <th>NAM</th>\n",
       "      <td>6.181916e+00</td>\n",
       "      <td>-0.037684</td>\n",
       "      <td>6.102219e+01</td>\n",
       "      <td>-0.083999</td>\n",
       "    </tr>\n",
       "    <tr>\n",
       "      <th>IDN</th>\n",
       "      <td>3.119468e+06</td>\n",
       "      <td>359668.045306</td>\n",
       "      <td>4.884199e+06</td>\n",
       "      <td>719336.090611</td>\n",
       "    </tr>\n",
       "  </tbody>\n",
       "</table>\n",
       "</div>"
      ],
      "text/plain": [
       "             mg_investment_cost  shs_investment_cost  \\\n",
       "country_iso                                            \n",
       "IND               -6.705028e+01            16.193810   \n",
       "NAM                6.181916e+00            -0.037684   \n",
       "IDN                3.119468e+06        359668.045306   \n",
       "\n",
       "             tier_capped_mg_investment_cost  tier_capped_shs_investment_cost  \n",
       "country_iso                                                                   \n",
       "IND                           -1.617987e+02                        32.387642  \n",
       "NAM                            6.102219e+01                        -0.083999  \n",
       "IDN                            4.884199e+06                    719336.090611  "
      ]
     },
     "execution_count": 74,
     "metadata": {},
     "output_type": "execute_result"
    }
   ],
   "source": [
    "bau_df = pd.read_json(SCENARIOS_DATA[BAU_SCENARIO]).set_index('country_iso').sort_index(ascending=True)\n",
    "invest_bau = pd.read_csv('data/invest_bau.csv', float_precision='high').set_index('country_iso').sort_index(ascending=True)\n",
    "\n",
    "COMP_COLS = INVEST + INVEST_CAP\n",
    "\n",
    "df_diff = invest_bau[COMP_COLS] - bau_df[COMP_COLS]\n",
    "\n",
    "def highlight_mismatch(col, eps=40):\n",
    "    return df_diff.loc[np.abs(df_diff[col]) > eps]\n",
    "\n",
    "l = []\n",
    "for col in COMP_COLS:\n",
    "    temp = highlight_mismatch(col).index.to_list()\n",
    "    if temp:\n",
    "        print('problems with ', col, temp)\n",
    "        print(len(temp))\n",
    "    l = l + temp\n",
    "len(set(l))\n",
    "l = list(set(l))\n",
    "df_diff.loc[l]"
   ]
  },
  {
   "cell_type": "markdown",
   "metadata": {},
   "source": [
    "### SE4All"
   ]
  },
  {
   "cell_type": "code",
   "execution_count": 75,
   "metadata": {},
   "outputs": [
    {
     "name": "stdout",
     "output_type": "stream",
     "text": [
      "problems with  mg_investment_cost ['IDN', 'NAM']\n",
      "2\n",
      "problems with  shs_investment_cost ['IDN']\n",
      "1\n",
      "problems with  tier_capped_mg_investment_cost ['IDN', 'NAM']\n",
      "2\n",
      "problems with  tier_capped_shs_investment_cost ['IDN']\n",
      "1\n"
     ]
    },
    {
     "data": {
      "text/html": [
       "<div>\n",
       "<style scoped>\n",
       "    .dataframe tbody tr th:only-of-type {\n",
       "        vertical-align: middle;\n",
       "    }\n",
       "\n",
       "    .dataframe tbody tr th {\n",
       "        vertical-align: top;\n",
       "    }\n",
       "\n",
       "    .dataframe thead th {\n",
       "        text-align: right;\n",
       "    }\n",
       "</style>\n",
       "<table border=\"1\" class=\"dataframe\">\n",
       "  <thead>\n",
       "    <tr style=\"text-align: right;\">\n",
       "      <th></th>\n",
       "      <th>mg_investment_cost</th>\n",
       "      <th>shs_investment_cost</th>\n",
       "      <th>tier_capped_mg_investment_cost</th>\n",
       "      <th>tier_capped_shs_investment_cost</th>\n",
       "    </tr>\n",
       "    <tr>\n",
       "      <th>country_iso</th>\n",
       "      <th></th>\n",
       "      <th></th>\n",
       "      <th></th>\n",
       "      <th></th>\n",
       "    </tr>\n",
       "  </thead>\n",
       "  <tbody>\n",
       "    <tr>\n",
       "      <th>NAM</th>\n",
       "      <td>23.645296</td>\n",
       "      <td>4.470348e-08</td>\n",
       "      <td>236.900143</td>\n",
       "      <td>2.682209e-07</td>\n",
       "    </tr>\n",
       "    <tr>\n",
       "      <th>IDN</th>\n",
       "      <td>465251.938758</td>\n",
       "      <td>1.261713e+06</td>\n",
       "      <td>728452.082689</td>\n",
       "      <td>2.523425e+06</td>\n",
       "    </tr>\n",
       "  </tbody>\n",
       "</table>\n",
       "</div>"
      ],
      "text/plain": [
       "             mg_investment_cost  shs_investment_cost  \\\n",
       "country_iso                                            \n",
       "NAM                   23.645296         4.470348e-08   \n",
       "IDN               465251.938758         1.261713e+06   \n",
       "\n",
       "             tier_capped_mg_investment_cost  tier_capped_shs_investment_cost  \n",
       "country_iso                                                                   \n",
       "NAM                              236.900143                     2.682209e-07  \n",
       "IDN                           728452.082689                     2.523425e+06  "
      ]
     },
     "execution_count": 75,
     "metadata": {},
     "output_type": "execute_result"
    }
   ],
   "source": [
    "se_df = pd.read_json(SCENARIOS_DATA[SE4ALL_SCENARIO]).set_index('country_iso').sort_index(ascending=True)\n",
    "invest_se = pd.read_csv('data/invest_se.csv', float_precision='high').set_index('country_iso').sort_index(ascending=True)\n",
    "\n",
    "COMP_COLS = INVEST + INVEST_CAP\n",
    "\n",
    "df_diff = invest_se[COMP_COLS] - se_df[COMP_COLS]\n",
    "\n",
    "def highlight_mismatch(col, eps=20):\n",
    "    return df_diff.loc[np.abs(df_diff[col]) > eps]\n",
    "\n",
    "l = []\n",
    "for col in COMP_COLS:\n",
    "    temp = highlight_mismatch(col).index.to_list()\n",
    "    if temp:\n",
    "        print('problems with ', col, temp)\n",
    "        print(len(temp))\n",
    "    l = l + temp\n",
    "len(set(l))\n",
    "l = list(set(l))\n",
    "df_diff.loc[l]"
   ]
  },
  {
   "cell_type": "markdown",
   "metadata": {},
   "source": [
    "### prOG"
   ]
  },
  {
   "cell_type": "code",
   "execution_count": 76,
   "metadata": {},
   "outputs": [
    {
     "name": "stdout",
     "output_type": "stream",
     "text": [
      "problems with  mg_investment_cost ['BWA', 'IDN']\n",
      "2\n",
      "problems with  shs_investment_cost ['BWA', 'IDN']\n",
      "2\n",
      "problems with  tier_capped_mg_investment_cost ['BWA', 'IDN', 'NAM']\n",
      "3\n",
      "problems with  tier_capped_shs_investment_cost ['BWA', 'IDN']\n",
      "2\n"
     ]
    },
    {
     "data": {
      "text/html": [
       "<div>\n",
       "<style scoped>\n",
       "    .dataframe tbody tr th:only-of-type {\n",
       "        vertical-align: middle;\n",
       "    }\n",
       "\n",
       "    .dataframe tbody tr th {\n",
       "        vertical-align: top;\n",
       "    }\n",
       "\n",
       "    .dataframe thead th {\n",
       "        text-align: right;\n",
       "    }\n",
       "</style>\n",
       "<table border=\"1\" class=\"dataframe\">\n",
       "  <thead>\n",
       "    <tr style=\"text-align: right;\">\n",
       "      <th></th>\n",
       "      <th>mg_investment_cost</th>\n",
       "      <th>shs_investment_cost</th>\n",
       "      <th>tier_capped_mg_investment_cost</th>\n",
       "      <th>tier_capped_shs_investment_cost</th>\n",
       "    </tr>\n",
       "    <tr>\n",
       "      <th>country_iso</th>\n",
       "      <th></th>\n",
       "      <th></th>\n",
       "      <th></th>\n",
       "      <th></th>\n",
       "    </tr>\n",
       "  </thead>\n",
       "  <tbody>\n",
       "    <tr>\n",
       "      <th>NAM</th>\n",
       "      <td>2.481585e+01</td>\n",
       "      <td>-7.450581e-08</td>\n",
       "      <td>2.486279e+02</td>\n",
       "      <td>2.980232e-07</td>\n",
       "    </tr>\n",
       "    <tr>\n",
       "      <th>IDN</th>\n",
       "      <td>1.141464e+06</td>\n",
       "      <td>1.376495e+06</td>\n",
       "      <td>1.787207e+06</td>\n",
       "      <td>2.752989e+06</td>\n",
       "    </tr>\n",
       "    <tr>\n",
       "      <th>BWA</th>\n",
       "      <td>-5.215774e+07</td>\n",
       "      <td>-7.589804e+06</td>\n",
       "      <td>-6.395015e+07</td>\n",
       "      <td>-1.691781e+07</td>\n",
       "    </tr>\n",
       "  </tbody>\n",
       "</table>\n",
       "</div>"
      ],
      "text/plain": [
       "             mg_investment_cost  shs_investment_cost  \\\n",
       "country_iso                                            \n",
       "NAM                2.481585e+01        -7.450581e-08   \n",
       "IDN                1.141464e+06         1.376495e+06   \n",
       "BWA               -5.215774e+07        -7.589804e+06   \n",
       "\n",
       "             tier_capped_mg_investment_cost  tier_capped_shs_investment_cost  \n",
       "country_iso                                                                   \n",
       "NAM                            2.486279e+02                     2.980232e-07  \n",
       "IDN                            1.787207e+06                     2.752989e+06  \n",
       "BWA                           -6.395015e+07                    -1.691781e+07  "
      ]
     },
     "execution_count": 76,
     "metadata": {},
     "output_type": "execute_result"
    }
   ],
   "source": [
    "prog_df = pd.read_json(SCENARIOS_DATA[PROG_SCENARIO]).set_index('country_iso').sort_index(ascending=True)\n",
    "invest_prog = pd.read_csv('data/invest_prog.csv', float_precision='high').set_index('country_iso').sort_index(ascending=True)\n",
    "\n",
    "COMP_COLS = INVEST + INVEST_CAP\n",
    "\n",
    "df_diff = invest_prog[COMP_COLS] - prog_df[COMP_COLS]\n",
    "\n",
    "def highlight_mismatch(col, eps=40):\n",
    "    return df_diff.loc[np.abs(df_diff[col]) > eps]\n",
    "\n",
    "l = []\n",
    "for col in COMP_COLS:\n",
    "    temp = highlight_mismatch(col).index.to_list()\n",
    "    if temp:\n",
    "        print('problems with ', col, temp)\n",
    "        print(len(temp))\n",
    "    l = l + temp\n",
    "len(set(l))\n",
    "l = list(set(l))\n",
    "df_diff.loc[l]"
   ]
  }
 ],
 "metadata": {
  "kernelspec": {
   "display_name": "Python 3",
   "language": "python",
   "name": "python3"
  },
  "language_info": {
   "codemirror_mode": {
    "name": "ipython",
    "version": 3
   },
   "file_extension": ".py",
   "mimetype": "text/x-python",
   "name": "python",
   "nbconvert_exporter": "python",
   "pygments_lexer": "ipython3",
   "version": "3.6.7"
  }
 },
 "nbformat": 4,
 "nbformat_minor": 2
}
