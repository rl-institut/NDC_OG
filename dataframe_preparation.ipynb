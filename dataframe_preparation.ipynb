{
 "cells": [
  {
   "cell_type": "code",
   "execution_count": null,
   "metadata": {},
   "outputs": [],
   "source": [
    "import pandas as pd\n",
    "import numpy as np"
   ]
  },
  {
   "cell_type": "markdown",
   "metadata": {},
   "source": [
    "##  Sales volume data for the estimation of the power consumption by shs usage\n"
   ]
  },
  {
   "cell_type": "code",
   "execution_count": null,
   "metadata": {},
   "outputs": [],
   "source": [
    "\n",
    "shs_sales_volumes = pd.read_csv('daten/shs_sales_volumes.csv', comment='#')\n",
    "# compute the average of the product categories 5 to 7\n",
    "shs_sales_volumes['tot_5-7'] = shs_sales_volumes[['5', '6', '7']].sum(axis=1)\n",
    "\n",
    "shs_power_categories = pd.read_csv('daten/shs_power_per_product_categories.csv', comment='#')\n",
    "\n",
    "# compute the average power for each category\n",
    "shs_power_categories['power_av'] = shs_power_categories[['power_low', 'power_high']].mean(axis=1)\n",
    "\n",
    "# select only the average power for the product categories 5 to 7\n",
    "cat_power_av_5_7 = shs_power_categories['power_av'].loc[shs_power_categories.category >= 5].values\n",
    "# compute the average power per region (multiply the number units sold per product categories by the average power of the respective category)\n",
    "power_av_5_7 = shs_sales_volumes[['5', '6', '7']].values * cat_power_av_5_7\n",
    "# compute the average unit power per region (divide the sum over the categories by the total unit sold)\n",
    "shs_sales_volumes['weighted_tot_5-7 [W]'] = power_av_5_7.sum(axis=1) / shs_sales_volumes['tot_5-7'].values\n",
    "\n",
    "SHS_POWER_CATEGORIES = shs_power_categories.set_index('category')\n",
    "SHS_SALES_VOLUMES = shs_sales_volumes.set_index('region')"
   ]
  },
  {
   "cell_type": "code",
   "execution_count": null,
   "metadata": {},
   "outputs": [],
   "source": [
    "SHS_SALES_VOLUMES"
   ]
  },
  {
   "cell_type": "code",
   "execution_count": null,
   "metadata": {},
   "outputs": [],
   "source": [
    "# Global parameters\n",
    "# variable\n",
    "tier\n",
    "invest_shs\n",
    "invest_mg\n",
    "# fixed\n",
    "weight_rise\n",
    "weight_experts"
   ]
  },
  {
   "cell_type": "markdown",
   "metadata": {},
   "source": [
    "## Raw data loading"
   ]
  },
  {
   "cell_type": "code",
   "execution_count": null,
   "metadata": {},
   "outputs": [],
   "source": [
    "df = pd.read_csv('daten/raw_data.csv')"
   ]
  },
  {
   "cell_type": "code",
   "execution_count": null,
   "metadata": {},
   "outputs": [],
   "source": [
    "df.head()"
   ]
  },
  {
   "cell_type": "markdown",
   "metadata": {},
   "source": [
    "## Prepare endogenous results "
   ]
  },
  {
   "cell_type": "code",
   "execution_count": null,
   "metadata": {},
   "outputs": [],
   "source": [
    "GRID = 'grid'\n",
    "MG = 'mg'\n",
    "SHS = 'shs'\n",
    "\n",
    "ELECTRIFICATION_OPTIONS = [GRID, MG, SHS]\n",
    "BAU_SENARIO = 'bau'\n",
    "SE4ALL_SHIFT_SENARIO = 'se4all_shift'\n",
    "PROG_SENARIO = 'prog'\n",
    "SENARII = [BAU_SENARIO, SE4ALL_SHIFT_SENARIO, PROG_SENARIO]\n",
    "\n",
    "MIN_TIER_LEVEL = 3\n",
    "MIN_RATED_CAPACITY = {3: 200, 4: 800, 5: 2000} # index is TIER level [W]\n",
    "MIN_ANNUAL_CONSUMPTION = {3: 365, 4: 1250, 5: 3000} # index is TIER level [kWh/a]\n",
    "\n",
    "# drives for the socio-economic model\n",
    "MENTI = pd.DataFrame({MG: [3, 13. / 6, 19. / 6, 3.25, 11. / 3],\n",
    "                    SHS: [23. / 12, 4.5, 37. / 12, 17. / 6, 41. / 12],\n",
    "                   'labels': ['high_gdp', 'high_mobile_money', 'high_ease_doing_business', 'low_corruption', 'high_grid_weakness']\n",
    "                   })\n",
    "MENTI = MENTI.set_index('labels')"
   ]
  },
  {
   "cell_type": "code",
   "execution_count": null,
   "metadata": {},
   "outputs": [],
   "source": [
    "from daten.data_preparation import map_tier_yearly_consumption, get_peak_capacity_from_yearly_consumption\n",
    "\n",
    "# compute the grid and mg yearly consumption adjusted for tier level\n",
    "for opt in [GRID, MG]:\n",
    "    df['hh_%s_tier_yearly_electricity_consumption' % opt] = np.vectorize(map_tier_yearly_consumption)(\n",
    "        df.hh_yearly_electricity_consumption, \n",
    "        df['hh_%s_share' % opt]\n",
    "    )\n",
    "\n",
    "#shs_unit_av_capacity  # SHS average capacity [Wp per sold unit]\n",
    "#=WENN(C3=\"SSA\";$'SHS sales volume'.$V$12;WENN(C3=\"DA\";$'SHS sales volume'.$V$17;WENN(C3=\"LA\";$'SHS sales volume'.$V$20;0)))\n",
    "df['shs_unit_av_capacity'] = df.region.map(lambda region: SHS_SALES_VOLUMES.loc[region]['weighted_tot_5-7 [W]'])\n",
    "\n",
    "opt = GRID\n",
    "#=WENN(AA3<=$Tiers.$C$5;$Tiers.$C$4;WENN(AA3<=$Tiers.$D$5;$Tiers.$D$4))/1000\n",
    "for tier_level in [5, 4]:\n",
    "    df.loc[df.hh_yearly_electricity_consumption <= MIN_ANNUAL_CONSUMPTION[tier_level], 'cap_sn2_%s_tier_up' % opt] = MIN_RATED_CAPACITY[tier_level] / 1000\n",
    "\n",
    "opt = MG\n",
    "#=$'Data_+_GIS'.T3*$'Data_+_GIS'.AF3\n",
    "df['cap_sn2_%s_tier_up' % opt] = df.cap_sn2_grid_tier_up * df.hh_mg_share\n",
    "\n",
    "opt = SHS\n",
    "#=WENN(V3<=$'SHS sales volume'.$D$6;$'SHS sales volume'.$D$7;$'SHS sales volume'.$D$8)\n",
    "def shs_av_power(power_cat):\n",
    "    return SHS_POWER_CATEGORIES.loc[power_cat, 'power_av']\n",
    "\n",
    "df['cap_sn2_%s_tier_up' % opt] = df.shs_unit_av_capacity.map(lambda shs_cap: shs_av_power(6) if shs_cap <= shs_av_power(5) else shs_av_power(7))\n",
    "\n",
    "# peak demand\n",
    "for opt in [GRID, MG]:\n",
    "    df['hh_%s_tier_peak_demand' % opt] = df['hh_%s_tier_yearly_electricity_consumption' % opt].map(\n",
    "        get_peak_capacity_from_yearly_consumption, \n",
    "        na_action='ignore'\n",
    "    )\n",
    "\n",
    "df['pop_rel_growth'] = df.pop_2030 / df.pop_2017\n",
    "df['pop_dark_2017'] = df.pop_2017 * df.dark_rate\n",
    "df['pop_newly_electrified_2030'] = df.pop_rel_growth * df.pop_dark_2017\n",
    "df['pop_electrified_2017'] = df.electrification_rate * df.pop_2017\n",
    "    "
   ]
  },
  {
   "cell_type": "markdown",
   "metadata": {},
   "source": [
    "## variables that are not shared between prOG and se4all+SHIFT"
   ]
  },
  {
   "cell_type": "raw",
   "metadata": {},
   "source": [
    "rise_mg and rise_shs set to 100\n",
    "\n",
    "shift_factor_grid --> shift_grid_share\n",
    "=WENN(SUMME(G5;H5;I5)=0;0;G5/SUMME($G5:$I5))\n",
    "\n",
    "shift_factor_mg --> shift_grid_to_mg_share\n",
    "=WENN(SUMME(H5;I5;M5)=0;0;H5/SUMME($G5:$I5))\n",
    "\n",
    "shift_factor_shs --> shift_grid_to_shs_share\n",
    "=WENN(SUMME(I5;M5;N5)=0;0;I5/SUMME($G5:$I5))\n"
   ]
  },
  {
   "cell_type": "markdown",
   "metadata": {},
   "source": [
    "## BaU senario data"
   ]
  },
  {
   "cell_type": "code",
   "execution_count": null,
   "metadata": {},
   "outputs": [],
   "source": [
    "bau_data = pd.read_csv('daten/bau.csv', comment='#')\n",
    "bau_data = bau_data.set_index('region')\n",
    "\n",
    "df['iea_regional_electricity_coverage'] = df['region'].map(lambda region: bau_data.loc[region]['iea_regional_electricity_coverage'])\n",
    "df['bau_pop_newly_electrified'] = df.iea_regional_electricity_coverage * df.pop_newly_electrified_2030\n",
    "\n",
    "for opt in ELECTRIFICATION_OPTIONS:\n",
    "    #assign the regional electricity share for each options\n",
    "    df['bau_pop_%s_share' % opt] = df['region'].map(lambda region: bau_data.loc[region]['%s_share' % opt])"
   ]
  },
  {
   "cell_type": "markdown",
   "metadata": {},
   "source": [
    "## se4all+SHIFT senario data"
   ]
  },
  {
   "cell_type": "code",
   "execution_count": null,
   "metadata": {},
   "outputs": [],
   "source": [
    "from daten.data_preparation import (\n",
    "    map_weak_grid_class,\n",
    "    map_corruption_class,\n",
    "    map_ease_doing_business_class,\n",
    "    map_gdp_class,\n",
    "    map_mobile_money_class\n",
    ")\n",
    "\n",
    "df['weak_grid_class'] = df['weak_grid_index'].map(map_weak_grid_class, na_action='ignore')\n",
    "df['corruption_class'] = df['corruption_index'].map(map_corruption_class, na_action='ignore')\n",
    "df['ease_doing_business_class'] = df['ease_doing_business_index'].map(map_ease_doing_business_class, na_action='ignore')\n",
    "df['gdp_class'] = df['gdp_per_capita'].map(map_gdp_class, na_action='ignore')\n",
    "df['mobile_money'] = df['mobile_money_2017'].fillna(df['mobile_money_2014'])\n",
    "df['mobile_money_class'] = df['mobile_money'].map(map_mobile_money_class, na_action='ignore').fillna(0)\n",
    "\n",
    "# apply the shift drives\n",
    "for opt in [MG, SHS]:\n",
    "    df['shift_menti_%s' % opt] = df.gdp_class * MENTI[opt]['high_gdp'] \\\n",
    "    + df.mobile_money_class * MENTI[opt]['high_mobile_money']\n",
    "    + df.ease_doing_business_class * MENTI[opt]['high_ease_doing_business']\n",
    "    + df.corruption_class * MENTI[opt]['low_corruption']\n",
    "    + df.weak_grid_class * MENTI[opt]['high_grid_weakness']"
   ]
  },
  {
   "cell_type": "code",
   "execution_count": null,
   "metadata": {},
   "outputs": [],
   "source": [
    "# for se4all+SHIFT\n",
    "\n",
    "WEIGHT_GRID = 0.8  # $RT_shift_factors.$O$2\n",
    "WEIGHT = 0.2  # $RT_shift_factors.$P$2\n",
    "RISE_INDICES = ['rise_%s' % opt for opt in ELECTRIFICATION_OPTIONS]\n",
    "SHIFT_MENTI = ['shift_menti_mg', 'shift_menti_shs']\n",
    "\n",
    "#SUMME(S22:W22) --> df.loc[:,RISE_INDICES + SHIFT_MENTI].sum(axis=1)\n",
    "#SUMME($S22:$U22) --> df.loc[:,RISE_INDICES].sum(axis=1)\n",
    "#SUMME($V22:$W22) --> df.loc[:,SHIFT_MENTI].sum(axis=1)\n",
    "\n",
    "for opt in ELECTRIFICATION_OPTIONS:\n",
    "    df['pop_get_%s_2030' % opt] = df['pop_%s_share' % opt] * df.pop_newly_electrified_2030\n",
    "\n",
    "# to normalize the senarii weigthed sum\n",
    "weighted_norm = df.loc[:,RISE_INDICES].sum(axis=1) * WEIGHT_GRID + df.loc[:,SHIFT_MENTI].sum(axis=1) * WEIGHT\n",
    "\n",
    "non_zero_indices = df.loc[:,RISE_INDICES + SHIFT_MENTI].sum(axis=1) != 0\n",
    "\n",
    "for col in ['shift_grid_share','shift_grid_to_mg_share', 'shift_grid_to_shs_share']:\n",
    "    # if the sum of the RISE indices and shift MENTI is 0 the corresponding rows in the given columns are set to 0\n",
    "    df.loc[df.loc[:,RISE_INDICES + SHIFT_MENTI].sum(axis=1) == 0, col] = 0\n",
    "\n",
    "# share of population which will be on the grid in the se4all+SHIFT senario\n",
    "#=WENN(SUMME(S22:W22)=0;0;S22*$RT_shift_factors.$O$2/(SUMME($S22:$U22)*$RT_shift_factors.$O$2+SUMME($V22:$W22)*$RT_shift_factors.$P$2))\n",
    "df.loc[non_zero_indices, 'shift_grid_share'] = df.rise_grid * WEIGHT_GRID / weighted_norm\n",
    "\n",
    "# share of population which will have changed from grid to mg in the se4all+SHIFT senario\n",
    "#=WENN(SUMME(S22:W22)=0;0;(T22*$RT_shift_factors.$O$2+V22*$RT_shift_factors.$P$2)/(SUMME($S22:$U22)*$RT_shift_factors.$O$2+SUMME($V22:$W22)*$RT_shift_factors.$P$2))\n",
    "df.loc[non_zero_indices, 'shift_grid_to_mg_share'] = (df.rise_mg * WEIGHT_GRID + df.shift_menti_mg * WEIGHT ) / weighted_norm\n",
    "\n",
    "# share of population which will have changed from grid to shs in the se4all+SHIFT senario\n",
    "#=WENN(SUMME(S23:W23)=0;0;(U23*$RT_shift_factors.$O$2+W23*$RT_shift_factors.$P$2)/(SUMME($S23:$U23)*$RT_shift_factors.$O$2+SUMME($V23:$W23)*$RT_shift_factors.$P$2))\n",
    "df.loc[non_zero_indices, 'shift_grid_to_shs_share'] = (df.rise_shs * WEIGHT_GRID + df.shift_menti_shs * WEIGHT ) / weighted_norm\n",
    "\n",
    "\n",
    "# SHARED WITH prOG\n",
    "\n",
    "#=WENN(Y24>=X24;$Y24*D24;0)\n",
    "#D24 -->  people get grid until 2030 (=SVERWEIS(B4;$'Data_+_GIS'.$B$3:$V$54;7;0)*SVERWEIS(B4;$'Data_+_GIS'.$B$3:$V$54;13;0))\n",
    "# if the predicted mg share is larger than the predicted grid share, the number of people predited to use mg in the se4all+SHIFT senario is returned\n",
    "# otherwise it is set to 0\n",
    "df.loc[df.shift_grid_to_mg_share >= df.shift_grid_share, 'shift_pop_grid_to_mg'] = df.shift_grid_to_mg_share * df.pop_get_grid_2030\n",
    "df.loc[df.shift_grid_to_mg_share < df.shift_grid_share, 'shift_pop_grid_to_mg'] = 0\n",
    "\n",
    "#=WENN(Z25>=X25;Z25*$D25;0)\n",
    "# if the predicted shs share is larger than the predicted grid share, the number of people predited to use shs in the se4all+SHIFT senario is returned\n",
    "# otherwise it is set to 0\n",
    "df.loc[df.shift_grid_to_shs_share >= df.shift_grid_share, 'shift_pop_grid_to_shs'] = df.shift_grid_to_shs_share * df.pop_get_grid_2030\n",
    "df.loc[df.shift_grid_to_shs_share < df.shift_grid_share, 'shift_pop_grid_to_shs'] = 0"
   ]
  },
  {
   "cell_type": "code",
   "execution_count": null,
   "metadata": {},
   "outputs": [],
   "source": [
    "# for prOG\n",
    "\n",
    "df.rise_mg = 100\n",
    "df.rise_shs = 100\n",
    "\n",
    "weighted_norm = df.loc[:,RISE_INDICES].sum(axis=1)\n",
    "\n",
    "non_zero_indices = df.loc[:,RISE_INDICES].sum(axis=1) != 0\n",
    "\n",
    "for col in ['shift_grid_share','shift_grid_to_mg_share', 'shift_grid_to_shs_share']:\n",
    "    # if the sum of the RISE indices and shift MENTI is 0 the corresponding rows in the given columns are set to 0\n",
    "    df.loc[df.loc[:,RISE_INDICES].sum(axis=1) == 0, col] = 0\n",
    "\n",
    "# share of population which will be on the grid in the se4all+SHIFT senario\n",
    "#=WENN(SUMME(H5;I5;J5)=0;0;H5/SUMME($G5:$I5)) \n",
    "df.loc[non_zero_indices, 'shift_grid_share'] = df.rise_grid / weighted_norm\n",
    "\n",
    "# share of population which will have changed from grid to mg in the se4all+SHIFT senario\n",
    "#=WENN(SUMME(I5;J5;K5)=0;0;I5/SUMME($G5:$I5))\n",
    "df.loc[non_zero_indices, 'shift_grid_to_mg_share'] = df.rise_mg / weighted_norm\n",
    "\n",
    "# share of population which will have changed from grid to shs in the se4all+SHIFT senario\n",
    "#=WENN(SUMME(I5;J5;K5)=0;0;I5/SUMME($G5:$I5))\n",
    "df.loc[non_zero_indices, 'shift_grid_to_shs_share'] = df.rise_shs  / weighted_norm\n",
    "\n",
    "# Shared with se4all\n",
    "\n",
    "#=WENN(Y24>=X24;$Y24*D24;0)\n",
    "#D24 -->  people get grid until 2030 (=SVERWEIS(B4;$'Data_+_GIS'.$B$3:$V$54;7;0)*SVERWEIS(B4;$'Data_+_GIS'.$B$3:$V$54;13;0))\n",
    "# if the predicted mg share is larger than the predicted grid share, the number of people predited to use mg in the se4all+SHIFT senario is returned\n",
    "# otherwise it is set to 0\n",
    "df.loc[df.shift_grid_to_mg_share >= df.shift_grid_share, 'shift_pop_grid_to_mg'] = df.shift_grid_to_mg_share * df.pop_get_grid_2030\n",
    "df.loc[df.shift_grid_to_mg_share < df.shift_grid_share, 'shift_pop_grid_to_mg'] = 0\n",
    "\n",
    "#=WENN(Z25>=X25;Z25*$D25;0)\n",
    "# if the predicted shs share is larger than the predicted grid share, the number of people predited to use shs in the se4all+SHIFT senario is returned\n",
    "# otherwise it is set to 0\n",
    "df.loc[df.shift_grid_to_shs_share >= df.shift_grid_share, 'shift_pop_grid_to_shs'] = df.shift_grid_to_shs_share * df.pop_get_grid_2030\n",
    "df.loc[df.shift_grid_to_shs_share < df.shift_grid_share, 'shift_pop_grid_to_shs'] = 0\n",
    "\n",
    "\n"
   ]
  },
  {
   "cell_type": "markdown",
   "metadata": {},
   "source": [
    "## Exogenous results for all senarii"
   ]
  },
  {
   "cell_type": "code",
   "execution_count": null,
   "metadata": {},
   "outputs": [],
   "source": [
    "# exogenous results for BaU and se4all+SHIFT\n",
    "\n",
    "def extract_results_senario(input_df, senario, regions=None):\n",
    "    \n",
    "    df = input_df.copy()\n",
    "    \n",
    "    if regions is None:\n",
    "        regions=['SSA', 'DA', 'LA']\n",
    "\n",
    "        \n",
    "    if senario == BAU_SENARIO:\n",
    "        for opt in ELECTRIFICATION_OPTIONS:\n",
    "            # not valid for other senario than bau at the moment\n",
    "            # create a columns with regional electrification option shares \n",
    "            df['temp_%s' % opt] = df['region'].replace(regions, bau_data.loc[regions]['%s_share' % opt].to_list())\n",
    "\n",
    "            # predicted number of people getting access to electricity (regional detail level)\n",
    "            df['pop_get_%s_2030' % opt] = df.bau_pop_newly_electrified * df['temp_%s' % opt]\n",
    "    elif senario in [SE4ALL_SHIFT_SENARIO, PROG_SENARIO]:\n",
    "        #SUMME(AA4:AB4) --> df.loc[:,['shift_pop_grid_to_mg' 'shift_pop_grid_to_shs']].sum(axis=1) \n",
    "        #grid =D4-SUMME(AA4:AB4)\n",
    "        opt = 'grid'\n",
    "        # predicted number of people getting access to electricity (regional detail level)\n",
    "        df['pop_get_%s_2030' % opt] = df['pop_get_%s_2030' % opt] - df.loc[:,['shift_pop_grid_to_mg', 'shift_pop_grid_to_shs']].sum(axis=1) \n",
    "\n",
    "        #mg =E5+AA5\n",
    "        opt = 'mg'\n",
    "        # predicted number of people getting access to electricity (regional detail level)\n",
    "        df['pop_get_%s_2030' % opt] = df['pop_get_%s_2030' % opt] + df['shift_pop_grid_to_%s' % opt]\n",
    "\n",
    "        #shs =F6+AB6\n",
    "        opt = 'shs'\n",
    "        # predicted number of people getting access to electricity (regional detail level)\n",
    "        df['pop_get_%s_2030' % opt] = df['pop_get_%s_2030' % opt] + df['shift_pop_grid_to_%s' % opt]\n",
    "    else:\n",
    "        raise(ValueError)\n",
    "\n",
    "    for opt in ELECTRIFICATION_OPTIONS:\n",
    "        # predicted number of household getting access to electricity (regional detail level)\n",
    "        df['hh_get_%s_2030' % opt] = df['pop_get_%s_2030' % opt] / df.hh_av_size\n",
    "        # predicted power (in kW) that the access to electricity will represent (regional detail level)\n",
    "        # the analysis is based on the peak demand for the grid and mg senarii, and the average\n",
    "        # power of solar panel for shs senario\n",
    "        if opt in ('grid' , 'mg'):\n",
    "            df['hh_%s_capacity' % opt] = df['hh_get_%s_2030' % opt] * df['hh_%s_tier_peak_demand' % opt]\n",
    "            df['hh_cap_scn2_%s_capacity' % opt] = df['hh_get_%s_2030' % opt] * df['cap_sn2_%s_tier_up' % opt]\n",
    "        else:\n",
    "            df['hh_%s_capacity' % opt] = df['hh_get_%s_2030' % opt] * df['shs_unit_av_capacity'] / 1000\n",
    "            df['hh_cap_scn2_%s_capacity' % opt] = df['hh_get_%s_2030' % opt] * df['cap_sn2_%s_tier_up' % opt] / 1000\n",
    "            \n",
    "        "
   ]
  },
  {
   "cell_type": "code",
   "execution_count": null,
   "metadata": {},
   "outputs": [],
   "source": [
    "extract_results_senario(df, SE4ALL_SHIFT_SENARIO)"
   ]
  },
  {
   "cell_type": "code",
   "execution_count": null,
   "metadata": {},
   "outputs": [],
   "source": [
    "extract_results_senario(df, BAU_SENARIO)"
   ]
  },
  {
   "cell_type": "code",
   "execution_count": null,
   "metadata": {},
   "outputs": [],
   "source": [
    "extract_results_senario(df, PROG_SENARIO)"
   ]
  },
  {
   "cell_type": "code",
   "execution_count": null,
   "metadata": {},
   "outputs": [],
   "source": [
    "#=WENN(Q22<4,5;0;WENN(Q22<=9;0,5;WENN(Q22>9;1;\"NA\")))\n",
    "\n",
    "def map_weak_grid_class(weak_grid_idx):\n",
    "    \"\"\"Assign an index value to differentiate weak grid\"\"\"\n",
    "    answer = 1\n",
    "    if weak_grid_idx <= 4.5:\n",
    "        answer = 0.5\n",
    "    if weak_grid_idx <= 9:\n",
    "        answer = 0\n",
    "    return answer\n",
    "\n",
    "#=WENN(O25<26;0;WENN(O25<=33;0,5;WENN(O25>33;1;\"NA\")))\n",
    "\n",
    "def map_corruption_class(corruption_idx):\n",
    "    \"\"\"Assign an index value to differentiate corruption\"\"\"\n",
    "    answer = 1\n",
    "    if corruption_idx <= 33:\n",
    "        answer = 0.5\n",
    "    if corruption_idx <= 26:\n",
    "        answer = 0\n",
    "    return answer\n",
    "\n",
    "#=WENN(M22<131;0;WENN(M22<=164;0,5;WENN(M22>164;1;\"NA\")))\n",
    "\n",
    "def map_ease_doing_business_class(business_ease):\n",
    "    \"\"\"Assign an index value to differentiate ease of doing business\"\"\"\n",
    "    answer = 1\n",
    "    if business_ease <= 164:\n",
    "        answer = 0.5\n",
    "    if business_ease <= 131:\n",
    "        answer = 0\n",
    "    return answer\n",
    "\n",
    "#Se4All\n",
    "\n",
    "def map_gdp_class(gdp_per_capita):\n",
    "    \"\"\"Assign an index value to differentiate gdp per capita\"\"\"\n",
    "    answer = 1\n",
    "    if gdp_per_capita < 1500:\n",
    "        answer = 0.5\n",
    "    if gdp_per_capita < 700:\n",
    "        answer = 0\n",
    "    return answer\n",
    "    \n",
    "#=WENN(K5<=0,12;0;WENN(K5<=0,21;0,5;1))\n",
    "\n",
    "def map_mobile_money_class(mobile_money):\n",
    "    \"\"\"Assign an index value to differentiate mobile_money\"\"\"\n",
    "    answer = 1\n",
    "    if mobile_money <= 0.21:\n",
    "        answer = 0.5\n",
    "    if mobile_money <= 0.12:\n",
    "        answer = 0\n",
    "    return answer\n"
   ]
  },
  {
   "cell_type": "code",
   "execution_count": null,
   "metadata": {},
   "outputs": [],
   "source": [
    "df = pd.DataFrame({'A': [0, 1, 2, 3, 4],\n",
    "                    'B': [5, -1, 7, -3, 9],\n",
    "                   'C': [4, 7, 3, 9, 1],\n",
    "                   'D': [1, 5, 3, 0, 1],\n",
    "                   'E': [7, 7, 2, 9, 7],\n",
    "                    'Z': ['a', 'a', 'b', 'c', 'c']})\n",
    "WEIGHT_GRID = 0.8  # $RT_shift_factors.$O$2\n",
    "WEIGHT = 0.2  # $RT_shift_factors.$P$2\n",
    "\n",
    "\n",
    "\n",
    "RISE_INDICES = ['A', 'B']\n",
    "SHIFT_MENTI = []\n",
    "# norm = df.loc[:,RISE_INDICES].sum(axis=1) * WEIGHT_GRID + df.loc[:,SHIFT_MENTI].sum(axis=1) * WEIGHT\n",
    "# df['E'] * WEIGHT_GRID / norm\n",
    "\n",
    "entries = ['shift_grid_share','shift_grid_to_mg_share', 'shift_grid_to_shs_share']\n",
    "# df.loc[df.loc[:,RISE_INDICES + SHIFT_MENTI].sum(axis=1) == 0, 'shift_grid_share' ] = '0'\n",
    "for entry in entries:\n",
    "    df.loc[df.B >0, entry ] = '0'\n",
    "\n",
    "df"
   ]
  }
 ],
 "metadata": {
  "kernelspec": {
   "display_name": "Python 3",
   "language": "python",
   "name": "python3"
  },
  "language_info": {
   "codemirror_mode": {
    "name": "ipython",
    "version": 3
   },
   "file_extension": ".py",
   "mimetype": "text/x-python",
   "name": "python",
   "nbconvert_exporter": "python",
   "pygments_lexer": "ipython3",
   "version": "3.6.7"
  }
 },
 "nbformat": 4,
 "nbformat_minor": 2
}
