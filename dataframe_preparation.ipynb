{
 "cells": [
  {
   "cell_type": "code",
   "execution_count": null,
   "metadata": {},
   "outputs": [],
   "source": [
    "import pandas as pd\n",
    "import numpy as np\n",
    "\n",
    "pd.set_option(\"display.precision\", 15)\n",
    "\n",
    "GRID = 'grid'\n",
    "MG = 'mg'\n",
    "SHS = 'shs'\n",
    "\n",
    "ELECTRIFICATION_OPTIONS = [GRID, MG, SHS]\n",
    "BAU_SENARIO = 'bau'\n",
    "SE4ALL_SHIFT_SENARIO = 'se4all_shift'\n",
    "PROG_SENARIO = 'prog'\n",
    "SCENARIOS = [BAU_SENARIO, SE4ALL_SHIFT_SENARIO, PROG_SENARIO]\n",
    "\n",
    "MIN_TIER_LEVEL = 3\n",
    "MIN_RATED_CAPACITY = {3: 200, 4: 800, 5: 2000} # index is TIER level [W]\n",
    "MIN_ANNUAL_CONSUMPTION = {3: 365, 4: 1250, 5: 3000} # index is TIER level [kWh/a]\n",
    "\n",
    "# drives for the socio-economic model\n",
    "MENTI = pd.DataFrame({MG: [3, 13. / 6, 19. / 6, 3.25, 11. / 3],\n",
    "                    SHS: [23. / 12, 4.5, 37. / 12, 17. / 6, 41. / 12],\n",
    "                   'labels': ['high_gdp', 'high_mobile_money', 'high_ease_doing_business', 'low_corruption', 'high_grid_weakness']\n",
    "                   })\n",
    "MENTI = MENTI.set_index('labels')\n",
    "\n",
    "RISE_SHIFTS = ['shift_%s_share' % opt for opt in ELECTRIFICATION_OPTIONS]\n",
    "\n",
    "POP_GET = ['pop_get_%s_2030' % opt for opt in ELECTRIFICATION_OPTIONS]\n",
    "HH_GET = ['hh_get_%s_2030' % opt for opt in ELECTRIFICATION_OPTIONS]\n",
    "HH_CAP = ['hh_%s_capacity' % opt for opt in ELECTRIFICATION_OPTIONS]\n",
    "HH_SCN2 = ['hh_cap_scn2_%s_capacity' % opt for opt in ELECTRIFICATION_OPTIONS]\n",
    "EXO_RESULTS = POP_GET + HH_GET + HH_CAP + HH_SCN2\n",
    "EXO_RESULTS\n",
    "\n",
    "CAP = ['cap_sn2_grid_tier_up', 'cap_sn2_mg_tier_up', 'cap_sn2_shs_tier_up']"
   ]
  },
  {
   "cell_type": "code",
   "execution_count": null,
   "metadata": {},
   "outputs": [],
   "source": [
    "SCENARIOS_DICT = {\n",
    "    BAU_SENARIO: 'BaU',\n",
    "    SE4ALL_SHIFT_SENARIO: 'SE4All',\n",
    "    PROG_SENARIO: 'prOG',\n",
    "    'indiv':'Individual'\n",
    "}\n",
    "from data_preparation import compute_ndc_results_from_raw_data\n",
    "\n",
    "a={\n",
    "    sce: compute_ndc_results_from_raw_data(sce).to_json for sce in SCENARIOS\n",
    "}"
   ]
  },
  {
   "cell_type": "code",
   "execution_count": null,
   "metadata": {},
   "outputs": [],
   "source": [
    "xls_bau = pd.read_csv('data/xls_bau.csv', float_precision='high')\n",
    "xls_se = pd.read_csv('data/xls_se.csv', float_precision='high')\n",
    "xls_prog = pd.read_csv('data/xls_prog.csv', float_precision='high')"
   ]
  },
  {
   "cell_type": "markdown",
   "metadata": {},
   "source": [
    "## Raw data loading"
   ]
  },
  {
   "cell_type": "code",
   "execution_count": null,
   "metadata": {},
   "outputs": [],
   "source": [
    "df = pd.read_csv('data/raw_data.csv', float_precision='high')\n",
    "df.head()"
   ]
  },
  {
   "cell_type": "markdown",
   "metadata": {},
   "source": [
    "# BaU senario"
   ]
  },
  {
   "cell_type": "code",
   "execution_count": null,
   "metadata": {},
   "outputs": [],
   "source": [
    "from data_preparation import prepare_endogenous_variables, prepare_bau_data, extract_results_scenario\n",
    "\n",
    "df = pd.read_csv('data/raw_data.csv', float_precision='high')\n",
    "\n",
    "df = prepare_endogenous_variables(df)\n",
    "df = prepare_bau_data(df)\n",
    "\n",
    "bau_df = extract_results_scenario(df, BAU_SENARIO)\n",
    "#bau_df = bau_df.set_index('country_iso')"
   ]
  },
  {
   "cell_type": "code",
   "execution_count": null,
   "metadata": {},
   "outputs": [],
   "source": [
    "from data_preparation import compute_ndc_results_from_raw_data\n",
    "bau_df = compute_ndc_results_from_raw_data(BAU_SENARIO)"
   ]
  },
  {
   "cell_type": "code",
   "execution_count": null,
   "metadata": {},
   "outputs": [],
   "source": [
    "df_diff = xls_bau[EXO_RESULTS] - bau_df[EXO_RESULTS]\n",
    "df_diff['iso'] = bau_df.country_iso\n",
    "df_diff = df_diff.set_index('iso')\n",
    "\n",
    "def highlight_mismatch(col):\n",
    "    eps = 0.1\n",
    "    return df_diff.loc[np.abs(df_diff[col]) > eps]\n",
    "\n",
    "l = []\n",
    "for col in EXO_RESULTS:\n",
    "    temp = highlight_mismatch(col).index.to_list()\n",
    "    if temp:\n",
    "        print('problems with ', col, temp)\n",
    "    l = l + temp\n",
    "len(set(l))\n",
    "l = list(set(l))\n",
    "print(l)\n",
    "df_diff.loc[l]"
   ]
  },
  {
   "cell_type": "code",
   "execution_count": null,
   "metadata": {},
   "outputs": [],
   "source": []
  },
  {
   "cell_type": "code",
   "execution_count": null,
   "metadata": {},
   "outputs": [],
   "source": []
  },
  {
   "cell_type": "markdown",
   "metadata": {},
   "source": [
    "# Se4All+SHIFT senario"
   ]
  },
  {
   "cell_type": "code",
   "execution_count": null,
   "metadata": {},
   "outputs": [],
   "source": [
    "from data.data_preparation import prepare_endogenous_variables, prepare_se4all_data, extract_results_scenario\n",
    "\n",
    "df = pd.read_csv('data/raw_data.csv', float_precision='high')\n",
    "\n",
    "df = prepare_endogenous_variables(df)\n",
    "df = prepare_se4all_data(df)\n",
    "se_df = extract_results_scenario(df, SE4ALL_SHIFT_SENARIO)\n"
   ]
  },
  {
   "cell_type": "code",
   "execution_count": null,
   "metadata": {},
   "outputs": [],
   "source": [
    "from data.data_preparation import prepare_endogenous_variables, prepare_se4all_data, extract_results_scenario\n",
    "\n",
    "RISE_INDICES = ['rise_%s' % opt for opt in ELECTRIFICATION_OPTIONS]\n",
    "\n",
    "\n",
    "df = pd.read_csv('data/raw_data.csv', float_precision='high')\n",
    "\n",
    "df = prepare_endogenous_variables(df, min_tier_level=3)\n",
    "\n",
    "df = prepare_se4all_data(df)\n",
    "df[RISE_SHIFTS]\n",
    "\n",
    "df['norm'] = df.loc[:, RISE_INDICES].sum(axis=1)\n",
    "df[RISE_INDICES + ['norm'] + RISE_SHIFTS]"
   ]
  },
  {
   "cell_type": "code",
   "execution_count": null,
   "metadata": {},
   "outputs": [],
   "source": [
    "norm = df.loc[nz_idxs, RISE_INDICES].sum(axis=1)\n",
    "cond = (df['rise_grid'] == 0) & (df[RISE_INDICES].sum(axis=1) != 0)\n",
    "df.loc[cond, 'shift_mg_share'] = df.loc[cond, 'rise_mg'].div(df.loc[cond, RISE_INDICES].sum(axis=1))\n",
    "df.loc[cond, 'shift_shs_share'] = df.loc[cond, 'rise_shs'].div(df.loc[cond, RISE_INDICES].sum(axis=1))\n",
    "df.loc[cond, RISE_INDICES + ['country_iso', 'norm'] + RISE_SHIFTS]\n",
    "#df.loc[cond]"
   ]
  },
  {
   "cell_type": "code",
   "execution_count": null,
   "metadata": {},
   "outputs": [],
   "source": [
    "df.loc[5, 'rise_grid'] = 1\n",
    "df.loc[5, RISE_INDICES]"
   ]
  },
  {
   "cell_type": "code",
   "execution_count": null,
   "metadata": {},
   "outputs": [],
   "source": [
    "df = pd.DataFrame(data=[[100, 1, 45], [100, 0, 45], [100, 1, 2], [100, 0, 2], [100, 0, 0], [50, 40, 45], [60,70,30]], columns=['rise_grid', 'rise_mg', 'rise_shs'])\n",
    "\n",
    "def prepare_se4all_data(\n",
    "        input_df,\n",
    "):\n",
    "    # for se4all+SHIFT\n",
    "\n",
    "    df = input_df.copy()\n",
    "\n",
    "    # indexes for which all three RISE scores are 0\n",
    "    nz_idxs = df.loc[:, RISE_INDICES].sum(axis=1) != 0\n",
    "    # sum of the RISE scores for the electrification options, used as normalization's factor\n",
    "    norm = df.loc[nz_idxs, RISE_INDICES].sum(axis=1)\n",
    "\n",
    "    for col in ['shift_grid_share', 'shift_mg_share', 'shift_shs_share']:\n",
    "        # if the sum of the RISE scores is 0, the corresponding rows\n",
    "        # in the given columns are set to 0\n",
    "        df.loc[df.loc[:, RISE_INDICES].sum(axis=1) == 0, col] = 0\n",
    "\n",
    "    # compute the weight of the \n",
    "    df.loc[nz_idxs, 'shift_grid_share'] = \\\n",
    "        2 * df.loc[nz_idxs, 'rise_grid'] \\\n",
    "        - df.loc[nz_idxs, 'rise_mg'] \\\n",
    "        - df.loc[nz_idxs, 'rise_shs']\n",
    "    df.loc[nz_idxs, 'shift_grid_share'] = df.loc[nz_idxs, 'shift_grid_share'].div(norm)\n",
    "\n",
    "    df.loc[nz_idxs, 'shift_mg_share'] = \\\n",
    "        2 * df.loc[nz_idxs, 'rise_mg'] \\\n",
    "        - df.loc[nz_idxs, 'rise_grid'] \\\n",
    "        - df.loc[nz_idxs, 'rise_shs']\n",
    "    df.loc[nz_idxs, 'shift_mg_share'] = df.loc[nz_idxs, 'shift_mg_share'].div(norm)\n",
    "\n",
    "    df.loc[nz_idxs, 'shift_shs_share'] = \\\n",
    "        2 * df.loc[nz_idxs, 'rise_shs'] \\\n",
    "        - df.loc[nz_idxs, 'rise_grid'] \\\n",
    "        - df.loc[nz_idxs, 'rise_mg']\n",
    "    df.loc[nz_idxs, 'shift_shs_share'] = df.loc[nz_idxs, 'shift_shs_share'].div(norm)\n",
    "\n",
    "    # if one of the RISE score is 0, then the share is reallocated between the two other\n",
    "    cond = (df['rise_grid'] == 0) & (df[RISE_INDICES].sum(axis=1) != 0)\n",
    "    df.loc[cond, 'shift_mg_share'] = df.loc[cond, 'rise_mg'].div(\n",
    "        df.loc[cond, RISE_INDICES].sum(axis=1))\n",
    "    df.loc[cond, 'shift_shs_share'] = df.loc[cond, 'rise_shs'].div(\n",
    "        df.loc[cond, RISE_INDICES].sum(axis=1))\n",
    "\n",
    "    cond = (df['rise_mg'] == 0) & (df[RISE_INDICES].sum(axis=1) != 0)\n",
    "    df.loc[cond, 'shift_grid_share'] = df.loc[cond, 'rise_grid'].div(\n",
    "        df.loc[cond, RISE_INDICES].sum(axis=1))\n",
    "    df.loc[cond, 'shift_shs_share'] = df.loc[cond, 'rise_shs'].div(\n",
    "        df.loc[cond, RISE_INDICES].sum(axis=1))\n",
    "\n",
    "    cond = (df['rise_shs'] == 0) & (df[RISE_INDICES].sum(axis=1) != 0)\n",
    "    df.loc[cond, 'shift_grid_share'] = df.loc[cond, 'rise_grid'].div(\n",
    "        df.loc[cond, RISE_INDICES].sum(axis=1))\n",
    "    df.loc[cond, 'shift_mg_share'] = df.loc[cond, 'rise_mg'].div(\n",
    "        df.loc[cond, RISE_INDICES].sum(axis=1))\n",
    "    return df\n",
    "df = prepare_se4all_data(df)\n",
    "\n",
    "for opt in ELECTRIFICATION_OPTIONS:\n",
    "    cond = (df['rise_%s' % opt] == df[RISE_INDICES].sum(axis=1))\n",
    "    if cond.values.any():\n",
    "        print(df.loc[cond])\n",
    "df"
   ]
  },
  {
   "cell_type": "code",
   "execution_count": null,
   "metadata": {},
   "outputs": [],
   "source": [
    "df = pd.DataFrame(data=[[100, 1, 45], [100, 0, 45], [100, 1, 2], [100, 0, 2], [100, 0, 0], [50, 40, 45], [60,70,30]], columns=['rise_grid', 'rise_mg', 'rise_shs'])\n",
    "\n",
    "def prepare_se4all_data(\n",
    "        input_df,\n",
    "):\n",
    "    # for se4all+SHIFT\n",
    "\n",
    "    df = input_df.copy()\n",
    "\n",
    "    # indexes for which all three RISE scores are 0\n",
    "    nz_idxs = df.loc[:, RISE_INDICES].sum(axis=1) != 0\n",
    "    # sum of the RISE scores for the electrification options, used as normalization's factor\n",
    "    norm = df.loc[nz_idxs, RISE_INDICES].sum(axis=1)\n",
    "\n",
    "    for col in ['shift_grid_share', 'shift_mg_share', 'shift_shs_share']:\n",
    "        # if the sum of the RISE scores is 0, the corresponding rows\n",
    "        # in the given columns are set to 0\n",
    "        df.loc[df.loc[:, RISE_INDICES].sum(axis=1) == 0, col] = 0\n",
    "\n",
    "    # compute the weight of the \n",
    "    df.loc[nz_idxs, 'shift_grid_share'] = \\\n",
    "        2 * df.loc[nz_idxs, 'rise_grid'] \\\n",
    "        - df.loc[nz_idxs, 'rise_mg'] \\\n",
    "        - df.loc[nz_idxs, 'rise_shs']\n",
    "    df.loc[nz_idxs, 'shift_grid_share'] = df.loc[nz_idxs, 'shift_grid_share'].div(norm)\n",
    "\n",
    "    df.loc[nz_idxs, 'shift_mg_share'] = \\\n",
    "        2 * df.loc[nz_idxs, 'rise_mg'] \\\n",
    "        - df.loc[nz_idxs, 'rise_grid'] \\\n",
    "        - df.loc[nz_idxs, 'rise_shs']\n",
    "    df.loc[nz_idxs, 'shift_mg_share'] = df.loc[nz_idxs, 'shift_mg_share'].div(norm)\n",
    "\n",
    "    df.loc[nz_idxs, 'shift_shs_share'] = \\\n",
    "        2 * df.loc[nz_idxs, 'rise_shs'] \\\n",
    "        - df.loc[nz_idxs, 'rise_grid'] \\\n",
    "        - df.loc[nz_idxs, 'rise_mg']\n",
    "    df.loc[nz_idxs, 'shift_shs_share'] = df.loc[nz_idxs, 'shift_shs_share'].div(norm)\n",
    "\n",
    "    return df\n",
    "df = prepare_se4all_data(df)\n",
    "\n",
    "for opt in ELECTRIFICATION_OPTIONS:\n",
    "    cond = (df['rise_%s' % opt] == df[RISE_INDICES].sum(axis=1))\n",
    "    if cond.values.any():\n",
    "        print(df.loc[cond])\n",
    "df"
   ]
  },
  {
   "cell_type": "code",
   "execution_count": null,
   "metadata": {},
   "outputs": [],
   "source": [
    "df.loc[non_zero_indices,'shift_grid_share'] = 2 * df.loc[non_zero_indices, 'rise_grid'] - df.loc[non_zero_indices, 'rise_mg'] - df.loc[non_zero_indices, 'rise_shs']\n",
    "df.loc[non_zero_indices, 'shift_grid_share'] = df.loc[non_zero_indices, 'shift_grid_share'].div(norm)\n",
    "\n",
    "df.loc[non_zero_indices,'shift_mg_share'] = 2 * df.loc[non_zero_indices, 'rise_mg'] - df.loc[non_zero_indices, 'rise_grid'] - df.loc[non_zero_indices, 'rise_shs']\n",
    "df.loc[non_zero_indices, 'shift_mg_share'] = df.loc[non_zero_indices, 'shift_mg_share'].div(norm)\n",
    "\n",
    "df.loc[non_zero_indices,'shift_shs_share'] = 2 * df.loc[non_zero_indices, 'rise_shs'] - df.loc[non_zero_indices, 'rise_grid'] - df.loc[non_zero_indices, 'rise_mg']\n",
    "df.loc[non_zero_indices, 'shift_shs_share'] = df.loc[non_zero_indices, 'shift_shs_share'].div(norm)\n",
    "\n",
    "for opt in ELECTRIFICATION_OPTIONS:\n",
    "    df['pop_get_%s_2030' % opt] = \\\n",
    "        df['endo_pop_get_%s_2030' % opt] * (1 + df['shift_%s_share' % opt])\n",
    "\n"
   ]
  },
  {
   "cell_type": "code",
   "execution_count": null,
   "metadata": {},
   "outputs": [],
   "source": [
    "\n",
    "# share of population which will be on the grid in the se4all+SHIFT scenario\n",
    "df.loc[non_zero_indices, 'shift_grid_share'] = 2 * df.rise_grid - df.rise_mg - df.rise_shs\n",
    "# divide by sume here\n",
    "df.loc[non_zero_indices, 'shift_grid_share']\n",
    "\n",
    "# share of population which will have changed from grid to mg in the se4all+SHIFT scenario\n",
    "df.loc[non_zero_indices, 'shift_mg_share'] = \\\n",
    "    (df.rise_mg * weight_grid + df.shift_menti_mg * weight_mentis) / weighted_norm\n",
    "\n",
    "# share of population which will have changed from grid to shs in the se4all+SHIFT scenario\n",
    "df.loc[non_zero_indices, 'shift_shs_share'] = \\\n",
    "    (df.rise_shs * weight_grid + df.shift_menti_shs * weight_mentis) / weighted_norm\n",
    "\n",
    "# SHARED WITH prOG\n",
    "# if the predicted mg share is larger than the predicted grid share, the number of people\n",
    "# predicted to use mg in the se4all+SHIFT scenario is returned, otherwise it is set to 0\n",
    "df.loc[df.shift_grid_to_mg_share >= df.shift_grid_share, 'shift_pop_grid_to_mg'] = \\\n",
    "    df.shift_grid_to_mg_share * df.endo_pop_get_grid_2030\n",
    "df.loc[df.shift_grid_to_mg_share < df.shift_grid_share, 'shift_pop_grid_to_mg'] = 0\n",
    "\n",
    "# if the predicted shs share is larger than the predicted grid share, the number of people\n",
    "# predicted to use shs in the se4all+SHIFT scenario is returned, otherwise it is set to 0\n",
    "df.loc[df.shift_grid_to_shs_share >= df.shift_grid_share, 'shift_pop_grid_to_shs'] = \\\n",
    "    df.shift_grid_to_shs_share * df.endo_pop_get_grid_2030\n",
    "df.loc[df.shift_grid_to_shs_share < df.shift_grid_share, 'shift_pop_grid_to_shs'] = 0\n"
   ]
  },
  {
   "cell_type": "code",
   "execution_count": null,
   "metadata": {},
   "outputs": [],
   "source": [
    "df_diff = xls_se[EXO_RESULTS] - se_df[EXO_RESULTS]\n",
    "df_diff['iso'] = se_df.country_iso\n",
    "df_diff = df_diff.set_index('iso')\n",
    "\n",
    "def highlight_mismatch(col):\n",
    "    eps = 0.02\n",
    "    return df_diff.loc[np.abs(df_diff[col]) > eps]\n",
    "\n",
    "l = []\n",
    "for col in EXO_RESULTS:\n",
    "    temp = highlight_mismatch(col).index.to_list()\n",
    "    if temp:\n",
    "        print('problems with ', col, temp)\n",
    "    l = l + temp\n",
    "len(set(l))\n",
    "l = list(set(l))\n",
    "print(l)\n",
    "df_diff.loc[l]\n"
   ]
  },
  {
   "cell_type": "code",
   "execution_count": null,
   "metadata": {},
   "outputs": [],
   "source": [
    "for col in POP_GET:\n",
    "    l = l + highlight_mismatch(col).index.to_list()\n",
    "len(set(l))\n",
    "set(l)"
   ]
  },
  {
   "cell_type": "code",
   "execution_count": null,
   "metadata": {},
   "outputs": [],
   "source": [
    "col = 'pop_dark_2017'\n",
    "col = ['shift_pop_grid_to_mg', 'shift_pop_grid_to_shs']\n",
    "col = ['endo_pop_get_%s_2030' % opt for opt in ELECTRIFICATION_OPTIONS]\n",
    "col = ['shift_grid_share', 'shift_grid_to_mg_share', 'shift_grid_to_shs_share']\n",
    "#col = ['shift_menti_mg', 'shift_menti_shs']\n",
    "#col = HH_CAP\n",
    "#col = ['gdp_class', 'mobile_money_class', 'ease_doing_business_class', 'corruption_class', 'weak_grid_class']\n",
    "print(col)\n",
    "se_df[col].loc[se_df.country_iso.isin(['BWA'])]\n",
    "#se_df.columns"
   ]
  },
  {
   "cell_type": "code",
   "execution_count": null,
   "metadata": {},
   "outputs": [],
   "source": []
  },
  {
   "cell_type": "markdown",
   "metadata": {},
   "source": [
    "# prOG senario"
   ]
  },
  {
   "cell_type": "code",
   "execution_count": null,
   "metadata": {},
   "outputs": [],
   "source": [
    "%%time\n",
    "from data_preparation import prepare_endogenous_variables, prepare_prog_data, extract_results_scenario\n",
    "\n",
    "df = pd.read_csv('data/raw_data.csv', float_precision='high')\n",
    "df = prepare_endogenous_variables(df)\n",
    "df = prepare_prog_data(df)\n",
    "\n",
    "prog_df = extract_results_scenario(df, PROG_SENARIO)"
   ]
  },
  {
   "cell_type": "code",
   "execution_count": null,
   "metadata": {},
   "outputs": [],
   "source": [
    "df_diff = xls_prog[EXO_RESULTS] - prog_df[EXO_RESULTS]\n",
    "df_diff['iso'] = se_df.country_iso\n",
    "df_diff = df_diff.set_index('iso')\n",
    "\n",
    "def highlight_mismatch(col):\n",
    "    eps = 0.1\n",
    "    return df_diff.loc[np.abs(df_diff[col])  > eps]\n",
    "\n",
    "l = []\n",
    "for col in EXO_RESULTS:\n",
    "    temp = highlight_mismatch(col).index.to_list()\n",
    "    if temp:\n",
    "        print('problems with ', col, temp)\n",
    "    l = l + temp\n",
    "len(set(l))\n",
    "l = list(set(l))\n",
    "print(l)\n",
    "df_diff.loc[l]\n"
   ]
  },
  {
   "cell_type": "code",
   "execution_count": null,
   "metadata": {},
   "outputs": [],
   "source": []
  },
  {
   "cell_type": "raw",
   "metadata": {},
   "source": [
    "\n",
    "shs_sales_volumes = pd.read_csv('daten/shs_sales_volumes.csv', comment='#')\n",
    "# compute the average of the product categories 5 to 7\n",
    "shs_sales_volumes['tot_5-7'] = shs_sales_volumes[['5', '6', '7']].sum(axis=1)\n",
    "\n",
    "shs_power_categories = pd.read_csv('daten/shs_power_per_product_categories.csv', comment='#')\n",
    "\n",
    "# compute the average power for each category\n",
    "shs_power_categories['power_av'] = shs_power_categories[['power_low', 'power_high']].mean(axis=1)\n",
    "\n",
    "# select only the average power for the product categories 5 to 7\n",
    "cat_power_av_5_7 = shs_power_categories['power_av'].loc[shs_power_categories.category >= 5].values\n",
    "# compute the average power per region (multiply the number units sold per product categories by the average power of the respective category)\n",
    "power_av_5_7 = shs_sales_volumes[['5', '6', '7']].values * cat_power_av_5_7\n",
    "# compute the average unit power per region (divide the sum over the categories by the total unit sold)\n",
    "shs_sales_volumes['weighted_tot_5-7 [W]'] = power_av_5_7.sum(axis=1) / shs_sales_volumes['tot_5-7'].values\n",
    "\n",
    "SHS_POWER_CATEGORIES = shs_power_categories.set_index('category')\n",
    "SHS_SALES_VOLUMES = shs_sales_volumes.set_index('region')"
   ]
  },
  {
   "cell_type": "raw",
   "metadata": {},
   "source": [
    "from daten.data_preparation import map_tier_yearly_consumption, get_peak_capacity_from_yearly_consumption\n",
    "\n",
    "# compute the grid and mg yearly consumption adjusted for tier level\n",
    "for opt in [GRID, MG]:\n",
    "    df['hh_%s_tier_yearly_electricity_consumption' % opt] = np.vectorize(map_tier_yearly_consumption)(\n",
    "        df.hh_yearly_electricity_consumption, \n",
    "        df['hh_%s_share' % opt]\n",
    "    )\n",
    "\n",
    "#shs_unit_av_capacity  # SHS average capacity [Wp per sold unit]\n",
    "#=WENN(C3=\"SSA\";$'SHS sales volume'.$V$12;WENN(C3=\"DA\";$'SHS sales volume'.$V$17;WENN(C3=\"LA\";$'SHS sales volume'.$V$20;0)))\n",
    "df['shs_unit_av_capacity'] = df.region.map(lambda region: SHS_SALES_VOLUMES.loc[region]['weighted_tot_5-7 [W]'])\n",
    "\n",
    "opt = GRID\n",
    "#=WENN(AA3<=$Tiers.$C$5;$Tiers.$C$4;WENN(AA3<=$Tiers.$D$5;$Tiers.$D$4))/1000\n",
    "for tier_level in [5, 4]:\n",
    "    df.loc[df.hh_yearly_electricity_consumption <= MIN_ANNUAL_CONSUMPTION[tier_level], 'cap_sn2_%s_tier_up' % opt] = MIN_RATED_CAPACITY[tier_level] / 1000\n",
    "\n",
    "opt = MG\n",
    "#=$'Data_+_GIS'.T3*$'Data_+_GIS'.AF3\n",
    "df['cap_sn2_%s_tier_up' % opt] = df.cap_sn2_grid_tier_up * df.hh_mg_share\n",
    "\n",
    "opt = SHS\n",
    "#=WENN(V3<=$'SHS sales volume'.$D$6;$'SHS sales volume'.$D$7;$'SHS sales volume'.$D$8)\n",
    "def shs_av_power(power_cat):\n",
    "    return SHS_POWER_CATEGORIES.loc[power_cat, 'power_av']\n",
    "\n",
    "df['cap_sn2_%s_tier_up' % opt] = df.shs_unit_av_capacity.map(lambda shs_cap: shs_av_power(6) if shs_cap <= shs_av_power(5) else shs_av_power(7))\n",
    "\n",
    "# peak demand\n",
    "for opt in [GRID, MG]:\n",
    "    df['hh_%s_tier_peak_demand' % opt] = df['hh_%s_tier_yearly_electricity_consumption' % opt].map(\n",
    "        get_peak_capacity_from_yearly_consumption, \n",
    "        na_action='ignore'\n",
    "    )\n",
    "\n",
    "df['pop_rel_growth'] = df.pop_2030 / df.pop_2017\n",
    "df['pop_dark_2017'] = df.pop_2017 * df.dark_rate\n",
    "df['pop_newly_electrified_2030'] = df.pop_rel_growth * df.pop_dark_2017\n",
    "df['pop_electrified_2017'] = df.electrification_rate * df.pop_2017\n",
    "    "
   ]
  },
  {
   "cell_type": "markdown",
   "metadata": {},
   "source": [
    "## variables that are not shared between prOG and se4all+SHIFT"
   ]
  },
  {
   "cell_type": "raw",
   "metadata": {},
   "source": [
    "rise_mg and rise_shs set to 100\n",
    "\n",
    "shift_factor_grid --> shift_grid_share\n",
    "=WENN(SUMME(G5;H5;I5)=0;0;G5/SUMME($G5:$I5))\n",
    "\n",
    "shift_factor_mg --> shift_grid_to_mg_share\n",
    "=WENN(SUMME(H5;I5;M5)=0;0;H5/SUMME($G5:$I5))\n",
    "\n",
    "shift_factor_shs --> shift_grid_to_shs_share\n",
    "=WENN(SUMME(I5;M5;N5)=0;0;I5/SUMME($G5:$I5))\n"
   ]
  },
  {
   "cell_type": "markdown",
   "metadata": {},
   "source": [
    "## BaU senario data"
   ]
  },
  {
   "cell_type": "raw",
   "metadata": {},
   "source": [
    "bau_data = pd.read_csv('daten/bau.csv', comment='#')\n",
    "bau_data = bau_data.set_index('region')\n",
    "\n",
    "df['iea_regional_electricity_coverage'] = df['region'].map(lambda region: bau_data.loc[region]['iea_regional_electricity_coverage'])\n",
    "df.loc[df.country_iso == 'IND', 'iea_regional_electricity_coverage'] = 1\n",
    "df.loc[df.country_iso == 'IDN', 'iea_regional_electricity_coverage'] = 1\n",
    "df.loc[df.country_iso == 'YEM', 'iea_regional_electricity_coverage'] = 0.95\n",
    "df['bau_pop_newly_electrified'] = df.iea_regional_electricity_coverage * df.pop_newly_electrified_2030\n",
    "\n",
    "for opt in ELECTRIFICATION_OPTIONS:\n",
    "    #assign the regional electricity share for each options\n",
    "    df['bau_pop_%s_share' % opt] = df['region'].map(lambda region: bau_data.loc[region]['%s_share' % opt])"
   ]
  },
  {
   "cell_type": "markdown",
   "metadata": {},
   "source": [
    "## se4all+SHIFT senario data"
   ]
  },
  {
   "cell_type": "raw",
   "metadata": {},
   "source": [
    "from daten.data_preparation import (\n",
    "    map_weak_grid_class,\n",
    "    map_corruption_class,\n",
    "    map_ease_doing_business_class,\n",
    "    map_gdp_class,\n",
    "    map_mobile_money_class\n",
    ")\n",
    "\n",
    "df['weak_grid_class'] = df['weak_grid_index'].map(map_weak_grid_class, na_action='ignore')\n",
    "df['corruption_class'] = df['corruption_index'].map(map_corruption_class, na_action='ignore')\n",
    "df['ease_doing_business_class'] = df['ease_doing_business_index'].map(map_ease_doing_business_class, na_action='ignore')\n",
    "df['gdp_class'] = df['gdp_per_capita'].map(map_gdp_class, na_action='ignore')\n",
    "df['mobile_money'] = df['mobile_money_2017'].fillna(df['mobile_money_2014'])\n",
    "df['mobile_money_class'] = df['mobile_money'].map(map_mobile_money_class, na_action='ignore').fillna(0)\n",
    "\n",
    "# apply the shift drives\n",
    "for opt in [MG, SHS]:\n",
    "    df['shift_menti_%s' % opt] = df.gdp_class * MENTI[opt]['high_gdp'] \\\n",
    "    + df.mobile_money_class * MENTI[opt]['high_mobile_money']\n",
    "    + df.ease_doing_business_class * MENTI[opt]['high_ease_doing_business']\n",
    "    + df.corruption_class * MENTI[opt]['low_corruption']\n",
    "    + df.weak_grid_class * MENTI[opt]['high_grid_weakness']"
   ]
  },
  {
   "cell_type": "raw",
   "metadata": {},
   "source": [
    "# for se4all+SHIFT\n",
    "\n",
    "WEIGHT_GRID = 0.8  # $RT_shift_factors.$O$2\n",
    "WEIGHT = 0.2  # $RT_shift_factors.$P$2\n",
    "RISE_INDICES = ['rise_%s' % opt for opt in ELECTRIFICATION_OPTIONS]\n",
    "SHIFT_MENTI = ['shift_menti_mg', 'shift_menti_shs']\n",
    "\n",
    "#SUMME(S22:W22) --> df.loc[:,RISE_INDICES + SHIFT_MENTI].sum(axis=1)\n",
    "#SUMME($S22:$U22) --> df.loc[:,RISE_INDICES].sum(axis=1)\n",
    "#SUMME($V22:$W22) --> df.loc[:,SHIFT_MENTI].sum(axis=1)\n",
    "\n",
    "for opt in ELECTRIFICATION_OPTIONS:\n",
    "    df['pop_get_%s_2030' % opt] = df['pop_%s_share' % opt] * df.pop_newly_electrified_2030\n",
    "\n",
    "# to normalize the senarii weigthed sum\n",
    "weighted_norm = df.loc[:,RISE_INDICES].sum(axis=1) * WEIGHT_GRID + df.loc[:,SHIFT_MENTI].sum(axis=1) * WEIGHT\n",
    "\n",
    "non_zero_indices = df.loc[:,RISE_INDICES + SHIFT_MENTI].sum(axis=1) != 0\n",
    "\n",
    "for col in ['shift_grid_share','shift_grid_to_mg_share', 'shift_grid_to_shs_share']:\n",
    "    # if the sum of the RISE indices and shift MENTI is 0 the corresponding rows in the given columns are set to 0\n",
    "    df.loc[df.loc[:,RISE_INDICES + SHIFT_MENTI].sum(axis=1) == 0, col] = 0\n",
    "\n",
    "# share of population which will be on the grid in the se4all+SHIFT senario\n",
    "#=WENN(SUMME(S22:W22)=0;0;S22*$RT_shift_factors.$O$2/(SUMME($S22:$U22)*$RT_shift_factors.$O$2+SUMME($V22:$W22)*$RT_shift_factors.$P$2))\n",
    "df.loc[non_zero_indices, 'shift_grid_share'] = df.rise_grid * WEIGHT_GRID / weighted_norm\n",
    "\n",
    "# share of population which will have changed from grid to mg in the se4all+SHIFT senario\n",
    "#=WENN(SUMME(S22:W22)=0;0;(T22*$RT_shift_factors.$O$2+V22*$RT_shift_factors.$P$2)/(SUMME($S22:$U22)*$RT_shift_factors.$O$2+SUMME($V22:$W22)*$RT_shift_factors.$P$2))\n",
    "df.loc[non_zero_indices, 'shift_grid_to_mg_share'] = (df.rise_mg * WEIGHT_GRID + df.shift_menti_mg * WEIGHT ) / weighted_norm\n",
    "\n",
    "# share of population which will have changed from grid to shs in the se4all+SHIFT senario\n",
    "#=WENN(SUMME(S23:W23)=0;0;(U23*$RT_shift_factors.$O$2+W23*$RT_shift_factors.$P$2)/(SUMME($S23:$U23)*$RT_shift_factors.$O$2+SUMME($V23:$W23)*$RT_shift_factors.$P$2))\n",
    "df.loc[non_zero_indices, 'shift_grid_to_shs_share'] = (df.rise_shs * WEIGHT_GRID + df.shift_menti_shs * WEIGHT ) / weighted_norm\n",
    "\n",
    "\n",
    "# SHARED WITH prOG\n",
    "\n",
    "#=WENN(Y24>=X24;$Y24*D24;0)\n",
    "#D24 -->  people get grid until 2030 (=SVERWEIS(B4;$'Data_+_GIS'.$B$3:$V$54;7;0)*SVERWEIS(B4;$'Data_+_GIS'.$B$3:$V$54;13;0))\n",
    "# if the predicted mg share is larger than the predicted grid share, the number of people predited to use mg in the se4all+SHIFT senario is returned\n",
    "# otherwise it is set to 0\n",
    "df.loc[df.shift_grid_to_mg_share >= df.shift_grid_share, 'shift_pop_grid_to_mg'] = df.shift_grid_to_mg_share * df.pop_get_grid_2030\n",
    "df.loc[df.shift_grid_to_mg_share < df.shift_grid_share, 'shift_pop_grid_to_mg'] = 0\n",
    "\n",
    "#=WENN(Z25>=X25;Z25*$D25;0)\n",
    "# if the predicted shs share is larger than the predicted grid share, the number of people predited to use shs in the se4all+SHIFT senario is returned\n",
    "# otherwise it is set to 0\n",
    "df.loc[df.shift_grid_to_shs_share >= df.shift_grid_share, 'shift_pop_grid_to_shs'] = df.shift_grid_to_shs_share * df.pop_get_grid_2030\n",
    "df.loc[df.shift_grid_to_shs_share < df.shift_grid_share, 'shift_pop_grid_to_shs'] = 0"
   ]
  },
  {
   "cell_type": "raw",
   "metadata": {},
   "source": [
    "# for prOG\n",
    "\n",
    "df.rise_mg = 100\n",
    "df.rise_shs = 100\n",
    "\n",
    "weighted_norm = df.loc[:,RISE_INDICES].sum(axis=1)\n",
    "\n",
    "non_zero_indices = df.loc[:,RISE_INDICES].sum(axis=1) != 0\n",
    "\n",
    "for col in ['shift_grid_share','shift_grid_to_mg_share', 'shift_grid_to_shs_share']:\n",
    "    # if the sum of the RISE indices and shift MENTI is 0 the corresponding rows in the given columns are set to 0\n",
    "    df.loc[df.loc[:,RISE_INDICES].sum(axis=1) == 0, col] = 0\n",
    "\n",
    "# share of population which will be on the grid in the se4all+SHIFT senario\n",
    "#=WENN(SUMME(H5;I5;J5)=0;0;H5/SUMME($G5:$I5)) \n",
    "df.loc[non_zero_indices, 'shift_grid_share'] = df.rise_grid / weighted_norm\n",
    "\n",
    "# share of population which will have changed from grid to mg in the se4all+SHIFT senario\n",
    "#=WENN(SUMME(I5;J5;K5)=0;0;I5/SUMME($G5:$I5))\n",
    "df.loc[non_zero_indices, 'shift_grid_to_mg_share'] = df.rise_mg / weighted_norm\n",
    "\n",
    "# share of population which will have changed from grid to shs in the se4all+SHIFT senario\n",
    "#=WENN(SUMME(I5;J5;K5)=0;0;I5/SUMME($G5:$I5))\n",
    "df.loc[non_zero_indices, 'shift_grid_to_shs_share'] = df.rise_shs  / weighted_norm\n",
    "\n",
    "# Shared with se4all\n",
    "\n",
    "#=WENN(Y24>=X24;$Y24*D24;0)\n",
    "#D24 -->  people get grid until 2030 (=SVERWEIS(B4;$'Data_+_GIS'.$B$3:$V$54;7;0)*SVERWEIS(B4;$'Data_+_GIS'.$B$3:$V$54;13;0))\n",
    "# if the predicted mg share is larger than the predicted grid share, the number of people predited to use mg in the se4all+SHIFT senario is returned\n",
    "# otherwise it is set to 0\n",
    "df.loc[df.shift_grid_to_mg_share >= df.shift_grid_share, 'shift_pop_grid_to_mg'] = df.shift_grid_to_mg_share * df.pop_get_grid_2030\n",
    "df.loc[df.shift_grid_to_mg_share < df.shift_grid_share, 'shift_pop_grid_to_mg'] = 0\n",
    "\n",
    "#=WENN(Z25>=X25;Z25*$D25;0)\n",
    "# if the predicted shs share is larger than the predicted grid share, the number of people predited to use shs in the se4all+SHIFT senario is returned\n",
    "# otherwise it is set to 0\n",
    "df.loc[df.shift_grid_to_shs_share >= df.shift_grid_share, 'shift_pop_grid_to_shs'] = df.shift_grid_to_shs_share * df.pop_get_grid_2030\n",
    "df.loc[df.shift_grid_to_shs_share < df.shift_grid_share, 'shift_pop_grid_to_shs'] = 0\n",
    "\n",
    "\n"
   ]
  },
  {
   "cell_type": "markdown",
   "metadata": {},
   "source": [
    "## Exogenous results for all senarii"
   ]
  },
  {
   "cell_type": "raw",
   "metadata": {},
   "source": [
    "# exogenous results for BaU and se4all+SHIFT\n",
    "\n",
    "def extract_results_senario(input_df, senario, regions=None):\n",
    "    \n",
    "    df = input_df.copy()\n",
    "    \n",
    "    if regions is None:\n",
    "        regions=['SSA', 'DA', 'LA']\n",
    "\n",
    "        \n",
    "    if senario == BAU_SENARIO:\n",
    "        for opt in ELECTRIFICATION_OPTIONS:\n",
    "            # not valid for other senario than bau at the moment\n",
    "            # create a columns with regional electrification option shares \n",
    "            df['temp_%s' % opt] = df['region'].replace(regions, bau_data.loc[regions]['%s_share' % opt].to_list())\n",
    "\n",
    "            # predicted number of people getting access to electricity (regional detail level)\n",
    "            df['pop_get_%s_2030' % opt] = df.bau_pop_newly_electrified * df['temp_%s' % opt]\n",
    "    elif senario in [SE4ALL_SHIFT_SENARIO, PROG_SENARIO]:\n",
    "        #SUMME(AA4:AB4) --> df.loc[:,['shift_pop_grid_to_mg' 'shift_pop_grid_to_shs']].sum(axis=1) \n",
    "        #grid =D4-SUMME(AA4:AB4)\n",
    "        opt = 'grid'\n",
    "        # predicted number of people getting access to electricity (regional detail level)\n",
    "        df['pop_get_%s_2030' % opt] = df['pop_get_%s_2030' % opt] - df.loc[:,['shift_pop_grid_to_mg', 'shift_pop_grid_to_shs']].sum(axis=1) \n",
    "\n",
    "        #mg =E5+AA5\n",
    "        opt = 'mg'\n",
    "        # predicted number of people getting access to electricity (regional detail level)\n",
    "        df['pop_get_%s_2030' % opt] = df['pop_get_%s_2030' % opt] + df['shift_pop_grid_to_%s' % opt]\n",
    "\n",
    "        #shs =F6+AB6\n",
    "        opt = 'shs'\n",
    "        # predicted number of people getting access to electricity (regional detail level)\n",
    "        df['pop_get_%s_2030' % opt] = df['pop_get_%s_2030' % opt] + df['shift_pop_grid_to_%s' % opt]\n",
    "    else:\n",
    "        raise(ValueError)\n",
    "\n",
    "    for opt in ELECTRIFICATION_OPTIONS:\n",
    "        # predicted number of household getting access to electricity (regional detail level)\n",
    "        df['hh_get_%s_2030' % opt] = df['pop_get_%s_2030' % opt] / df.hh_av_size\n",
    "        # predicted power (in kW) that the access to electricity will represent (regional detail level)\n",
    "        # the analysis is based on the peak demand for the grid and mg senarii, and the average\n",
    "        # power of solar panel for shs senario\n",
    "        if opt in (GRID , MG):\n",
    "            df['hh_%s_capacity' % opt] = df['hh_get_%s_2030' % opt] * df['hh_%s_tier_peak_demand' % opt]\n",
    "            df['hh_cap_scn2_%s_capacity' % opt] = df['hh_get_%s_2030' % opt] * df['cap_sn2_%s_tier_up' % opt]\n",
    "        else:\n",
    "            df['hh_%s_capacity' % opt] = df['hh_get_%s_2030' % opt] * df['shs_unit_av_capacity'] / 1000\n",
    "            df['hh_cap_scn2_%s_capacity' % opt] = df['hh_get_%s_2030' % opt] * df['cap_sn2_%s_tier_up' % opt] / 1000\n",
    "            \n",
    "    return df"
   ]
  },
  {
   "cell_type": "code",
   "execution_count": null,
   "metadata": {},
   "outputs": [],
   "source": [
    "se_df = extract_results_senario(df, SE4ALL_SHIFT_SENARIO)"
   ]
  },
  {
   "cell_type": "code",
   "execution_count": null,
   "metadata": {},
   "outputs": [],
   "source": [
    "bau_df = extract_results_senario(df, BAU_SENARIO)\n",
    "bau_df.set_index('country_iso')"
   ]
  },
  {
   "cell_type": "code",
   "execution_count": null,
   "metadata": {},
   "outputs": [],
   "source": [
    "prog_df = extract_results_senario(df, PROG_SENARIO)"
   ]
  },
  {
   "cell_type": "code",
   "execution_count": null,
   "metadata": {},
   "outputs": [],
   "source": [
    "\n"
   ]
  },
  {
   "cell_type": "code",
   "execution_count": null,
   "metadata": {},
   "outputs": [],
   "source": [
    "pop_get_grid_2030,pop_get_mg_2030,pop_get_shs_2030,hh_get_grid_2030,hh_get_mg_2030,hh_get_shs_2030,hh_grid_capacity,hh_mg_capacity,hh_shs_capacity,hh_cap_scn2_grid_capacity,hh_cap_scn2_mg_capacity,hh_cap_scn2_shs_capacity"
   ]
  },
  {
   "cell_type": "code",
   "execution_count": null,
   "metadata": {},
   "outputs": [],
   "source": [
    "xls_bau = pd.read_csv('daten/xls_bau.csv', float_precision='high')\n",
    "xls_se = pd.read_csv('daten/xls_se.csv', float_precision='high')"
   ]
  },
  {
   "cell_type": "code",
   "execution_count": null,
   "metadata": {},
   "outputs": [],
   "source": [
    "xls_bau = pd.read_csv('daten/xls_bau.csv', float_precision='high')\n",
    "xls_se = pd.read_csv('daten/xls_se.csv', float_precision='high')\n",
    "\n",
    "df_diff = xls_bau[EXO_RESULTS] - bau_df[EXO_RESULTS]\n",
    "df_diff['iso'] = bau_df.country_iso\n",
    "df_diff = df_diff.set_index('iso')\n",
    "\n",
    "def highlight_mismatch(col):\n",
    "    eps = 0.02\n",
    "    return df_diff.loc[np.abs(df_diff[col].round(0)) > eps]\n",
    "\n",
    "l = []\n",
    "\n",
    "for col in EXO_RESULTS:\n",
    "    l = l + highlight_mismatch(col).index.to_list()\n",
    "len(set(l))\n",
    "\n",
    "col = 'hh_mg_capacity'\n",
    "l = highlight_mismatch(col).index.to_list()\n",
    "print(l)\n",
    "df_diff.loc[l]"
   ]
  },
  {
   "cell_type": "code",
   "execution_count": null,
   "metadata": {},
   "outputs": [],
   "source": []
  },
  {
   "cell_type": "code",
   "execution_count": null,
   "metadata": {},
   "outputs": [],
   "source": [
    "col = 'hh_mg_capacity'\n",
    "l = highlight_mismatch(col).index.to_list()\n",
    "print(l)\n",
    "df_diff.loc[l]"
   ]
  },
  {
   "cell_type": "code",
   "execution_count": null,
   "metadata": {},
   "outputs": [],
   "source": [
    "df.loc[df.country_iso == 'IND']"
   ]
  },
  {
   "cell_type": "code",
   "execution_count": null,
   "metadata": {},
   "outputs": [],
   "source": [
    "xls_bau[EXO_RESULTS].head()"
   ]
  },
  {
   "cell_type": "code",
   "execution_count": null,
   "metadata": {},
   "outputs": [],
   "source": [
    "bau_df[EXO_RESULTS].head()"
   ]
  },
  {
   "cell_type": "code",
   "execution_count": null,
   "metadata": {},
   "outputs": [],
   "source": [
    "prog_df[EXO_RESULTS].head()"
   ]
  },
  {
   "cell_type": "code",
   "execution_count": null,
   "metadata": {},
   "outputs": [],
   "source": [
    "se_df[EXO_RESULTS].head()"
   ]
  },
  {
   "cell_type": "code",
   "execution_count": null,
   "metadata": {},
   "outputs": [],
   "source": [
    "df_diff = xls_se[EXO_RESULTS] - se_df[EXO_RESULTS]\n",
    "df_diff['iso'] = se_df.country_iso\n",
    "df_diff.set_index('iso')\n",
    "\n",
    "def highlight_mismatch(col):\n",
    "    eps = 0.1\n",
    "    return df_diff.loc[np.abs(df_diff[col]) > eps]\n",
    "\n",
    "l = []\n",
    "\n",
    "for col in EXO_RESULTS:\n",
    "    l = l + highlight_mismatch(col).iso.to_list()\n",
    "len(set(l))"
   ]
  },
  {
   "cell_type": "code",
   "execution_count": null,
   "metadata": {},
   "outputs": [],
   "source": [
    "#=WENN(Q22<4,5;0;WENN(Q22<=9;0,5;WENN(Q22>9;1;\"NA\")))\n",
    "\n",
    "def map_weak_grid_class(weak_grid_idx):\n",
    "    \"\"\"Assign an index value to differentiate weak grid\"\"\"\n",
    "    answer = 1\n",
    "    if weak_grid_idx <= 4.5:\n",
    "        answer = 0.5\n",
    "    if weak_grid_idx <= 9:\n",
    "        answer = 0\n",
    "    return answer\n",
    "\n",
    "#=WENN(O25<26;0;WENN(O25<=33;0,5;WENN(O25>33;1;\"NA\")))\n",
    "\n",
    "def map_corruption_class(corruption_idx):\n",
    "    \"\"\"Assign an index value to differentiate corruption\"\"\"\n",
    "    answer = 1\n",
    "    if corruption_idx <= 33:\n",
    "        answer = 0.5\n",
    "    if corruption_idx <= 26:\n",
    "        answer = 0\n",
    "    return answer\n",
    "\n",
    "#=WENN(M22<131;0;WENN(M22<=164;0,5;WENN(M22>164;1;\"NA\")))\n",
    "\n",
    "def map_ease_doing_business_class(business_ease):\n",
    "    \"\"\"Assign an index value to differentiate ease of doing business\"\"\"\n",
    "    answer = 1\n",
    "    if business_ease <= 164:\n",
    "        answer = 0.5\n",
    "    if business_ease <= 131:\n",
    "        answer = 0\n",
    "    return answer\n",
    "\n",
    "#Se4All\n",
    "\n",
    "def map_gdp_class(gdp_per_capita):\n",
    "    \"\"\"Assign an index value to differentiate gdp per capita\"\"\"\n",
    "    answer = 1\n",
    "    if gdp_per_capita < 1500:\n",
    "        answer = 0.5\n",
    "    if gdp_per_capita < 700:\n",
    "        answer = 0\n",
    "    return answer\n",
    "    \n",
    "#=WENN(K5<=0,12;0;WENN(K5<=0,21;0,5;1))\n",
    "\n",
    "def map_mobile_money_class(mobile_money):\n",
    "    \"\"\"Assign an index value to differentiate mobile_money\"\"\"\n",
    "    answer = 1\n",
    "    if mobile_money <= 0.21:\n",
    "        answer = 0.5\n",
    "    if mobile_money <= 0.12:\n",
    "        answer = 0\n",
    "    return answer\n"
   ]
  },
  {
   "cell_type": "code",
   "execution_count": null,
   "metadata": {},
   "outputs": [],
   "source": [
    "df = pd.DataFrame({'A': [0, 1, 2, 3, 4],\n",
    "                    'B': [5, -1, 7, -3, 9],\n",
    "                   'C': [4, 7, 3, 9, 1],\n",
    "                   'D': [1, 5, 3, 0, 1],\n",
    "                   'E': [7, 7, 2, 9, 7],\n",
    "                    'Z': ['a', 'a', 'b', 'c', 'c']})\n",
    "WEIGHT_GRID = 0.8  # $RT_shift_factors.$O$2\n",
    "WEIGHT = 0.2  # $RT_shift_factors.$P$2\n",
    "\n",
    "\n",
    "\n",
    "RISE_INDICES = ['A', 'B']\n",
    "SHIFT_MENTI = []\n",
    "# norm = df.loc[:,RISE_INDICES].sum(axis=1) * WEIGHT_GRID + df.loc[:,SHIFT_MENTI].sum(axis=1) * WEIGHT\n",
    "# df['E'] * WEIGHT_GRID / norm\n",
    "\n",
    "entries = ['shift_grid_share','shift_grid_to_mg_share', 'shift_grid_to_shs_share']\n",
    "# df.loc[df.loc[:,RISE_INDICES + SHIFT_MENTI].sum(axis=1) == 0, 'shift_grid_share' ] = '0'\n",
    "for entry in entries:\n",
    "    df.loc[df.B >0, entry ] = '0'\n",
    "\n",
    "df"
   ]
  }
 ],
 "metadata": {
  "kernelspec": {
   "display_name": "Python 3",
   "language": "python",
   "name": "python3"
  },
  "language_info": {
   "codemirror_mode": {
    "name": "ipython",
    "version": 3
   },
   "file_extension": ".py",
   "mimetype": "text/x-python",
   "name": "python",
   "nbconvert_exporter": "python",
   "pygments_lexer": "ipython3",
   "version": "3.6.7"
  }
 },
 "nbformat": 4,
 "nbformat_minor": 2
}
