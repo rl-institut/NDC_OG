{
 "cells": [
  {
   "cell_type": "code",
   "execution_count": 2,
   "metadata": {},
   "outputs": [],
   "source": [
    "import pandas as pd\n",
    "import numpy as np"
   ]
  },
  {
   "cell_type": "code",
   "execution_count": null,
   "metadata": {},
   "outputs": [],
   "source": [
    "# IEA el_rate per region\n",
    "# if region=\"SSA\":\n",
    "#    ($BaU_values.$E$6)\n",
    "# elif region=\"DA\":\n",
    "#        ($BaU_values.$J$6)\n",
    "# elif region=\"LA\":\n",
    "#    ($BaU_values.$G$6)\n",
    "# else:\n",
    "#    0"
   ]
  },
  {
   "cell_type": "code",
   "execution_count": 95,
   "metadata": {},
   "outputs": [
    {
     "name": "stderr",
     "output_type": "stream",
     "text": [
      "/home/Pierre.Duc/.virtualenvs/ndc-map/lib/python3.6/site-packages/ipykernel_launcher.py:14: RuntimeWarning: invalid value encountered in true_divide\n",
      "  \n"
     ]
    }
   ],
   "source": [
    "shs_sales_volumes = pd.read_csv('daten/shs_sales_volumes.csv', comment='#')\n",
    "# compute the average of the product categories 5 to 7\n",
    "shs_sales_volumes['tot_5-7'] = shs_sales_volumes[['5', '6', '7']].sum(axis=1)\n",
    "\n",
    "shs_power_categories = pd.read_csv('daten/shs_power_per_product_categories.csv', comment='#')\n",
    "# compute the average power for each category\n",
    "shs_power_categories['power_av'] = shs_power_categories[['power_low', 'power_high']].mean(axis=1)\n",
    "\n",
    "# select only the average power for the product categories 5 to 7\n",
    "cat_power_av_5_7 = shs_power_categories['power_av'].loc[shs_power_categories.category >= 5].values\n",
    "# compute the average power per region (multiply the number units sold per product categories by the average power of the respective category)\n",
    "power_av_5_7 = shs_sales_volumes[['5', '6', '7']].values * cat_power_av_5_7\n",
    "# compute the average unit power per region (divide the sum over the categories by the total unit sold)\n",
    "shs_sales_volumes['weighted_tot_5-7 [W]'] = power_av_5_7.sum(axis=1) / shs_sales_volumes['tot_5-7'].values"
   ]
  },
  {
   "cell_type": "code",
   "execution_count": 106,
   "metadata": {},
   "outputs": [
    {
     "data": {
      "text/plain": [
       "67.2942122656684"
      ]
     },
     "execution_count": 106,
     "metadata": {},
     "output_type": "execute_result"
    }
   ],
   "source": [
    "# Global parameters\n",
    "# variable\n",
    "tier\n",
    "invest_shs\n",
    "invest_mg\n",
    "# fixed\n",
    "weight_rise\n",
    "weight_experts"
   ]
  },
  {
   "cell_type": "code",
   "execution_count": 115,
   "metadata": {},
   "outputs": [],
   "source": [
    "ELECTRIFICATION_OPTIONS =['grid', 'mg', 'shs']\n",
    "SENARII = ['bau', 'se4all', 'prog']"
   ]
  },
  {
   "cell_type": "code",
   "execution_count": 111,
   "metadata": {},
   "outputs": [
    {
     "ename": "SyntaxError",
     "evalue": "invalid syntax (<ipython-input-111-541ee21daff5>, line 45)",
     "output_type": "error",
     "traceback": [
      "\u001b[0;36m  File \u001b[0;32m\"<ipython-input-111-541ee21daff5>\"\u001b[0;36m, line \u001b[0;32m45\u001b[0m\n\u001b[0;31m    hh_grid_tier_yearly_electricity_consumption*$Tiers.$D$6+$Tiers.$D$7/1000\u001b[0m\n\u001b[0m                                                ^\u001b[0m\n\u001b[0;31mSyntaxError\u001b[0m\u001b[0;31m:\u001b[0m invalid syntax\n"
     ]
    }
   ],
   "source": [
    "#Fixed inputs (from a csv)\n",
    "# country,country_iso,region,hh_av_size,pop_2017,pop_2030,dark_rate,hh_grid_share,hh_yearly_electricity_consumption,gdp_per_capita,mobile_money_2014,mobile_money_2017,ease_doing_business_index\n",
    "country\n",
    "country_iso\n",
    "region\n",
    "dark_rate\n",
    "electrification_rate\n",
    "pop_shs_share\n",
    "pop_mg_share\n",
    "pop_grid_share\n",
    "pop_2017\n",
    "pop_2030\n",
    "\n",
    "hh_grid_share\n",
    "hh_mg_share\n",
    "shs_unit_av_capacity\n",
    "hh_yearly_electricity_consumption\n",
    "iea_regional_electricity_coverage\n",
    "\n",
    "ELECTRIFICATION_OPTIONS =['grid', 'mg', 'shs']\n",
    "SENARII = ['bau', 'se4all', 'prog']\n",
    "\n",
    "MIN_TIER_LEVEL = 3\n",
    "MIN_RATED_CAPACITY = {3: 200, 4: 800, 5: 2000} # index is TIER level [W]\n",
    "MIN_ANNUAL_CONSUMPTION = {3: 365, 4: 1250, 5: 3000} # index is TIER level [kWh/a]\n",
    "# Find names for function on TIER lines 6 and 7\n",
    "\n",
    "pop_rel_growth = pop_2030 / pop_2017\n",
    "pop_dark_2017 = pop_2017 * dark_rate\n",
    "\n",
    "hh_grid_tier_yearly_electricity_consumption  # Grid_Tier_adjusted_HH_el_consumption [kWh/a]\n",
    "#=S3*WENN(AA3<$Tiers.$B$2;$Tiers.$B$2;$'Data_+_GIS'.AA3)\n",
    "if hh_yearly_electricity_consumption < MIN_ANNUAL_CONSUMPTION[MIN_TIER_LEVEL]:\n",
    "    MIN_ANNUAL_CONSUMPTION[MIN_TIER_LEVEL] * hh_grid_share\n",
    "else:\n",
    "    hh_yearly_electricity_consumption * hh_grid_share\n",
    "\n",
    "hh_mg_tier_yearly_electricity_consumption  # MG_Tier_adjusted_HH_el_consumption [kWh/a]\n",
    "#=WENN(AA3<$Tiers.$B$2/T3;$Tiers.$B$2;$'Data_+_GIS'.AA3*T3)\n",
    "if hh_yearly_electricity_consumption < MIN_ANNUAL_CONSUMPTION[MIN_TIER_LEVEL] / hh_mg_share:\n",
    "    MIN_ANNUAL_CONSUMPTION[MIN_TIER_LEVEL]\n",
    "else:\n",
    "    hh_yearly_electricity_consumption * hh_mg_share\n",
    "\n",
    "    \n",
    "hh_grid_tier_peak_demand  # Grid peak demand grid [kW/HH], interpolated per Tier\n",
    "#=WENN(UND(AB3>=$Tiers.$C$5;AB3<$Tiers.$D$5);AB3*$Tiers.$D$6+$Tiers.$D$7;WENN(UND(AB3>=$Tiers.$B$5;AB3<$Tiers.$C$5);AB3*$Tiers.$C$6+$Tiers.$C$7))/1000\n",
    "if hh_grid_tier_yearly_electricity_consumption >= MIN_ANNUAL_CONSUMPTION[4] and hh_grid_tier_yearly_electricity_consumption < MIN_ANNUAL_CONSUMPTION[5]:\n",
    "    hh_grid_tier_yearly_electricity_consumption*$Tiers.$D$6+$Tiers.$D$7/1000\n",
    "    #$Tiers.$D$6 = Ratio of MIN_RATED_CAPACITY and MIN_ANNUAL_CONSUMPTION between TIER 5 and TIER 4\n",
    "    #$Tiers.$D$7 = MIN_RATED_CAPACITY[4] - MIN_ANNUAL_CONSUMPTION[4] * $Tiers.$D$6\n",
    "else:\n",
    "    if hh_grid_tier_yearly_electricity_consumption>=MIN_ANNUAL_CONSUMPTION[3] and hh_grid_tier_yearly_electricity_consumption<MIN_ANNUAL_CONSUMPTION[4]:\n",
    "    #$Tiers.$C$6 = Ratio of MIN_RATED_CAPACITY and MIN_ANNUAL_CONSUMPTION between TIER 4 and TIER 3\n",
    "    #$Tiers.$C$7 = MIN_RATED_CAPACITY[3] - MIN_ANNUAL_CONSUMPTION[3] * $Tiers.$C$6\n",
    "        hh_grid_tier_yearly_electricity_consumption*$Tiers.$C$6+$Tiers.$C$7/1000\n",
    "\n",
    "hh_mg_tier_peak_demand  # MG peak demand grid [kW/HH], interpolated per Tier\n",
    "#=WENN(UND(AC3>=$Tiers.$C$5;AC3<$Tiers.$D$5);AC3*$Tiers.$D$6+$Tiers.$D$7;WENN(UND(AC3>=$Tiers.$B$5;AC3<$Tiers.$C$5);AC3*$Tiers.$C$6+$Tiers.$C$7))/1000\n",
    "if hh_mg_tier_yearly_electricity_consumption>=MIN_ANNUAL_CONSUMPTION[4] and hh_mg_tier_yearly_electricity_consumption < MIN_ANNUAL_CONSUMPTION[5]:\n",
    "    hh_mg_tier_yearly_electricity_consumption*$Tiers.$D$6+$Tiers.$D$7/1000\n",
    "    #$Tiers.$D$6 = Ratio of MIN_RATED_CAPACITY and MIN_ANNUAL_CONSUMPTION between TIER 5 and TIER 4\n",
    "    #$Tiers.$D$7 = MIN_RATED_CAPACITY[4] - MIN_ANNUAL_CONSUMPTION[4] * $Tiers.$D$6\n",
    "else:\n",
    "    if hh_mg_tier_yearly_electricity_consumption>=MIN_ANNUAL_CONSUMPTION[3] and hh_mg_tier_yearly_electricity_consumption<MIN_ANNUAL_CONSUMPTION[4]:\n",
    "    #$Tiers.$C$6 = Ratio of MIN_RATED_CAPACITY and MIN_ANNUAL_CONSUMPTION between TIER 4 and TIER 3\n",
    "    #$Tiers.$C$7 = MIN_RATED_CAPACITY[3] - MIN_ANNUAL_CONSUMPTION[3] * $Tiers.$C$6\n",
    "        hh_mg_tier_yearly_electricity_consumption*$Tiers.$C$6+$Tiers.$C$7/1000\n",
    "\n",
    "\n",
    "shs_unit_av_capacity  # SHS average capacity [Wp per sold unit]\n",
    "#=WENN(C3=\"SSA\";$'SHS sales volume'.$V$12;WENN(C3=\"DA\";$'SHS sales volume'.$V$17;WENN(C3=\"LA\";$'SHS sales volume'.$V$20;0)))\n",
    "if region==\"SSA\":\n",
    "    shs_sales_volumes.loc[shs_sales_volumes.region == 'SSA']['weighted_tot_5-7 [W]'].values[0]\n",
    "elif region==\"DA\":\n",
    "    shs_sales_volumes.loc[shs_sales_volumes.region == 'South Asia']['weighted_tot_5-7 [W]'].values[0]\n",
    "elif region==\"LA\":\n",
    "    shs_sales_volumes.loc[shs_sales_volumes.region == 'Latin America']['weighted_tot_5-7 [W]'].values[0]\n",
    "else:\n",
    "    0\n",
    "\n",
    "\n",
    "\n",
    "\n"
   ]
  },
  {
   "cell_type": "code",
   "execution_count": 148,
   "metadata": {},
   "outputs": [],
   "source": [
    "bau_data = pd.read_csv('daten/bau.csv', comment='#')\n",
    "bau_data = bau_data.set_index('region')"
   ]
  },
  {
   "cell_type": "code",
   "execution_count": 149,
   "metadata": {},
   "outputs": [
    {
     "data": {
      "text/html": [
       "<div>\n",
       "<style scoped>\n",
       "    .dataframe tbody tr th:only-of-type {\n",
       "        vertical-align: middle;\n",
       "    }\n",
       "\n",
       "    .dataframe tbody tr th {\n",
       "        vertical-align: top;\n",
       "    }\n",
       "\n",
       "    .dataframe thead th {\n",
       "        text-align: right;\n",
       "    }\n",
       "</style>\n",
       "<table border=\"1\" class=\"dataframe\">\n",
       "  <thead>\n",
       "    <tr style=\"text-align: right;\">\n",
       "      <th></th>\n",
       "      <th>region_description</th>\n",
       "      <th>el_rate_2030_IEA_NewPol</th>\n",
       "      <th>shs_share</th>\n",
       "      <th>mg_share</th>\n",
       "      <th>grid_share</th>\n",
       "    </tr>\n",
       "    <tr>\n",
       "      <th>region</th>\n",
       "      <th></th>\n",
       "      <th></th>\n",
       "      <th></th>\n",
       "      <th></th>\n",
       "      <th></th>\n",
       "    </tr>\n",
       "  </thead>\n",
       "  <tbody>\n",
       "    <tr>\n",
       "      <th>SSA</th>\n",
       "      <td>Sub Saharan Africa</td>\n",
       "      <td>0.64</td>\n",
       "      <td>0.340708</td>\n",
       "      <td>0.163717</td>\n",
       "      <td>0.495575</td>\n",
       "    </tr>\n",
       "    <tr>\n",
       "      <th>DA</th>\n",
       "      <td>Developing Asia</td>\n",
       "      <td>0.99</td>\n",
       "      <td>0.223602</td>\n",
       "      <td>0.329193</td>\n",
       "      <td>0.447205</td>\n",
       "    </tr>\n",
       "    <tr>\n",
       "      <th>LA</th>\n",
       "      <td>Latin America</td>\n",
       "      <td>0.99</td>\n",
       "      <td>0.142857</td>\n",
       "      <td>0.285714</td>\n",
       "      <td>0.571429</td>\n",
       "    </tr>\n",
       "  </tbody>\n",
       "</table>\n",
       "</div>"
      ],
      "text/plain": [
       "        region_description  el_rate_2030_IEA_NewPol  shs_share  mg_share  \\\n",
       "region                                                                     \n",
       "SSA     Sub Saharan Africa                     0.64   0.340708  0.163717   \n",
       "DA         Developing Asia                     0.99   0.223602  0.329193   \n",
       "LA           Latin America                     0.99   0.142857  0.285714   \n",
       "\n",
       "        grid_share  \n",
       "region              \n",
       "SSA       0.495575  \n",
       "DA        0.447205  \n",
       "LA        0.571429  "
      ]
     },
     "execution_count": 149,
     "metadata": {},
     "output_type": "execute_result"
    }
   ],
   "source": [
    "bau_data"
   ]
  },
  {
   "cell_type": "code",
   "execution_count": 154,
   "metadata": {},
   "outputs": [
    {
     "data": {
      "text/plain": [
       "0.340707965"
      ]
     },
     "execution_count": 154,
     "metadata": {},
     "output_type": "execute_result"
    }
   ],
   "source": [
    "#bau_pop_newly_electrified = iea_regional_electricity_coverage * pop_newly_electrified_2030\n",
    "\n",
    "#pop_newly_electrified_2030 = pop_rel_growth * pop_dark_2017\n",
    "\n",
    "region = 'SSA'\n",
    "\n",
    "bau_pop_grid_share = bau_data.loc[region]['grid_share']  # BaU Grid share [%population] \n",
    "#=WENN($C4=\"SSA\";$BaU_values.$E$5; WENN($C4=\"DA\";$BaU_values.$F$5;WENN($C4=\"LA\";$BaU_values.$G$5;0)))\n",
    "# if region=\"SSA\":\n",
    "#    ($BaU_values.$E$5)\n",
    "# elif region=\"DA\":\n",
    "#        ($BaU_values.$F$5)\n",
    "# elif region=\"LA\":\n",
    "#    ($BaU_values.$G$5)\n",
    "# else:\n",
    "#    0\n",
    "\n",
    "bau_pop_mg_share = bau_data.loc[region]['mg_share']  # BaU MG share [%population]\n",
    "#=WENN($C4=\"SSA\";$BaU_values.$E$4; WENN($C4=\"DA\";$BaU_values.$F$4;WENN($C4=\"LA\";$BaU_values.$G$4;0)))\n",
    "# if region=\"SSA\":\n",
    "#    ($BaU_values.$E$4)\n",
    "# elif region=\"DA\":\n",
    "#        ($BaU_values.$F$4)\n",
    "# elif region=\"LA\":\n",
    "#    ($BaU_values.$G$4)\n",
    "# else:\n",
    "#    0\n",
    "\n",
    "bau_pop_shs_share = bau_data.loc[region]['shs_share']  # BaU SHS share [%population]\n",
    "#=WENN($C4=\"SSA\";$BaU_values.$E$3; WENN($C4=\"DA\";$BaU_values.$F$3;WENN($C4=\"LA\";$BaU_values.$G$3;0)))\n",
    "# if region=\"SSA\":\n",
    "#    ($BaU_values.$E$3)\n",
    "# elif region=\"DA\":\n",
    "#        ($BaU_values.$F$3)\n",
    "# elif region=\"LA\":\n",
    "#    ($BaU_values.$G$3)\n",
    "# else:\n",
    "#    0"
   ]
  },
  {
   "cell_type": "code",
   "execution_count": 159,
   "metadata": {},
   "outputs": [
    {
     "data": {
      "text/plain": [
       "[0.340707965, 0.223602484, 0.14285714300000002]"
      ]
     },
     "execution_count": 159,
     "metadata": {},
     "output_type": "execute_result"
    }
   ],
   "source": [
    "bau_data.iloc[0:3]\n",
    "regions=['SSA', 'DA', 'LA']\n",
    "bau_data.loc[regions]\n",
    "bau_data.loc[regions]['shs_share'].to_list()"
   ]
  },
  {
   "cell_type": "code",
   "execution_count": 124,
   "metadata": {},
   "outputs": [
    {
     "data": {
      "text/html": [
       "<div>\n",
       "<style scoped>\n",
       "    .dataframe tbody tr th:only-of-type {\n",
       "        vertical-align: middle;\n",
       "    }\n",
       "\n",
       "    .dataframe tbody tr th {\n",
       "        vertical-align: top;\n",
       "    }\n",
       "\n",
       "    .dataframe thead th {\n",
       "        text-align: right;\n",
       "    }\n",
       "</style>\n",
       "<table border=\"1\" class=\"dataframe\">\n",
       "  <thead>\n",
       "    <tr style=\"text-align: right;\">\n",
       "      <th></th>\n",
       "      <th>A</th>\n",
       "      <th>B</th>\n",
       "      <th>C</th>\n",
       "      <th>D</th>\n",
       "    </tr>\n",
       "  </thead>\n",
       "  <tbody>\n",
       "    <tr>\n",
       "      <th>0</th>\n",
       "      <td>0</td>\n",
       "      <td>5</td>\n",
       "      <td>a</td>\n",
       "      <td>1.2</td>\n",
       "    </tr>\n",
       "    <tr>\n",
       "      <th>1</th>\n",
       "      <td>1</td>\n",
       "      <td>6</td>\n",
       "      <td>a</td>\n",
       "      <td>1.2</td>\n",
       "    </tr>\n",
       "    <tr>\n",
       "      <th>2</th>\n",
       "      <td>2</td>\n",
       "      <td>7</td>\n",
       "      <td>b</td>\n",
       "      <td>0.0</td>\n",
       "    </tr>\n",
       "    <tr>\n",
       "      <th>3</th>\n",
       "      <td>3</td>\n",
       "      <td>8</td>\n",
       "      <td>c</td>\n",
       "      <td>-3.0</td>\n",
       "    </tr>\n",
       "    <tr>\n",
       "      <th>4</th>\n",
       "      <td>4</td>\n",
       "      <td>9</td>\n",
       "      <td>c</td>\n",
       "      <td>-3.0</td>\n",
       "    </tr>\n",
       "  </tbody>\n",
       "</table>\n",
       "</div>"
      ],
      "text/plain": [
       "   A  B  C    D\n",
       "0  0  5  a  1.2\n",
       "1  1  6  a  1.2\n",
       "2  2  7  b  0.0\n",
       "3  3  8  c -3.0\n",
       "4  4  9  c -3.0"
      ]
     },
     "execution_count": 124,
     "metadata": {},
     "output_type": "execute_result"
    }
   ],
   "source": [
    "df = pd.DataFrame({'A': [0, 1, 2, 3, 4],\n",
    "                    'B': [5, 6, 7, 8, 9],\n",
    "                    'C': ['a', 'a', 'b', 'c', 'c']})\n",
    "\n",
    "df['D'] = df['C'].replace(['a','b', 'c'], [1.2, 0, -3])#.replace('b',0).replace\n",
    "df"
   ]
  },
  {
   "cell_type": "code",
   "execution_count": null,
   "metadata": {},
   "outputs": [],
   "source": [
    "\n",
    "def extract_results_senario(df, senario, regions=None):\n",
    "    \n",
    "    if region is None:\n",
    "        regions=['SSA', 'DA', 'LA']\n",
    "    \n",
    "    for opt in ELECTRIFICATION_OPTIONS:\n",
    "        # not valid for other senario than bau at the moment\n",
    "        # create a columns with regional electrification option shares \n",
    "        df['temp_%s' % opt] = df['region'].replace(regions, bau_data.loc[regions]['%s_share' % opt].to_list())\n",
    "        \n",
    "        # predicted number of people getting access to electricity (regional detail level)\n",
    "        df['pop_get_%s_2030' % opt] = df['%s__pop_newly_electrified'] * df['temp_%s' % opt]\n",
    "        \n",
    "        # predicted number of household getting access to electricity (regional detail level)\n",
    "        df['hh_get_%s_2030' % opt] = df['pop_get_%s_2030' % opt] / hh_av_size\n",
    "        \n",
    "        # predicted power (in kW) that the access to electricity will represent (regional detail level)\n",
    "        # the analysis is based on the peak demand for the grid and mg senarii, and the average\n",
    "        # power of solar panel for shs senario\n",
    "        if opt in ('grid' , 'mg'):\n",
    "            df['hh_%s_capacity' % opt] = df['hh_get_%s_2030' % opt] * df['hh_%s_tier_peak_demand' % opt]\n",
    "        else:\n",
    "            df['hh_%s_capacity' % opt] = df['hh_get_%s_2030' % opt] * df['shs_unit_av_capacity'] / 1000\n",
    "            \n",
    "    \n",
    "    #pop_get_grid_2030 = BaU Grid share [%population] * bau_pop_newly_electrified\n",
    "    #pop_get_mg_2030 = BaU MG share [%population] * bau_pop_newly_electrified\n",
    "    #pop_get_shs_2030 = BaU SHS share [%population] * bau_pop_newly_electrified\n",
    "\n",
    "    # the average num people per household is NOT the 2030 one...\n",
    "    #hh_get_grid_2030 = pop_get_grid_2030 / hh_av_size\n",
    "    #hh_get_mg_2030 = pop_get_mg_2030 / hh_av_size\n",
    "    #hh_get_shs_2030 = pop_get_shs_2030 / hh_av_size\n",
    "\n",
    "    # the average num people per household is NOT the 2030 one...\n",
    "    # results in kW\n",
    "    #hh_grid_capacity = hh_get_grid_2030 *  Grid peak demand grid [kW/HH], interpolated per Tier \n",
    "    #hh_mg_capacity = hh_get_mg_2030 *  MG peak demand grid [kW/HH], interpolated per Tier  \n",
    "    #hh_shs_capacity = hh_get_shs_2030 * (SHS average capacity [Wp per sold unit] / 1000)\n",
    "\n",
    "\n"
   ]
  },
  {
   "cell_type": "code",
   "execution_count": 190,
   "metadata": {},
   "outputs": [],
   "source": [
    "df = pd.read_csv('daten/raw_data.csv')"
   ]
  },
  {
   "cell_type": "code",
   "execution_count": 198,
   "metadata": {},
   "outputs": [
    {
     "data": {
      "text/plain": [
       "0     187.54\n",
       "1     156.81\n",
       "2     163.02\n",
       "3     148.73\n",
       "4     178.53\n",
       "5      75.91\n",
       "6     190.02\n",
       "7     147.64\n",
       "8     177.22\n",
       "9     189.39\n",
       "10    180.32\n",
       "11    195.44\n",
       "12    150.60\n",
       "13    117.63\n",
       "14    172.21\n",
       "15    159.32\n",
       "16    187.95\n",
       "17     85.82\n",
       "18    113.93\n",
       "19    186.44\n",
       "20    113.00\n",
       "21    134.82\n",
       "22    112.48\n",
       "23    131.73\n",
       "24    184.00\n",
       "25    117.30\n",
       "26    168.74\n",
       "27    148.82\n",
       "28    171.20\n",
       "29    137.40\n",
       "30    174.16\n",
       "31    145.54\n",
       "32    105.50\n",
       "33    167.14\n",
       "34    173.62\n",
       "35    103.40\n",
       "36     53.80\n",
       "37    107.74\n",
       "38     66.48\n",
       "39    164.72\n",
       "40    161.36\n",
       "41    152.64\n",
       "42      6.27\n",
       "43    193.02\n",
       "44    188.86\n",
       "45    154.61\n",
       "46    144.22\n",
       "47    127.05\n",
       "48    176.70\n",
       "49     76.34\n",
       "50    102.22\n",
       "51    159.32\n",
       "dtype: float64"
      ]
     },
     "execution_count": 198,
     "metadata": {},
     "output_type": "execute_result"
    }
   ],
   "source": [
    "df.loc[:,['mobile_money_2014', 'ease_doing_business_index', 'hh_av_size']].sum(axis=1)"
   ]
  },
  {
   "cell_type": "code",
   "execution_count": null,
   "metadata": {},
   "outputs": [],
   "source": [
    "\n",
    "RISE_INDICES = ['rise_grid', 'rise_mg', 'rise_shs']\n",
    "SHIFT_MENTI = ['shift_menti_mg', 'shift_menti_shs']\n",
    "#=WENN(SUMME(S22:W22)=0;0;S22*$RT_shift_factors.$O$2/(SUMME($S22:$U22)*$RT_shift_factors.$O$2+SUMME($V22:$W22)*$RT_shift_factors.$P$2))\n",
    "\n",
    "SUMME(S22:W22) --> df.loc[:,RISE_INDICES + SHIFT_MENTI].sum(axis=1)\n",
    "SUMME($S22:$U22) --> df.loc[:,RISE_INDICES].sum(axis=1)\n",
    "SUMME($V22:$W22) --> df.loc[:,SHIFT_MENTI].sum(axis=1)\n",
    "answer = 1\n",
    "if SUMME(S22:W22)=0;\n",
    "    answer = 0\n",
    "else:S22*$RT_shift_factors.$O$2/(SUMME($S22:$U22)*$RT_shift_factors.$O$2+SUMME($V22:$W22)*$RT_shift_factors.$P$2))\n",
    "df['shift_grid_share'] = df['']\n",
    "\n",
    "df.loc[:,['mobile_money_2014', 'ease_doing_business_index', 'hh_av_size']].sum(axis=1)\n",
    "\n",
    "#=WENN(SUMME(S22:W22)=0;0;(T22*$RT_shift_factors.$O$2+V22*$RT_shift_factors.$P$2)/(SUMME($S22:$U22)*$RT_shift_factors.$O$2+SUMME($V22:$W22)*$RT_shift_factors.$P$2))\n",
    "\n",
    "df['shift_grid_to_mg_share'] = df['']\n",
    "\n",
    "#=WENN(SUMME(S23:W23)=0;0;(U23*$RT_shift_factors.$O$2+W23*$RT_shift_factors.$P$2)/(SUMME($S23:$U23)*$RT_shift_factors.$O$2+SUMME($V23:$W23)*$RT_shift_factors.$P$2))\n",
    "\n",
    "df['shift_grid_to_shs_share'] = df['']\n",
    "\n",
    "#=WENN(Y24>=X24;$Y24*D24;0)\n",
    "\n",
    "df['shift_pop_grid_to_mg'] = df['']\n",
    "\n",
    "#=WENN(Z25>=X25;Z25*$D25;0)\n",
    "\n",
    "df['shift_pop_grid_to_shs'] = df['']"
   ]
  },
  {
   "cell_type": "code",
   "execution_count": null,
   "metadata": {},
   "outputs": [],
   "source": [
    "#=WENN(Q22<4,5;0;WENN(Q22<=9;0,5;WENN(Q22>9;1;\"NA\")))\n",
    "\n",
    "def map_weak_grid_class(weak_grid_idx):\n",
    "    \"\"\"Assign an index value to differentiate weak grid\"\"\"\n",
    "    answer = 1\n",
    "    if weak_grid_idx <= 4.5:\n",
    "        answer = 0.5\n",
    "    if weak_grid_idx <= 9:\n",
    "        answer = 0\n",
    "    return answer\n",
    "\n",
    "df['weak_grid_class'] = df['weak_grid_index'].map(map_weak_grid_class, na_action='ignore')"
   ]
  },
  {
   "cell_type": "code",
   "execution_count": 195,
   "metadata": {},
   "outputs": [],
   "source": [
    "#=WENN(O25<26;0;WENN(O25<=33;0,5;WENN(O25>33;1;\"NA\")))\n",
    "\n",
    "def map_corruption_class(corruption_idx):\n",
    "    \"\"\"Assign an index value to differentiate corruption\"\"\"\n",
    "    answer = 1\n",
    "    if corruption_idx <= 33:\n",
    "        answer = 0.5\n",
    "    if corruption_idx <= 26:\n",
    "        answer = 0\n",
    "    return answer\n",
    "\n",
    "df['corruption_class'] = df['corruption_index'].map(map_corruption_class, na_action='ignore')\n",
    "\n"
   ]
  },
  {
   "cell_type": "code",
   "execution_count": 193,
   "metadata": {},
   "outputs": [],
   "source": [
    "#=WENN(M22<131;0;WENN(M22<=164;0,5;WENN(M22>164;1;\"NA\")))\n",
    "\n",
    "def map_ease_doing_business_class(business_ease):\n",
    "    \"\"\"Assign an index value to differentiate ease of doing business\"\"\"\n",
    "    answer = 1\n",
    "    if business_ease <= 164:\n",
    "        answer = 0.5\n",
    "    if business_ease <= 131:\n",
    "        answer = 0\n",
    "    return answer\n",
    "\n",
    "df['ease_doing_business_class'] = df['ease_doing_business_index'].map(map_ease_doing_business_class, na_action='ignore')\n"
   ]
  },
  {
   "cell_type": "code",
   "execution_count": 174,
   "metadata": {},
   "outputs": [],
   "source": [
    "#Se4All\n",
    "\n",
    "def map_gdp_class(gdp_per_capita):\n",
    "    \"\"\"Assign an index value to differentiate gdp per capita\"\"\"\n",
    "    answer = 1\n",
    "    if gdp_per_capita < 1500:\n",
    "        answer = 0.5\n",
    "    if gdp_per_capita < 700:\n",
    "        answer = 0\n",
    "    return answer\n",
    "    \n",
    "df['gdp_class'] = df['gdp_per_capita'].map(map_gdp_class, na_action='ignore')"
   ]
  },
  {
   "cell_type": "code",
   "execution_count": 188,
   "metadata": {},
   "outputs": [],
   "source": [
    "#=WENN(K5<=0,12;0;WENN(K5<=0,21;0,5;1))\n",
    "\n",
    "def map_mobile_money_class(mobile_money):\n",
    "    \"\"\"Assign an index value to differentiate mobile_money\"\"\"\n",
    "    answer = 1\n",
    "    if mobile_money <= 0.21:\n",
    "        answer = 0.5\n",
    "    if mobile_money <= 0.12:\n",
    "        answer = 0\n",
    "    return answer\n",
    "\n",
    "df['mobile_money'] = df['mobile_money_2017'].fillna(df['mobile_money_2014'])\n",
    "df['mobile_money_class'] = df['mobile_money'].map(map_mobile_money_class, na_action='ignore').fillna(0)"
   ]
  },
  {
   "cell_type": "code",
   "execution_count": null,
   "metadata": {},
   "outputs": [],
   "source": [
    "map('I am a {}'.format, na_action='ignore')\n",
    "#=WENN(G4<700;0;WENN(G4<1500;0,5;1))\n",
    "#if G4<700;\n",
    "    0;\n",
    "elif G4<1500;\n",
    "0,5;\n",
    "else\n",
    "1)"
   ]
  }
 ],
 "metadata": {
  "kernelspec": {
   "display_name": "Python 3",
   "language": "python",
   "name": "python3"
  },
  "language_info": {
   "codemirror_mode": {
    "name": "ipython",
    "version": 3
   },
   "file_extension": ".py",
   "mimetype": "text/x-python",
   "name": "python",
   "nbconvert_exporter": "python",
   "pygments_lexer": "ipython3",
   "version": "3.6.7"
  }
 },
 "nbformat": 4,
 "nbformat_minor": 2
}
